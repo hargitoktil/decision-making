{
 "cells": [
  {
   "cell_type": "markdown",
   "metadata": {},
   "source": [
    "## Python Data Structures\n",
    "Created by: Isman Kurniawan"
   ]
  },
  {
   "cell_type": "markdown",
   "metadata": {},
   "source": [
    "## Python lists"
   ]
  },
  {
   "cell_type": "markdown",
   "metadata": {},
   "source": [
    "### Creating a list"
   ]
  },
  {
   "cell_type": "code",
   "execution_count": null,
   "metadata": {},
   "outputs": [],
   "source": [
    "height = 1.56\n",
    "count = 10\n",
    "message = \"Good morning\"\n",
    "short = True"
   ]
  },
  {
   "cell_type": "code",
   "execution_count": null,
   "metadata": {},
   "outputs": [],
   "source": [
    "heights = [1.56, 1.45, 1.78, 1.54]"
   ]
  },
  {
   "cell_type": "code",
   "execution_count": null,
   "metadata": {},
   "outputs": [],
   "source": [
    "heights"
   ]
  },
  {
   "cell_type": "markdown",
   "metadata": {},
   "source": [
    "### A list with different data type"
   ]
  },
  {
   "cell_type": "code",
   "execution_count": null,
   "metadata": {},
   "outputs": [],
   "source": [
    "member = [\"roy\", 1.56, \"mark\", 1.45, \"thomas\", 1.78, \"anne\", 1.54]"
   ]
  },
  {
   "cell_type": "code",
   "execution_count": null,
   "metadata": {},
   "outputs": [],
   "source": [
    "member"
   ]
  },
  {
   "cell_type": "markdown",
   "metadata": {},
   "source": [
    "### Lists in a list"
   ]
  },
  {
   "cell_type": "code",
   "execution_count": null,
   "metadata": {},
   "outputs": [],
   "source": [
    "member2 = [[\"roy\", 1.56], \n",
    "          [\"mark\", 1.45], \n",
    "          [\"thomas\", 1.78], \n",
    "           [\"anne\", 1.54]]"
   ]
  },
  {
   "cell_type": "code",
   "execution_count": null,
   "metadata": {},
   "outputs": [],
   "source": [
    "member2"
   ]
  },
  {
   "cell_type": "markdown",
   "metadata": {},
   "source": [
    "### Changing the value of list"
   ]
  },
  {
   "cell_type": "code",
   "execution_count": null,
   "metadata": {},
   "outputs": [],
   "source": [
    "member = [\"roy\", 1.56, \"mark\", 1.45, \"thomas\", 1.78, \"anne\", 1.54]\n",
    "\n",
    "member[1] = 1.42\n",
    "member"
   ]
  },
  {
   "cell_type": "code",
   "execution_count": null,
   "metadata": {},
   "outputs": [],
   "source": [
    "member = [\"roy\", 1.56, \"mark\", 1.45, \"thomas\", 1.78, \"anne\", 1.54]\n",
    "\n",
    "member[2:4] = [\"bryan\", 1.78]\n",
    "member"
   ]
  },
  {
   "cell_type": "markdown",
   "metadata": {},
   "source": [
    "### Adding new element with \"append\""
   ]
  },
  {
   "cell_type": "code",
   "execution_count": null,
   "metadata": {},
   "outputs": [],
   "source": [
    "# define a list\n",
    "member = [\"roy\", 1.56, \"mark\", 1.45, \"thomas\", 1.78, \"anne\", 1.54]\n",
    "# define new element\n",
    "new_member = [\"bryan\", 1.78]\n",
    "# adding new element with append\n",
    "member.append(new_member)\n",
    "member"
   ]
  },
  {
   "cell_type": "markdown",
   "metadata": {},
   "source": [
    "### Adding new element with \"extend\""
   ]
  },
  {
   "cell_type": "code",
   "execution_count": null,
   "metadata": {},
   "outputs": [],
   "source": [
    "# define a list\n",
    "member = [\"roy\", 1.56, \"mark\", 1.45, \"thomas\", 1.78, \"anne\", 1.54]\n",
    "# define new element\n",
    "new_member = [\"bryan\", 1.78]\n",
    "# adding new element with extend\n",
    "member.extend(new_member)\n",
    "member"
   ]
  },
  {
   "cell_type": "markdown",
   "metadata": {},
   "source": [
    "### Adding new element with \"insert\""
   ]
  },
  {
   "cell_type": "code",
   "execution_count": null,
   "metadata": {},
   "outputs": [],
   "source": [
    "# define a list\n",
    "member = [\"roy\", 1.56, \"mark\", 1.45, \"thomas\", 1.78, \"anne\", 1.54]\n",
    "# define new element\n",
    "new_member_name = \"bryan\"\n",
    "new_member_height = 1.78\n",
    "# adding new element with insert\n",
    "member.insert(2,new_member_name)\n",
    "member.insert(3,new_member_height)\n",
    "member"
   ]
  },
  {
   "cell_type": "markdown",
   "metadata": {},
   "source": [
    "### Searching index of an element"
   ]
  },
  {
   "cell_type": "code",
   "execution_count": null,
   "metadata": {},
   "outputs": [],
   "source": [
    "# define a list\n",
    "member = [\"roy\", 1.56, \"mark\", 1.45, \"thomas\", 1.78, \"anne\", 1.54]\n",
    "# search index of \"mark\" element\n",
    "member.index(\"mark\")"
   ]
  },
  {
   "cell_type": "code",
   "execution_count": null,
   "metadata": {},
   "outputs": [],
   "source": [
    "# search index of \"robert\" element\n",
    "member.index(\"robert\")"
   ]
  },
  {
   "cell_type": "markdown",
   "metadata": {},
   "source": [
    "### Removing element with \"remove\""
   ]
  },
  {
   "cell_type": "code",
   "execution_count": null,
   "metadata": {},
   "outputs": [],
   "source": [
    "# define a list\n",
    "member = [\"roy\", 1.56, \"mark\", 1.45, \"thomas\", 1.78, \"anne\", 1.54]\n",
    "# removing the element of \"mark\" and his height \n",
    "member.remove(\"mark\")\n",
    "member.remove(1.45)\n",
    "member"
   ]
  },
  {
   "cell_type": "markdown",
   "metadata": {},
   "source": [
    "### Removing element with \"pop\""
   ]
  },
  {
   "cell_type": "code",
   "execution_count": null,
   "metadata": {},
   "outputs": [],
   "source": [
    "# define a list\n",
    "member = [\"roy\", 1.56, \"mark\", 1.45, \"thomas\", 1.78, \"anne\", 1.54]\n",
    "# removing the element of \"mark\" and his height \n",
    "member.pop()\n",
    "member"
   ]
  },
  {
   "cell_type": "markdown",
   "metadata": {},
   "source": [
    "### Counting the number of element in a list"
   ]
  },
  {
   "cell_type": "code",
   "execution_count": null,
   "metadata": {},
   "outputs": [],
   "source": [
    "# define a list\n",
    "my_list = ['a', 'b', 'b', 'c']\n",
    "# count the number of element in list\n",
    "len(my_list)"
   ]
  },
  {
   "cell_type": "markdown",
   "metadata": {},
   "source": [
    "### Counting the occurrences of element"
   ]
  },
  {
   "cell_type": "code",
   "execution_count": null,
   "metadata": {},
   "outputs": [],
   "source": [
    "# define a list\n",
    "my_list = ['a', 'b', 'b', 'c']\n",
    "# count 'b'\n",
    "my_list.count('b')"
   ]
  },
  {
   "cell_type": "markdown",
   "metadata": {},
   "source": [
    "### Sorting a list"
   ]
  },
  {
   "cell_type": "code",
   "execution_count": null,
   "metadata": {},
   "outputs": [],
   "source": [
    "# define a list\n",
    "my_list = [1, 6, 4, 9, 3, 2]\n",
    "# sorting list\n",
    "my_list.sort()\n",
    "my_list"
   ]
  },
  {
   "cell_type": "markdown",
   "metadata": {},
   "source": [
    "### Copy a list to new list"
   ]
  },
  {
   "cell_type": "code",
   "execution_count": null,
   "metadata": {},
   "outputs": [],
   "source": [
    "# define a list\n",
    "old_list = ['a', 'b', 'b', 'c']\n",
    "# copy to new list\n",
    "new_list = old_list\n",
    "# edit new list\n",
    "new_list[0] = 'z'\n",
    "# print the list\n",
    "print('old_list: {}'.format(old_list))\n",
    "print('new_list: {}'.format(new_list))"
   ]
  },
  {
   "cell_type": "code",
   "execution_count": null,
   "metadata": {},
   "outputs": [],
   "source": [
    "# define a list\n",
    "old_list = ['a', 'b', 'b', 'c']\n",
    "# copy to new list\n",
    "new_list = old_list[:]\n",
    "# edit new list\n",
    "new_list[0] = 'z'\n",
    "# print the list\n",
    "print('old_list: {}'.format(old_list))\n",
    "print('new_list: {}'.format(new_list))"
   ]
  },
  {
   "cell_type": "markdown",
   "metadata": {},
   "source": [
    "### Find maximum value with numpy"
   ]
  },
  {
   "cell_type": "code",
   "execution_count": null,
   "metadata": {},
   "outputs": [],
   "source": [
    "# load numpy library\n",
    "import numpy as np\n",
    "\n",
    "# find the maximum value\n",
    "my_list = [3, 6, 4, 5, 9, 2, 1]\n",
    "np.max(my_list)"
   ]
  },
  {
   "cell_type": "markdown",
   "metadata": {},
   "source": [
    "### Find minimum value with numpy"
   ]
  },
  {
   "cell_type": "code",
   "execution_count": null,
   "metadata": {},
   "outputs": [],
   "source": [
    "# load numpy library\n",
    "import numpy as np\n",
    "\n",
    "# find the minimum value\n",
    "my_list = [3, 6, 4, 5, 9, 2, 1]\n",
    "np.min(my_list)"
   ]
  },
  {
   "cell_type": "markdown",
   "metadata": {},
   "source": [
    "### Calculate the sum of list"
   ]
  },
  {
   "cell_type": "code",
   "execution_count": null,
   "metadata": {},
   "outputs": [],
   "source": [
    "# load numpy library\n",
    "import numpy as np\n",
    "\n",
    "# sum the list\n",
    "my_list = [3, 6, 4, 5, 9, 2, 1]\n",
    "np.sum(my_list)"
   ]
  },
  {
   "cell_type": "markdown",
   "metadata": {},
   "source": [
    "### Calculate the average value of list"
   ]
  },
  {
   "cell_type": "code",
   "execution_count": null,
   "metadata": {},
   "outputs": [],
   "source": [
    "# load numpy library\n",
    "import numpy as np\n",
    "\n",
    "# calculate the average value\n",
    "my_list = [3, 6, 4, 5, 9, 2, 1]\n",
    "np.mean(my_list)"
   ]
  },
  {
   "cell_type": "markdown",
   "metadata": {},
   "source": [
    "## Python tupple"
   ]
  },
  {
   "cell_type": "markdown",
   "metadata": {},
   "source": [
    "### List vs tupple"
   ]
  },
  {
   "cell_type": "code",
   "execution_count": null,
   "metadata": {},
   "outputs": [],
   "source": [
    "# define a list\n",
    "my_list = ['a', 'b', 'b', 'c']\n",
    "\n",
    "# change the value of list\n",
    "my_list[1] = 'e'\n",
    "my_list"
   ]
  },
  {
   "cell_type": "code",
   "execution_count": null,
   "metadata": {},
   "outputs": [],
   "source": [
    "# define a list\n",
    "my_tupple = ('a', 'b', 'b', 'c')\n",
    "\n",
    "# change the value of tuple\n",
    "my_tupple[1] = 'e'\n",
    "my_tupple"
   ]
  },
  {
   "cell_type": "markdown",
   "metadata": {},
   "source": [
    "## Python sets"
   ]
  },
  {
   "cell_type": "markdown",
   "metadata": {},
   "source": [
    "### List vs set"
   ]
  },
  {
   "cell_type": "code",
   "execution_count": null,
   "metadata": {},
   "outputs": [],
   "source": [
    "# define a list\n",
    "my_list = ['a', 'b', 'b', 'c']\n",
    "\n",
    "# define a sets\n",
    "my_set = set(my_list)\n",
    "my_set"
   ]
  },
  {
   "cell_type": "markdown",
   "metadata": {},
   "source": [
    "### Union operation of sets"
   ]
  },
  {
   "cell_type": "code",
   "execution_count": null,
   "metadata": {},
   "outputs": [],
   "source": [
    "# define a list\n",
    "set_1 = set([1, 2, 3, 4])\n",
    "set_2 = set([3, 4, 5, 6])\n",
    "\n",
    "# union operation\n",
    "set_3 = set_1.union(set_2)\n",
    "set_3"
   ]
  },
  {
   "cell_type": "markdown",
   "metadata": {},
   "source": [
    "### Intersection operation of sets"
   ]
  },
  {
   "cell_type": "code",
   "execution_count": null,
   "metadata": {},
   "outputs": [],
   "source": [
    "# define a list\n",
    "set_1 = set([1, 2, 3, 4])\n",
    "set_2 = set([3, 4, 5, 6])\n",
    "\n",
    "# intersection operation\n",
    "set_3 = set_1.intersection(set_2)\n",
    "set_3"
   ]
  },
  {
   "cell_type": "markdown",
   "metadata": {},
   "source": [
    "### Difference operation of sets"
   ]
  },
  {
   "cell_type": "code",
   "execution_count": null,
   "metadata": {},
   "outputs": [],
   "source": [
    "# define a list\n",
    "set_1 = set([1, 2, 3, 4])\n",
    "set_2 = set([3, 4, 5, 6])\n",
    "\n",
    "# difference operation\n",
    "set_3 = set_1.difference(set_2)\n",
    "set_3"
   ]
  },
  {
   "cell_type": "markdown",
   "metadata": {},
   "source": [
    "## Python dictionaries"
   ]
  },
  {
   "cell_type": "markdown",
   "metadata": {},
   "source": [
    "### Creating new dictionary"
   ]
  },
  {
   "cell_type": "code",
   "execution_count": null,
   "metadata": {},
   "outputs": [],
   "source": [
    "# creating dictionary\n",
    "capital = {'indonesia': 'jakarta',\n",
    "          'thailand': 'bangkok',\n",
    "          'malaysia': 'kuala lumpur',\n",
    "          'philippines': 'manila'}"
   ]
  },
  {
   "cell_type": "code",
   "execution_count": null,
   "metadata": {},
   "outputs": [],
   "source": [
    "# print the dictionary\n",
    "capital"
   ]
  },
  {
   "cell_type": "markdown",
   "metadata": {},
   "source": [
    "### Printing keys and values of a dictionary"
   ]
  },
  {
   "cell_type": "code",
   "execution_count": null,
   "metadata": {},
   "outputs": [],
   "source": [
    "# print all keys\n",
    "capital.keys()"
   ]
  },
  {
   "cell_type": "code",
   "execution_count": null,
   "metadata": {},
   "outputs": [],
   "source": [
    "# print all values\n",
    "capital.values()"
   ]
  },
  {
   "cell_type": "code",
   "execution_count": null,
   "metadata": {},
   "outputs": [],
   "source": [
    "# print subvalues\n",
    "capital['indonesia']"
   ]
  },
  {
   "cell_type": "markdown",
   "metadata": {},
   "source": [
    "### Adding new element to dictionary"
   ]
  },
  {
   "cell_type": "code",
   "execution_count": null,
   "metadata": {},
   "outputs": [],
   "source": [
    "# creating dictionary\n",
    "capital = {'indonesia': 'jakarta',\n",
    "          'thailand': 'bangkok',\n",
    "          'malaysia': 'kuala lumpur',\n",
    "          'philippines': 'manila'}\n",
    "\n",
    "# adding value\n",
    "capital['vietnam'] = 'hanoi'"
   ]
  },
  {
   "cell_type": "code",
   "execution_count": null,
   "metadata": {},
   "outputs": [],
   "source": [
    "capital"
   ]
  },
  {
   "cell_type": "markdown",
   "metadata": {},
   "source": [
    "### Removing element from a dictionary"
   ]
  },
  {
   "cell_type": "code",
   "execution_count": null,
   "metadata": {},
   "outputs": [],
   "source": [
    "# creating dictionary\n",
    "capital = {'indonesia': 'jakarta',\n",
    "          'thailand': 'bangkok',\n",
    "          'malaysia': 'kuala lumpur',\n",
    "          'philippines': 'manila'}\n",
    "\n",
    "# removing the key of 'thailand' and its value\n",
    "del capital['thailand']"
   ]
  },
  {
   "cell_type": "code",
   "execution_count": null,
   "metadata": {},
   "outputs": [],
   "source": [
    "capital"
   ]
  }
 ],
 "metadata": {
  "kernelspec": {
   "display_name": "Python 3",
   "language": "python",
   "name": "python3"
  },
  "language_info": {
   "codemirror_mode": {
    "name": "ipython",
    "version": 3
   },
   "file_extension": ".py",
   "mimetype": "text/x-python",
   "name": "python",
   "nbconvert_exporter": "python",
   "pygments_lexer": "ipython3",
   "version": "3.6.9"
  }
 },
 "nbformat": 4,
 "nbformat_minor": 2
}
