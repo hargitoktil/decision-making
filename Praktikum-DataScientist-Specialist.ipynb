{
 "cells": [
  {
   "cell_type": "markdown",
   "metadata": {},
   "source": [
    "<font size=\"5\"><b>Kementerian Keuangan RI </b></font><br/>\n",
    "<font size=\"4\"><b>Badan Pendidikan dan Pelatihan Keuangan<b/></font><br/>\n",
    "<font size=\"4\"><b>Pusdiklat Keuangan Umum<b/></font><br/>\n",
    "### Praktikum Data Scientist Specialist\n",
    "\n",
    "***\n",
    "### Perhatikan petunjuk pengisian berikut :\n",
    "\n",
    "1. Tujuan praktikum ini adalah untuk mengukur kemampuan Anda dalam melakukan pengolahan data dan mengaplikasikan metode-metode machine learning.\n",
    "2. Anda diperbolehkan melihat file <u>jupyter-notebook yang telah disediakan sebelumnya atau menggunakan search engine </u> untuk menyelesaikan soal-soal yang disediakan.\n",
    "3. Perhatikan petunjuk pengisian pada masing-masing bagian. Tambahan pekerjaan (step) untuk pengolahan data akan memberikan nilai bonus.\n",
    "4. <font color=\"red\"><b>Waktu menyelesaikan</b></font> seluruh soal berikut adalah <font color=\"red\"><b>60 menit</b></font>.\n",
    "***"
   ]
  },
  {
   "cell_type": "markdown",
   "metadata": {},
   "source": [
    "Tuliskan Nama dan NIP Anda :\n",
    "\n",
    "\n",
    "\n"
   ]
  },
  {
   "cell_type": "markdown",
   "metadata": {},
   "source": [
    "***"
   ]
  },
  {
   "cell_type": "markdown",
   "metadata": {},
   "source": [
    "## Data Science Story Project\n",
    "> Anda diminta oleh Kementerian Kelautan Republik sebelah sana untuk membangun model yang akan digunakan untuk mengklasifikasikan suatu spesies ikan dari berat, dan ukuran suatu ikan. \n",
    "\n",
    "> Anda diminta untuk membuat model klasifikasi yang paling akurat dari beberapa model yang ada, **paling sedikit memuat 3 model** antara lain yaitu **Logistic Regression, RandomForest, Support Vector Machine, dan/atau Multi Layer Perceptron**,. \n",
    "\n",
    "> Anda juga diminta untuk memberikan perbandingan model berdasarkan akurasi.\n",
    "\n",
    "\n",
    "Terdapat tahapan pada jupyter notebook yang sudah dilengkapi secara default, namun Anda diminta untuk tetap melakukan tahapan-tahapan dasar standard *machine learning* yaitu *exploratory data analysis* sebelum membangun model.\n",
    "### Import library dan load dataset"
   ]
  },
  {
   "cell_type": "markdown",
   "metadata": {},
   "source": [
    "**1. Hal yang pertama kali harus dilakukan adalah meng-import *library* pandas dan numpy.**"
   ]
  },
  {
   "cell_type": "code",
   "execution_count": null,
   "metadata": {},
   "outputs": [],
   "source": [
    "# import libraries \n"
   ]
  },
  {
   "cell_type": "markdown",
   "metadata": {},
   "source": [
    "Selanjutnya, kita akan mengimport (load) data dalam bentuk file `csv` ke dalam objek bernama `df` dengan menggunakan *method* `read_csv`. "
   ]
  },
  {
   "cell_type": "code",
   "execution_count": null,
   "metadata": {},
   "outputs": [],
   "source": [
    "df = pd.read_csv('Fish.csv')"
   ]
  },
  {
   "cell_type": "markdown",
   "metadata": {},
   "source": [
    "### I. Exploratory Data Analysis\n",
    "Pada tahapan ini Anda diminta untuk meng-explor data "
   ]
  },
  {
   "cell_type": "markdown",
   "metadata": {},
   "source": [
    "**2. Lakukan observasi dengan menampilkan 10 data pertama !** "
   ]
  },
  {
   "cell_type": "code",
   "execution_count": null,
   "metadata": {},
   "outputs": [],
   "source": [
    "# tampilkan 10 data pertama\n"
   ]
  },
  {
   "cell_type": "markdown",
   "metadata": {},
   "source": [
    "**3. Lakukan observasi dengan menampilkan 10 data terakhir !**"
   ]
  },
  {
   "cell_type": "code",
   "execution_count": null,
   "metadata": {},
   "outputs": [],
   "source": [
    "# tampilkan 10 data terakhir\n"
   ]
  },
  {
   "cell_type": "markdown",
   "metadata": {},
   "source": [
    "Apakah ada yang aneh?\n",
    "\n",
    "Dapat dilihat pada kolom yang pertama, ada kolom yang tidak relevan, sehingga Anda dapat menghilangkan kolom tersebut.<br/>\n",
    "**5. Hilangkan kolom yang tidak relevan**\n"
   ]
  },
  {
   "cell_type": "code",
   "execution_count": null,
   "metadata": {},
   "outputs": [],
   "source": [
    "# Hilangkan kolom tidak relevan\n"
   ]
  },
  {
   "cell_type": "markdown",
   "metadata": {},
   "source": [
    "Selanjutnya, kita ingin mengetahui ada berapa baris di dalam data tersebut dengan menggunakan *method* `info`. "
   ]
  },
  {
   "cell_type": "code",
   "execution_count": null,
   "metadata": {},
   "outputs": [],
   "source": [
    "# panggil metode info\n"
   ]
  },
  {
   "cell_type": "markdown",
   "metadata": {},
   "source": [
    "Terdapat 8 kolom dan 159 baris pada data tersebut. Metadata untuk dataset tersebut adalah:<br/>\n",
    "- Species name of fish\n",
    "- Weight of fish in Gram g\n",
    "- Length1 is vertical length in cm\n",
    "- Length2 is diagonal length in cm\n",
    "- Length3 is cross length in cm\n",
    "- Height in cm\n",
    "- Width is diagonal width in cm\n",
    "- Sex\n",
    "\n",
    "Dari data `info` di atas, diketahui bahwa 6 kolom adalah data *continuous* sedangkan dua kolom merupakan objek. \n"
   ]
  },
  {
   "cell_type": "markdown",
   "metadata": {},
   "source": [
    "Lanjutkan Observasi data di atas, Apakah ada data `NaN`?<br/>\n",
    "\n",
    "**6. Temukan data `NaN` dan hitung berapa jumlah record yg `NaN`**"
   ]
  },
  {
   "cell_type": "code",
   "execution_count": null,
   "metadata": {},
   "outputs": [],
   "source": []
  },
  {
   "cell_type": "markdown",
   "metadata": {},
   "source": [
    "Kita akan melakukan observasi terakhir yaitu menampilkan data apa saja di dalam kolom `Species`, dan `Sex`.\n",
    "\n",
    "**7. Tampilkan seluruh data pada kolom `Species` dan `Sex` beserta jumlahnya**"
   ]
  },
  {
   "cell_type": "code",
   "execution_count": null,
   "metadata": {},
   "outputs": [],
   "source": []
  },
  {
   "cell_type": "code",
   "execution_count": null,
   "metadata": {},
   "outputs": [],
   "source": []
  },
  {
   "cell_type": "markdown",
   "metadata": {},
   "source": [
    "## II. Data Pre-processing\n",
    "Tahapan lanjutan adalah melakukan pembersihan atau organising atas data yang dimiliki.\n",
    "\n",
    "> Namun, diketahui bahwa, terdapat *feature* (kolom) terdapat nilai `NaN`, di samping nilai yang sesungguhnya.\n",
    "\n",
    "**8. Langkah apa yang akan Anda lakukan?**<br/>\n",
    "\n",
    "Tuliskan Langkah-langkah Anda di bawah ini:"
   ]
  },
  {
   "cell_type": "markdown",
   "metadata": {},
   "source": [
    "Jawaban Anda:\n",
    "\n",
    "\n"
   ]
  },
  {
   "cell_type": "markdown",
   "metadata": {},
   "source": [
    "\n",
    "\n",
    "\n",
    "\n"
   ]
  },
  {
   "cell_type": "markdown",
   "metadata": {},
   "source": [
    "**9. Lakukan Langkah Yang Anda telah jelaskan di atas**"
   ]
  },
  {
   "cell_type": "code",
   "execution_count": null,
   "metadata": {},
   "outputs": [],
   "source": []
  },
  {
   "cell_type": "code",
   "execution_count": null,
   "metadata": {},
   "outputs": [],
   "source": []
  },
  {
   "cell_type": "markdown",
   "metadata": {},
   "source": [
    "Diasumsikan bahwa data yang akan kita gunakan telah melalui serangkaian pembersihan data dan seterusnya. Tugas selanjutnya adalah membuat model untuk memprediksi Species berdasarkan atribut lainnya.\n",
    "\n",
    "### Lakukan train test split\n",
    "Sebelum membangun model, langkah yang harus dilakukan adalah memecah target variabel dan independent variabel. \n",
    "\n",
    "**10. Lakukan metode train test split**"
   ]
  },
  {
   "cell_type": "code",
   "execution_count": null,
   "metadata": {},
   "outputs": [],
   "source": [
    "# Import train_test_split\n",
    "\n",
    "\n",
    "# X merupakan dataset kecuali target variabel\n",
    "\n",
    "\n",
    "# Y merupakan target variabel yaitu Species\n",
    "\n",
    "\n",
    "# kita gunakan 70% atau 80% data training (silakan pilih)\n",
    "\n",
    "\n",
    "# Creation of Train and Test dataset\n",
    "\n",
    "\n",
    "# Creation of Train and validation dataset\n",
    "\n"
   ]
  },
  {
   "cell_type": "markdown",
   "metadata": {},
   "source": [
    "Selanjutnya kita akan meng-import beberapa alat pengukuran "
   ]
  },
  {
   "cell_type": "code",
   "execution_count": null,
   "metadata": {},
   "outputs": [],
   "source": [
    "from sklearn import model_selection\n",
    "from sklearn.metrics import accuracy_score\n",
    "from sklearn.metrics import classification_report\n",
    "from sklearn.metrics import confusion_matrix"
   ]
  },
  {
   "cell_type": "markdown",
   "metadata": {},
   "source": [
    "**11. Lakukan Pembuatan model-model sesuai dengan pilihan Anda**<br/>\n",
    "Perhatikan bahwa Anda diminta membuat **minimal 3 model** !"
   ]
  },
  {
   "cell_type": "code",
   "execution_count": null,
   "metadata": {},
   "outputs": [],
   "source": [
    "# import library\n",
    "\n",
    "\n",
    "# buat objek model\n",
    "\n",
    "\n",
    "# fit model\n",
    "\n",
    "\n",
    "# panggil fungsi predict\n"
   ]
  },
  {
   "cell_type": "code",
   "execution_count": null,
   "metadata": {},
   "outputs": [],
   "source": [
    "print ('-'*40)\n",
    "print ('Accuracy score:')\n",
    "print (accuracy_score(y_test, _prediction))\n",
    "print ('-'*40)\n",
    "print ('Confusion Matrix:')\n",
    "print (confusion_matrix(y_test, _prediction))\n",
    "print ('-'*40)\n",
    "print ('Classification Matrix:')\n",
    "print (classification_report(y_test, _prediction))"
   ]
  },
  {
   "cell_type": "markdown",
   "metadata": {},
   "source": [
    "Apabila akurasi model Anda masih di bawah 80%, maka Lakukan langkah *hyperparameter tuning* dengan mengubah konfigurasi default."
   ]
  },
  {
   "cell_type": "markdown",
   "metadata": {},
   "source": [
    "**12. Jelaskan hasil pada model Anda di atas**<br/>\n",
    "- Apakah sudah sesuai dengan keinginan dan ekspektasi Anda?\n",
    "- Model apa yang memiliki tingkat akurasi tertinggi?"
   ]
  },
  {
   "cell_type": "code",
   "execution_count": null,
   "metadata": {},
   "outputs": [],
   "source": []
  }
 ],
 "metadata": {
  "kernelspec": {
   "display_name": "Python 3",
   "language": "python",
   "name": "python3"
  },
  "language_info": {
   "codemirror_mode": {
    "name": "ipython",
    "version": 3
   },
   "file_extension": ".py",
   "mimetype": "text/x-python",
   "name": "python",
   "nbconvert_exporter": "python",
   "pygments_lexer": "ipython3",
   "version": "3.6.4"
  }
 },
 "nbformat": 4,
 "nbformat_minor": 2
}
