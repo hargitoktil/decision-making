{
 "cells": [
  {
   "cell_type": "markdown",
   "metadata": {},
   "source": [
    "# Introduction to Regression\n",
    "\n",
    "*Linear Model* merupakan salah satu teknik yang paling umum digunakan dalam *supervised learning*. \n",
    "\n",
    "Pada kertas kerja ini, kita akan membahas 3 model linear yang akan digunakan untuk *regression* dan *classification*. Sebelumnya, kita akan membahas mengenai permasalahan regresi terlebih dahulu dengan menggunakan persamaan linear.\n",
    "\n",
    "## Regression\n",
    "Terdapat 3 (tiga) jenis linear regresi yang digunakan, \n",
    "\n",
    "* Simple Linear Regression: <br>\n",
    "Persamaan regresi linear sederhana hanya terdiri dari 2 parameter utama. Sehingga, persamaan tersebut dapat kita tuliskan sebagai berikut: $\\displaystyle y=mx+b+\\epsilon $.\n",
    "\n",
    "* Multiple Linear Regression:<br>\n",
    "Persamaan regresi ini memiliki banyak variabel, namun memiliki dimensi tinggi *higher order dimension*. Persamaan tersebut dapat dituliskan sebagai berikut: $\\displaystyle y=m_{1} x_{1} +m_{2} x_{2} +m_{3} x_{3} +b+\\epsilon $\n",
    "    \n",
    "* Polynomial Regression:<br>\n",
    "Persamaan *polynomial* memiliki derajat fleksibilitas tinggi. Pada umumnya, garis yang terbentuk dari funsi persamaan terlihat seperti gelombang. Persamaan tersebut dapat dituliskan sebagai berikut:\n",
    "$\\displaystyle y=m_{1} x_{1} +m_{2} x^{2}_{2} +m_{3} x^{3}_{3} +m_{i} x^{n}_{i} +b$\n",
    "\n",
    "### Simple Linear Regression \n",
    "Bagian ini akan mendiskusikan mengenai *Simple linear regression* dengan cara membuat data dan sebarannya, kemudian kita akan mencari nilai parameter $x$.\n",
    "\n",
    "Pertama, lakukan import library yang dibutuhkan. Terdapat 2 *library* yang kita butuhkan yatu *numpy* dan *matplotlib*. *Numpy* digunakan untuk membuat variabel dalam bentuk matriks sedangkan *matplotlib* digunakan untuk mem-plot atau memvisualisasikan data dalam bentuk *chart*.\n"
   ]
  },
  {
   "cell_type": "code",
   "execution_count": null,
   "metadata": {},
   "outputs": [],
   "source": [
    "#Import library\n",
    "import numpy as np\n",
    "import matplotlib.pyplot as plt\n",
    "%matplotlib inline"
   ]
  },
  {
   "cell_type": "markdown",
   "metadata": {},
   "source": [
    "#### Buat data dummy\n",
    "Pertama, kita akan men-generate 100 data *dummy* dengan memanfaatkan fungsi *uniform random distribution*. Data yang kita buat harus ke dalam rentang [0,1] dengan fungsi $ runif \\in [0,1]$. Data ini akan digunakan sebagai input X."
   ]
  },
  {
   "cell_type": "code",
   "execution_count": null,
   "metadata": {},
   "outputs": [],
   "source": [
    "# 100 samples uniform data\n",
    "runif = np.random.uniform(size=100)\n",
    "X = runif * 100"
   ]
  },
  {
   "cell_type": "markdown",
   "metadata": {},
   "source": [
    "Berikutnya, kita akan menentukan koefisien *m* dan *b* dari persamaan linear, dan men-generate data *Y*. Di tahap ini kita akan memperkenalkan *noise* dalam data kita. *Noise* ini di-generate dari data distribusi random normal*(gaussian distribution)*.\n"
   ]
  },
  {
   "cell_type": "code",
   "execution_count": null,
   "metadata": {},
   "outputs": [],
   "source": [
    "# m and b coefficients\n",
    "m,b = 4,6\n",
    "# generate noise data\n",
    "noise = np.random.normal(size=100) * 10\n",
    "# generate Y data\n",
    "Y = (m*X) + b + noise"
   ]
  },
  {
   "cell_type": "markdown",
   "metadata": {},
   "source": [
    "Kedua data *X* dan *Y* memiliki bentuk **ndArray (Numpy Array)** sebagai bentuk *native* dari matriks."
   ]
  },
  {
   "cell_type": "code",
   "execution_count": null,
   "metadata": {},
   "outputs": [],
   "source": [
    "# Plot the data\n",
    "plt.figure(figsize=(16, 8)) # setting dimensi plot\n",
    "plt.xlabel('X') # nama label untuk x-axis\n",
    "plt.ylabel('Y') # nama label untuk y-axis\n",
    "plt.scatter(X, Y, c='black') # c='black' digunakan untuk setting warna setiap data\n",
    "plt.show()"
   ]
  },
  {
   "cell_type": "markdown",
   "metadata": {},
   "source": [
    "Untuk mencari linearlity kita bisa memanfaatkan rumus persamaan regresi linear berikut ini:\n",
    "\\begin{gather*}\n",
    "m=\\frac{\\sum y_{i} x_{i} \\ -\\ \\overline{y}\\sum x_{i}}{\\sum x^{2}_{i} -\\overline{x}\\sum x_{i}}\\\\\n",
    "b=\\frac{\\overline{y}\\sum x^{2}_{i} -\\overline{x}\\sum y_{i} x_{i}}{\\sum x^{2}_{i} -\\overline{x}\\sum x_{i}}\n",
    "\\end{gather*}\n",
    "\n",
    "Dengan rumus tersebut di atas, maka kita bisa mendapatkan koefisien *m* dan *b* secara mudah.\n",
    "\\begin{equation*}\n",
    "\\hat{y} \\ =\\ mx\\ +\\ b\n",
    "\\end{equation*}\n",
    "\n",
    "Kali ini kita akan menuliskan persamaan tersebut ke dalam bentuk kode sumber berikut ini:"
   ]
  },
  {
   "cell_type": "code",
   "execution_count": null,
   "metadata": {},
   "outputs": [],
   "source": [
    "# compute the denominator as d\n",
    "d = np.sum(X*X) - (X.mean() * np.sum(X))\n",
    "# compute m and b coefficients\n",
    "m_reg = (np.sum(X * Y) - Y.mean()*np.sum(X))/d\n",
    "b_reg = (Y.mean() * np.sum(X * X) - X.mean() * np.sum(X * Y) )/ d"
   ]
  },
  {
   "cell_type": "markdown",
   "metadata": {},
   "source": [
    "Setelah itu, kita bisa tampilkan estimasi dari koefisien *m* dan *b* yang kita dapatkan melalui rumus di atas."
   ]
  },
  {
   "cell_type": "code",
   "execution_count": null,
   "metadata": {},
   "outputs": [],
   "source": [
    "print(\"Y = {0}x + {1}\".format(m_reg,b_reg))"
   ]
  },
  {
   "cell_type": "markdown",
   "metadata": {},
   "source": [
    "Kita bisa tampilkan persamaan tersebut di atas ke dalam bentuk plot."
   ]
  },
  {
   "cell_type": "code",
   "execution_count": null,
   "metadata": {},
   "outputs": [],
   "source": [
    "# compute the y_hat\n",
    "Y_hat = m_reg*X + b_reg\n",
    "\n",
    "# Plot the X, Y and Y_hat in one figure\n",
    "plt.figure(figsize=(16, 8))\n",
    "plt.xlabel('X')\n",
    "plt.ylabel('Y')\n",
    "plt.scatter(X, Y)\n",
    "plt.plot(X, Y_hat,c='red')\n",
    "plt.show()"
   ]
  },
  {
   "cell_type": "markdown",
   "metadata": {},
   "source": [
    "#### Simple Linear Regression dengan scikit learn\n",
    "Sekarang, alih-alih kita menuliskan kode secara manual, kita dapat memanfaatkan library *scikit learn* untuk melakukan penghitungan linear regresi. Sekarang kita akan mencoba membandingkan performa dari *scikit learn* dengan metode yang kita buat sebelumnya. Pertama, kita perlu cek versi dari *scikit-learn* yang kita miliki. Gunakan versi 0.20 ke atas."
   ]
  },
  {
   "cell_type": "code",
   "execution_count": null,
   "metadata": {},
   "outputs": [],
   "source": [
    "from sklearn import __version__ as skversion\n",
    "print('The scikit-learn version is {}.'.format(skversion))"
   ]
  },
  {
   "cell_type": "markdown",
   "metadata": {},
   "source": [
    "*LinearRegression* merupakan salah satu kelas di dalam modul *linear_model* yang digunakan untuk regresi sederhana dan multiple. Secara umum, anatomi penggunaan dari *scikit-learn* hampir semua **sama** untuk model yang ada.\n",
    "\n",
    "1. Buat objek model\n",
    "2. Panggil fungsi **fit**\n",
    "3. Panggil fungsi **predict** untuk memprediksi suatu input\n"
   ]
  },
  {
   "cell_type": "code",
   "execution_count": null,
   "metadata": {},
   "outputs": [],
   "source": [
    "from sklearn.linear_model import LinearRegression"
   ]
  },
  {
   "cell_type": "code",
   "execution_count": null,
   "metadata": {},
   "outputs": [],
   "source": [
    "X = X.reshape(-1,1)\n",
    "Y = Y.reshape(-1,1)\n",
    "model = LinearRegression()\n",
    "model.fit(X, Y)\n",
    "print(\"The linear model is: Y = {:.5}X + {:.5}\".format(model.coef_[0][0], model.intercept_[0]))"
   ]
  },
  {
   "cell_type": "code",
   "execution_count": null,
   "metadata": {},
   "outputs": [],
   "source": [
    "plt.figure(figsize=(16, 8))\n",
    "plt.xlabel('X')\n",
    "plt.ylabel('Y')\n",
    "\n",
    "predictions = model.predict(X)\n",
    "plt.scatter(X, Y)\n",
    "plt.plot(X, predictions,c='black')\n",
    "plt.show()\n",
    "\n"
   ]
  },
  {
   "cell_type": "markdown",
   "metadata": {},
   "source": [
    "Dapat kita lihat dari gambar di atas, kita bisa lihat garis hitam sebagai garis regresi dimana parameternya dibentuk oleh *scikit-learn* melalui fungsi *fit*. \n",
    "<br>\n",
    "\n",
    "#### Train, testing, split\n",
    "Permasalahan muncul apabila kita ingin mengevaluasi performa dari model yang ingin kita gunakan apabila kita menggunakan seluruh data yang ada. Padahal, kita telah menggunakan keseluruhan data yang kita miliki untuk men-training model kita. Oleh karena itu, kita harus memecah antara data training dan data testing yang kita miliki. \n",
    "\n",
    "Kali ini , kita akan menggunakan metode `train_test_split` yang disediakan oleh `sklearn`. Pertama, kita membutuhkan 3 tambahan modul yaitu `metrics, pandas` dan `train_test_split`. `Metrics` berfungsi untuk mengukur performa model yang akan kita gunakan. Kemudian `pandas` akan kita gunakan untuk menampung pecahan data. Terakhir, `train_test_split` akan digunakan dengan menggunakan 20% dari data yang dimiliki."
   ]
  },
  {
   "cell_type": "code",
   "execution_count": null,
   "metadata": {},
   "outputs": [],
   "source": [
    "from sklearn import metrics\n",
    "import pandas as pd\n",
    "from sklearn.model_selection import train_test_split"
   ]
  },
  {
   "cell_type": "code",
   "execution_count": null,
   "metadata": {},
   "outputs": [],
   "source": [
    "X_train, X_test, y_train, y_test = train_test_split(X, Y, test_size=0.2, random_state=0)"
   ]
  },
  {
   "cell_type": "code",
   "execution_count": null,
   "metadata": {},
   "outputs": [],
   "source": [
    "model = LinearRegression()  \n",
    "model.fit(X_train, y_train) #training the algorithm\n",
    "print(\"The linear model is: Y = {:.5}X + {:.5}\".format(model.coef_[0][0], model.intercept_[0]))"
   ]
  },
  {
   "cell_type": "markdown",
   "metadata": {},
   "source": [
    "Mari kita lihat seberapa jauh antara nilai sesungguhnya dengan nilai prediksi yang ada."
   ]
  },
  {
   "cell_type": "code",
   "execution_count": null,
   "metadata": {},
   "outputs": [],
   "source": [
    "y_pred = model.predict(X_test)\n",
    "df = pd.DataFrame({'Actual': y_test.flatten(), 'Predicted': y_pred.flatten()})\n",
    "df"
   ]
  },
  {
   "cell_type": "code",
   "execution_count": null,
   "metadata": {},
   "outputs": [],
   "source": [
    "df1 = df.head(25)\n",
    "df1.plot(kind='bar',figsize=(16,10))\n",
    "plt.grid(which='major', linestyle='-', linewidth='0.5', color='green')\n",
    "plt.grid(which='minor', linestyle=':', linewidth='0.5', color='black')\n",
    "plt.show()"
   ]
  },
  {
   "cell_type": "markdown",
   "metadata": {},
   "source": [
    "#### Evaluasi Performa Model\n",
    "Kali ini kita akan menggunakan 3 matriks pengukuran model di antaranya adalah *Mean Absolute Error (MEA), Mean Squared Error (MSE),* dan *Root Mean Squared Error (RMSE)*. \n",
    "\n",
    "1. Mean Aboslute Error (MEA) adalah nilai rata-rata absolut dari setiap hasil prediksi model. <br>\n",
    "$\\displaystyle MAE=\\frac{1}{n}\\sum ^{n} |y_{i} -\\hat{y}_{i} |$\n",
    "2. Mean Squared Error (MSE) adalah nilai rata-rata pangkat dua dari setiap hasil prediksi model.<br>\n",
    "$\\displaystyle MSE=\\frac{1}{n}\\sum ^{n}\\left( y_{i} -\\hat{y}^{2}_{i}\\right)$\n",
    "3. Root Mean Squared Error (RMSE) adalah akar dari MSE.<br>\n",
    "$\\displaystyle RMSE=\\sqrt{\\frac{1}{n}\\sum ^{n}\\left( y_{i} -\\hat{y}^{2}_{i}\\right)}$"
   ]
  },
  {
   "cell_type": "code",
   "execution_count": null,
   "metadata": {},
   "outputs": [],
   "source": [
    "print('Mean Absolute Error:', metrics.mean_absolute_error(y_test, y_pred))  \n",
    "print('Mean Squared Error:', metrics.mean_squared_error(y_test, y_pred))  \n",
    "print('Root Mean Squared Error:', np.sqrt(metrics.mean_squared_error(y_test, y_pred)))\n",
    "print('R squared value:', metrics.r2_score(y_test,y_pred))"
   ]
  },
  {
   "cell_type": "markdown",
   "metadata": {},
   "source": [
    "Dari pengukuran hasil di atas, terlihat bahwa besar nilai MAE dan RMSE memiliki kemiripan dengan rentang sebesar 10-12 poin. Nilai ini merupakan hasil rata-rata pengukuran setiap *\"kesalahan prediksi\"* yang dilakukan oleh model, tentunya semakin kecil nilai ini semakin baik. Sedangkan, nilai R2 sebesar 98% menandakan bahwa sebanyak 98% nilai dapat dijelaskan oleh model kita.\n",
    "\n",
    "### Multiple Linear Regression\n",
    "Pada multiple linear regression, sebagaimana persamaan berikut $\\displaystyle y=m_{1} x_{1} +m_{2} x_{2} +m_{3} x_{3} +b+\\epsilon $. Kita akan menggunakan dataset `wine`."
   ]
  },
  {
   "cell_type": "code",
   "execution_count": null,
   "metadata": {},
   "outputs": [],
   "source": [
    "from sklearn.utils import shuffle"
   ]
  },
  {
   "cell_type": "code",
   "execution_count": null,
   "metadata": {},
   "outputs": [],
   "source": [
    "df_wine = pd.read_csv('winequality.csv')\n",
    "df_wine = shuffle(df_wine)\n",
    "df_wine.reset_index(inplace=True, drop=True)"
   ]
  },
  {
   "cell_type": "code",
   "execution_count": null,
   "metadata": {},
   "outputs": [],
   "source": [
    "df_wine.describe()"
   ]
  },
  {
   "cell_type": "markdown",
   "metadata": {},
   "source": [
    "Terdapat sebanyak 1599 data dalam dataset tersebut. Sekarang, Anda diminta untuk melakukan proses pembuatan model *multiple linear regression* dengan menggunakan cara yang sama seperti di atas. \n",
    "\n",
    "Hal yang pertama kali kita lakukan terhadap data ini adalah memisahkan antara data training dan data validasi. Ambil 99 data validasi untuk data validasi."
   ]
  },
  {
   "cell_type": "code",
   "execution_count": null,
   "metadata": {},
   "outputs": [],
   "source": [
    "df_wine_validasi = df_wine.iloc[:99,:]\n",
    "df_wine = df_wine.iloc[99:,:]"
   ]
  },
  {
   "cell_type": "code",
   "execution_count": null,
   "metadata": {},
   "outputs": [],
   "source": [
    "print('Jumlah data training:',len(df_wine))\n",
    "print('Jumlah data validasi:',len(df_wine_validasi))"
   ]
  },
  {
   "cell_type": "markdown",
   "metadata": {},
   "source": [
    "Pertama, lakukan pemisahan antara *features* dengan *target* variable yang akan kita gunakan."
   ]
  },
  {
   "cell_type": "code",
   "execution_count": null,
   "metadata": {},
   "outputs": [],
   "source": [
    "X = df_wine.iloc[:,:-1].values\n",
    "Y = df_wine.iloc[:,-1].values"
   ]
  },
  {
   "cell_type": "markdown",
   "metadata": {},
   "source": [
    "Lakukan `train_test_split` terhadap dataset dengan mengalokasikan 20% data testing."
   ]
  },
  {
   "cell_type": "code",
   "execution_count": null,
   "metadata": {},
   "outputs": [],
   "source": [
    "X_train, X_test, y_train, y_test = train_test_split(X, Y, test_size=0.2, random_state=0)"
   ]
  },
  {
   "cell_type": "markdown",
   "metadata": {},
   "source": [
    "Lakukan `fit` model atas data training, dan tampilkan koefisien dari masing-masing parameter terhadap fiturnya."
   ]
  },
  {
   "cell_type": "code",
   "execution_count": null,
   "metadata": {},
   "outputs": [],
   "source": [
    "model.coef_"
   ]
  },
  {
   "cell_type": "code",
   "execution_count": null,
   "metadata": {},
   "outputs": [],
   "source": [
    "# fit model\n",
    "model = LinearRegression()  \n",
    "model.fit(X_train, y_train)\n",
    "\n",
    "# tampilkan parameter beserta fiturnya dalam satu bentuk dataframe\n",
    "paramaters = pd.DataFrame(model.coef_, df_wine.columns[:-1], columns=['Coefficient'])\n",
    "paramaters"
   ]
  },
  {
   "cell_type": "markdown",
   "metadata": {},
   "source": [
    "Tampilkan nilai prediksi dari data testing (*predicted*), dan tampilkan secara bersama-sama dengan nilai sesusungguhnya (*actual*)."
   ]
  },
  {
   "cell_type": "code",
   "execution_count": null,
   "metadata": {},
   "outputs": [],
   "source": [
    "y_pred = model.predict(X_test)\n",
    "result = pd.DataFrame({'Actual': y_test, 'Predicted': y_pred})\n",
    "result.head(20)"
   ]
  },
  {
   "cell_type": "markdown",
   "metadata": {},
   "source": [
    "Tampilkan grafik batang (*bar chart*) antara nilai *predicted* dan *actual*."
   ]
  },
  {
   "cell_type": "code",
   "execution_count": null,
   "metadata": {},
   "outputs": [],
   "source": [
    "result.head(20).plot(kind='bar',figsize=(10,8))\n",
    "plt.grid(which='major', linestyle='-', linewidth='0.5', color='green')\n",
    "plt.grid(which='minor', linestyle=':', linewidth='0.5', color='black')\n",
    "plt.show()"
   ]
  },
  {
   "cell_type": "code",
   "execution_count": null,
   "metadata": {},
   "outputs": [],
   "source": [
    "print('Mean Absolute Error:', metrics.mean_absolute_error(y_test, y_pred))  \n",
    "print('Mean Squared Error:', metrics.mean_squared_error(y_test, y_pred))  \n",
    "print('Root Mean Squared Error:', np.sqrt(metrics.mean_squared_error(y_test, y_pred)))\n",
    "print('R squared value:', metrics.r2_score(y_test,y_pred))"
   ]
  },
  {
   "cell_type": "markdown",
   "metadata": {},
   "source": [
    "#### Validasi atas model\n",
    "Sekarang, kita akan menggunakan data validasi yang telah kita pisahkan sebelumnya yaitu `df_wine_validasi`."
   ]
  },
  {
   "cell_type": "code",
   "execution_count": null,
   "metadata": {},
   "outputs": [],
   "source": [
    "X_wine_validasi_features = df_wine_validasi.iloc[:,:-1].values\n",
    "Y_wine_validasi_label = df_wine_validasi.iloc[:,-1].values"
   ]
  },
  {
   "cell_type": "code",
   "execution_count": null,
   "metadata": {},
   "outputs": [],
   "source": [
    "Y_wine_validasi_pred = model.predict(X_wine_validasi_features)"
   ]
  },
  {
   "cell_type": "code",
   "execution_count": null,
   "metadata": {},
   "outputs": [],
   "source": [
    "Y_wine_validasi_pred"
   ]
  },
  {
   "cell_type": "code",
   "execution_count": null,
   "metadata": {},
   "outputs": [],
   "source": [
    "# print('Mean Absolute Error:', metrics.mean_absolute_error(Y_wine_validasi_label, Y_wine_validasi_pred))  \n",
    "print('Mean Squared Error:', metrics.mean_squared_error(Y_wine_validasi_label, Y_wine_validasi_pred))  \n",
    "print('Root Mean Squared Error:', np.sqrt(metrics.mean_squared_error(Y_wine_validasi_label, Y_wine_validasi_pred)))\n",
    "print('R squared value:', metrics.r2_score(Y_wine_validasi_label,Y_wine_validasi_pred))"
   ]
  },
  {
   "cell_type": "markdown",
   "metadata": {},
   "source": [
    "### Polynomial Regression\n",
    "Sekarang kita akan menggunakan *polynomial regression* dengan cara membandingkan performa dari model sebelumnya kita gunakan.\n",
    "\n",
    "Untuk itu kita akan gunakan data dummy"
   ]
  },
  {
   "cell_type": "code",
   "execution_count": null,
   "metadata": {},
   "outputs": [],
   "source": [
    "np.random.seed(42)\n",
    "m = 100\n",
    "X = 6 * np.random.rand(m, 1) - 3\n",
    "y = 0.5 * X**2 + X + 2 + np.random.randn(m, 1)\n",
    "plt.figure(figsize=(16, 8))\n",
    "plt.scatter(X, y, s=10)\n",
    "plt.xlabel(\"$x_1$\", fontsize=18)\n",
    "plt.ylabel(\"$y$\", rotation=0, fontsize=18)\n",
    "plt.show()"
   ]
  },
  {
   "cell_type": "markdown",
   "metadata": {},
   "source": [
    "#### Simple Linear"
   ]
  },
  {
   "cell_type": "code",
   "execution_count": null,
   "metadata": {},
   "outputs": [],
   "source": [
    "model = LinearRegression()\n",
    "model.fit(X, y)\n",
    "model.intercept_, model.coef_"
   ]
  },
  {
   "cell_type": "code",
   "execution_count": null,
   "metadata": {},
   "outputs": [],
   "source": [
    "y_new = model.predict(X)\n",
    "plt.figure(figsize=(16, 8))\n",
    "plt.scatter(X, y, s=10)\n",
    "plt.plot(X, y_new, \"r-\", linewidth=2, label=\"Predictions\")\n",
    "plt.xlabel(\"$x_1$\", fontsize=18)\n",
    "plt.ylabel(\"$y$\", rotation=0, fontsize=18)\n",
    "plt.legend(loc=\"upper left\", fontsize=14)\n",
    "plt.show()"
   ]
  },
  {
   "cell_type": "markdown",
   "metadata": {},
   "source": [
    "#### Polynomial \n",
    "Sekarang kita akan menggunakan model polynomial"
   ]
  },
  {
   "cell_type": "code",
   "execution_count": null,
   "metadata": {},
   "outputs": [],
   "source": [
    "from sklearn.preprocessing import PolynomialFeatures\n",
    "poly_features = PolynomialFeatures(degree=2, include_bias=False)\n",
    "X_poly = poly_features.fit_transform(X)\n",
    "X[0]"
   ]
  },
  {
   "cell_type": "code",
   "execution_count": null,
   "metadata": {},
   "outputs": [],
   "source": [
    "X_poly[0]\n"
   ]
  },
  {
   "cell_type": "code",
   "execution_count": null,
   "metadata": {},
   "outputs": [],
   "source": [
    "model = LinearRegression()\n",
    "model.fit(X_poly, y)\n",
    "model.intercept_, model.coef_"
   ]
  },
  {
   "cell_type": "markdown",
   "metadata": {},
   "source": [
    "Dari data tersebut di atas maka persamaan *polynomial* nya adalah $\\displaystyle \\hat{y} =0.56x^{2}_{1} +0.93x_{1} +1.78$"
   ]
  },
  {
   "cell_type": "raw",
   "metadata": {},
   "source": [
    "np.linspace(-3, 3, 100).reshape(100, 1)"
   ]
  },
  {
   "cell_type": "code",
   "execution_count": null,
   "metadata": {},
   "outputs": [],
   "source": [
    "# generate 100 data dari titik -3 sampai titik 3, kemudian ubah dimensinya menjadi 100 X 1\n",
    "X_new=np.linspace(-3, 3, 100).reshape(100, 1)\n",
    "\n",
    "X_new_poly = poly_features.transform(X_new)\n",
    "y_new = model.predict(X_new_poly)\n",
    "plt.figure(figsize=(16, 8))\n",
    "plt.scatter(X, y, s=10)\n",
    "plt.plot(X_new, y_new, \"r-\", linewidth=2, label=\"Predictions\")\n",
    "plt.xlabel(\"$x_1$\", fontsize=18)\n",
    "plt.ylabel(\"$y$\", rotation=0, fontsize=18)\n",
    "plt.legend(loc=\"upper left\", fontsize=14)\n",
    "plt.show()"
   ]
  },
  {
   "cell_type": "code",
   "execution_count": null,
   "metadata": {},
   "outputs": [],
   "source": [
    "poly_features = PolynomialFeatures(degree=15, include_bias=False)\n",
    "X_poly = poly_features.fit_transform(X)\n",
    "model = LinearRegression()\n",
    "model.fit(X_poly, y)\n",
    "X_new=np.linspace(-3, 3, 100).reshape(100, 1)\n",
    "X_new_poly = poly_features.transform(X_new)\n",
    "y_new = model.predict(X_new_poly)\n",
    "plt.figure(figsize=(16, 8))\n",
    "plt.scatter(X, y, s=10)\n",
    "plt.plot(X_new, y_new, \"r-\", linewidth=2, label=\"Predictions\")\n",
    "plt.xlabel(\"$x_1$\", fontsize=18)\n",
    "plt.ylabel(\"$y$\", rotation=0, fontsize=18)\n",
    "plt.legend(loc=\"upper left\", fontsize=14)\n",
    "plt.show()"
   ]
  },
  {
   "cell_type": "markdown",
   "metadata": {},
   "source": [
    "### Evaluasi model\n",
    "Anda silakan menghitung Nilai MSE, MAE dan RMSE serta R-squared untuk masing-masing jumlah polynomial yang Anda tentukan sendiri menggunakan langkah-langkah di atas."
   ]
  },
  {
   "cell_type": "markdown",
   "metadata": {},
   "source": [
    "## Ridge and Lasso Regression\n",
    "Di sini kita akan mempelajari mengenai perbedaan hasil antara standard linear regression (multiple) dengan ridge dan lasso regression. Data yang digunakan adalah data penjualan yang mungkin dipengaruhi oleh biaya yang dikeluarkan untuk iklan di Radio, Koran dan TV. "
   ]
  },
  {
   "cell_type": "code",
   "execution_count": null,
   "metadata": {},
   "outputs": [],
   "source": [
    "# load data\n",
    "df_adv = pd.read_csv('Advertising.csv')"
   ]
  },
  {
   "cell_type": "code",
   "execution_count": null,
   "metadata": {},
   "outputs": [],
   "source": [
    "df_adv.head()"
   ]
  },
  {
   "cell_type": "markdown",
   "metadata": {},
   "source": [
    "Hilangkan kolom pertama, karena itu hanya urutan saja. Silakan pilih diantara kedua cara ini\n",
    "``` python\n",
    "    df_adv.drop(df_adv.columns[0], axis=1, inplace=True)\n",
    "    df_adv.drop(['Unnamed: 0'], axis=1, inplace=True)\n",
    "```"
   ]
  },
  {
   "cell_type": "code",
   "execution_count": null,
   "metadata": {},
   "outputs": [],
   "source": [
    "df_adv.drop(df_adv.columns[0], axis=1, inplace=True)"
   ]
  },
  {
   "cell_type": "code",
   "execution_count": null,
   "metadata": {},
   "outputs": [],
   "source": [
    "df_adv.head()"
   ]
  },
  {
   "cell_type": "code",
   "execution_count": null,
   "metadata": {},
   "outputs": [],
   "source": [
    "df_adv.columns"
   ]
  },
  {
   "cell_type": "markdown",
   "metadata": {},
   "source": [
    "Sekarang kita akan membuat plot untuk predictor dan target variable."
   ]
  },
  {
   "cell_type": "code",
   "execution_count": null,
   "metadata": {},
   "outputs": [],
   "source": [
    "def scatter_plot(data, feature, target):\n",
    "    plt.figure(figsize=(16, 8))\n",
    "    plt.scatter(\n",
    "        data[feature],\n",
    "        data[target],\n",
    "        c='black'\n",
    "    )\n",
    "    plt.xlabel(\"Money spent on {} ads ($)\".format(feature))\n",
    "    plt.ylabel(\"Sales ($k)\")\n",
    "    plt.show()"
   ]
  },
  {
   "cell_type": "code",
   "execution_count": null,
   "metadata": {},
   "outputs": [],
   "source": [
    "scatter_plot(df_adv, 'TV','sales')"
   ]
  },
  {
   "cell_type": "code",
   "execution_count": null,
   "metadata": {},
   "outputs": [],
   "source": [
    "scatter_plot(df_adv, 'radio','sales')"
   ]
  },
  {
   "cell_type": "code",
   "execution_count": null,
   "metadata": {},
   "outputs": [],
   "source": [
    "scatter_plot(df_adv, 'newspaper','sales')"
   ]
  },
  {
   "cell_type": "markdown",
   "metadata": {},
   "source": [
    "### Multiple linear regression"
   ]
  },
  {
   "cell_type": "code",
   "execution_count": null,
   "metadata": {},
   "outputs": [],
   "source": [
    "from sklearn.model_selection import cross_val_score\n",
    "\n",
    "Xs = df_adv.drop(['sales'], axis=1)\n",
    "y = df_adv['sales'].values.reshape(-1,1)\n",
    "\n",
    "lin_reg = LinearRegression()\n",
    "\n",
    "MSEs = cross_val_score(lin_reg, Xs, y, scoring='neg_mean_squared_error', cv=5)\n",
    "\n",
    "mean_MSE = np.mean(MSEs)\n",
    "\n",
    "print(mean_MSE)"
   ]
  },
  {
   "cell_type": "markdown",
   "metadata": {},
   "source": [
    "### Ridge "
   ]
  },
  {
   "cell_type": "code",
   "execution_count": null,
   "metadata": {},
   "outputs": [],
   "source": [
    "from sklearn.model_selection import GridSearchCV\n",
    "from sklearn.linear_model import Ridge\n",
    "\n",
    "alpha = [1e-15, 1e-10, 1e-8, 1e-4, 1e-3,1e-2, 1, 5, 10, 20]\n",
    "\n",
    "ridge = Ridge()\n",
    "\n",
    "parameters = {'alpha': [1e-15, 1e-10, 1e-8, 1e-4, 1e-3,1e-2, 1, 5, 10, 20]}\n",
    "\n",
    "ridge_regressor = GridSearchCV(ridge, parameters,scoring='neg_mean_squared_error', cv=5)\n",
    "\n",
    "ridge_regressor.fit(Xs, y)"
   ]
  },
  {
   "cell_type": "code",
   "execution_count": null,
   "metadata": {},
   "outputs": [],
   "source": [
    "ridge_regressor.best_score_\n"
   ]
  },
  {
   "cell_type": "markdown",
   "metadata": {},
   "source": [
    "### Lasso"
   ]
  },
  {
   "cell_type": "code",
   "execution_count": null,
   "metadata": {},
   "outputs": [],
   "source": [
    "from sklearn.linear_model import Lasso\n",
    "\n",
    "lasso = Lasso()\n",
    "\n",
    "parameters = {'alpha': [1e-15, 1e-10, 1e-8, 1e-4, 1e-3,1e-2, 1, 5, 10, 20]}\n",
    "\n",
    "lasso_regressor = GridSearchCV(lasso, parameters, scoring='neg_mean_squared_error', cv = 5)\n",
    "\n",
    "lasso_regressor.fit(Xs, y)"
   ]
  },
  {
   "cell_type": "code",
   "execution_count": null,
   "metadata": {},
   "outputs": [],
   "source": [
    "lasso_regressor.best_score_\n"
   ]
  },
  {
   "cell_type": "markdown",
   "metadata": {},
   "source": [
    "## Logistic Regression\n",
    "Sebagaimana kita ketahui Logistic Regression digunakan untuk melakukan fungsi klasifikasi. Klasifikasi adalah proses penentuan kelas atas suatu data berdasarkan fitur-fiturnya. Hasil penghitungan *Logistic Regression* berupa nilai probabilitas.\n",
    "\n",
    "Untuk contoh pertama kita akan menggunakan data sederhana yang menunjukkan hubungan antara jumlah waktu belajar sekelompok mahasiswa dengan tingkat kelulusannya. "
   ]
  },
  {
   "cell_type": "code",
   "execution_count": null,
   "metadata": {},
   "outputs": [],
   "source": [
    "# Import library\n",
    "from sklearn.linear_model import LogisticRegression"
   ]
  },
  {
   "cell_type": "code",
   "execution_count": null,
   "metadata": {},
   "outputs": [],
   "source": [
    "df_study = pd.read_csv('StudyHours_Pass.csv')\n",
    "df_study.head()"
   ]
  },
  {
   "cell_type": "markdown",
   "metadata": {},
   "source": [
    "Sebelum dilakukan Dari data di atas, kita ingin mengetahui ada berapa nilai atribut yang ada di dalam kolom `Pass`? Hal ini menjadi penting, karena kita ingin mengetahui bentuk nilai dari kolom tersebut."
   ]
  },
  {
   "cell_type": "code",
   "execution_count": null,
   "metadata": {},
   "outputs": [],
   "source": [
    "df_study.Pass.unique()"
   ]
  },
  {
   "cell_type": "markdown",
   "metadata": {},
   "source": [
    "#### Encoding\n",
    "Dalam *Machine Learning*, kata dan huruf sulit tidak bisa secara langsung digunakan di dalam proses pembelajaran *(learning)*. Oleh karena itu, dibutuhkan suatu mekanisme untuk mengubahnya menjadi angka. \n",
    "\n",
    "Untuk data kategorikal (salah satunya adalah binary), kita bisa menggunakan modul `label_encoder` untuk mengubahnya menjadi angka atau kita bisa membuatnya secara manual. Berikut ini adalah kode untuk mengubahnya secara manual.\n",
    "\n",
    "```python\n",
    "df_lr.Pass.replace(to_replace={'Tidak Lulus':0, 'Lulus':1}, inplace=True)\n",
    "```"
   ]
  },
  {
   "cell_type": "code",
   "execution_count": null,
   "metadata": {},
   "outputs": [],
   "source": [
    "from sklearn.preprocessing import LabelEncoder"
   ]
  },
  {
   "cell_type": "code",
   "execution_count": null,
   "metadata": {},
   "outputs": [],
   "source": [
    "le = LabelEncoder()\n",
    "le.fit(df_study['Pass'])"
   ]
  },
  {
   "cell_type": "code",
   "execution_count": null,
   "metadata": {},
   "outputs": [],
   "source": [
    "list(le.classes_)"
   ]
  },
  {
   "cell_type": "code",
   "execution_count": null,
   "metadata": {},
   "outputs": [],
   "source": [
    "le.transform(df_study['Pass'])"
   ]
  },
  {
   "cell_type": "markdown",
   "metadata": {},
   "source": [
    "Kita lakukan proses transformasi data."
   ]
  },
  {
   "cell_type": "code",
   "execution_count": null,
   "metadata": {},
   "outputs": [],
   "source": [
    "df_study.Pass = le.transform(df_study['Pass'])\n",
    "# df_study.Pass = LabelEncoder().fit_transform(df_study['Pass'])"
   ]
  },
  {
   "cell_type": "markdown",
   "metadata": {},
   "source": [
    "Pisahkan antara target variabel dengan variabel bebas. Gunakan method `values` dan `reshape` karena model baru akan efisien ketika menerima data berupa `ndarray`. "
   ]
  },
  {
   "cell_type": "code",
   "execution_count": null,
   "metadata": {},
   "outputs": [],
   "source": [
    "X = df_study.Hours.values.reshape(-1,1)\n",
    "y = df_study.Pass.values.reshape(-1,)"
   ]
  },
  {
   "cell_type": "code",
   "execution_count": null,
   "metadata": {},
   "outputs": [],
   "source": [
    "LogReg = LogisticRegression(solver='lbfgs',random_state=40)\n",
    "LogReg.fit(X,y)"
   ]
  },
  {
   "cell_type": "code",
   "execution_count": null,
   "metadata": {},
   "outputs": [],
   "source": [
    "X[0]"
   ]
  },
  {
   "cell_type": "code",
   "execution_count": null,
   "metadata": {},
   "outputs": [],
   "source": [
    "X_new = np.linspace(0, 5.5, 1000).reshape(-1, 1)\n",
    "y_proba = LogReg.predict_proba(X_new)\n",
    "\n",
    "plt.figure(figsize=(16, 8))\n",
    "\n",
    "plt.plot(X_new, y_proba[:, 1], \"g-\", linewidth=2, label=\"Tidak Lulus\")\n",
    "plt.plot(X_new, y_proba[:, 0], \"b--\", linewidth=2, label=\"Lulus\")\n",
    "\n",
    "plt.legend(loc=\"center left\", fontsize=14)"
   ]
  },
  {
   "cell_type": "markdown",
   "metadata": {},
   "source": [
    "Dapat dilihat pada grafik di atas, `decision boundary` yang cukup jelas pada menjelang angka 3. Di samping itu, nilai probabilitas kelulusan akan meningkat seiring dengan jumlah waktu belajar yang dialokasikan."
   ]
  }
 ],
 "metadata": {
  "kernelspec": {
   "display_name": "Python 3",
   "language": "python",
   "name": "python3"
  },
  "language_info": {
   "codemirror_mode": {
    "name": "ipython",
    "version": 3
   },
   "file_extension": ".py",
   "mimetype": "text/x-python",
   "name": "python",
   "nbconvert_exporter": "python",
   "pygments_lexer": "ipython3",
   "version": "3.7.3"
  }
 },
 "nbformat": 4,
 "nbformat_minor": 4
}
