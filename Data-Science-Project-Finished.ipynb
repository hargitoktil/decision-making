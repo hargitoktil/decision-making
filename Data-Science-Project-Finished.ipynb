{
 "cells": [
  {
   "cell_type": "markdown",
   "metadata": {},
   "source": [
    "# Data Science Project\n",
    "\n",
    "Anda diminta oleh pimpinan untuk membuat model prediksi klasifikasi atas `income` pada dataset **Adult Income**. Data ini diperoleh dari Machine Learning Repository UCI (https://archive.ics.uci.edu/ml/datasets/Adult).Target variabel (`income`) merupakan data categorical dengan 2 nilai `<=50k` dan `>50k`. \n",
    "\n",
    "Kemudian, Anda diminta untuk membandingkan model yang paling baik berdasarkan eksperimen yang Anda lakukan terhadap performa model.\n",
    "\n",
    "\n",
    "Langkah pertama adalah *import library*."
   ]
  },
  {
   "cell_type": "code",
   "execution_count": 1,
   "metadata": {},
   "outputs": [],
   "source": [
    "import pandas as pd\n",
    "import numpy as np\n",
    "import matplotlib.pyplot as plt\n",
    "import warnings\n",
    "warnings.filterwarnings('ignore', category=FutureWarning)\n",
    "warnings.filterwarnings('ignore', category=DeprecationWarning)\n",
    "%matplotlib inline"
   ]
  },
  {
   "cell_type": "code",
   "execution_count": 2,
   "metadata": {},
   "outputs": [],
   "source": [
    "# import dataset\n",
    "df_adult = pd.read_csv('adult.csv')"
   ]
  },
  {
   "cell_type": "code",
   "execution_count": 3,
   "metadata": {},
   "outputs": [
    {
     "name": "stdout",
     "output_type": "stream",
     "text": [
      "<class 'pandas.core.frame.DataFrame'>\n",
      "RangeIndex: 48842 entries, 0 to 48841\n",
      "Data columns (total 15 columns):\n",
      "age                48842 non-null int64\n",
      "workclass          48842 non-null object\n",
      "fnlwgt             48842 non-null int64\n",
      "education          48842 non-null object\n",
      "educational-num    48842 non-null int64\n",
      "marital-status     48842 non-null object\n",
      "occupation         48842 non-null object\n",
      "relationship       48842 non-null object\n",
      "race               48842 non-null object\n",
      "gender             48842 non-null object\n",
      "capital-gain       48842 non-null int64\n",
      "capital-loss       48842 non-null int64\n",
      "hours-per-week     48842 non-null int64\n",
      "native-country     48842 non-null object\n",
      "income             48842 non-null object\n",
      "dtypes: int64(6), object(9)\n",
      "memory usage: 5.6+ MB\n"
     ]
    }
   ],
   "source": [
    "df_adult.info()"
   ]
  },
  {
   "cell_type": "markdown",
   "metadata": {},
   "source": [
    "Apakah kita langsung dapat menggunakan data ini secara langsung?\n",
    "\n",
    "**Tentu Tidak !**\n",
    "\n",
    "Kali ini, kita akan memperkenalkan tahapan-tahapan yang akan Anda lakukan sebagai data scientist. Pada umumnya, tahapan yang bisa kita lakukan setidaknya terdiri dari beberapa tahapan berikut ini:\n",
    "\n",
    "1. Data Cleaning atau Preprocessing\n",
    "2. Explorasi Data\n",
    "3. Pengolahan Data\n",
    "4. Evaluasi\n",
    "\n",
    "Kali ini, kita akan melakukan tahapan 1 dan 2 terlebih dahulu.\n",
    "\n",
    "## 1. Data Cleaning / Data Preprocessing / Data Wrangling\n",
    "Tahap pertama adalah melakukan pembersihan data, tahapan ini penting karena sebagian besar pekerjaan Data Analis berkutat pada bagian ini dan tahap explorasi data. \n",
    "\n",
    "Di tahapan ini hal yang pertama kali dilakukan adalah melakukan *peek* data menggunakan fungsi `head`."
   ]
  },
  {
   "cell_type": "code",
   "execution_count": 4,
   "metadata": {},
   "outputs": [
    {
     "data": {
      "text/html": [
       "<div>\n",
       "<style scoped>\n",
       "    .dataframe tbody tr th:only-of-type {\n",
       "        vertical-align: middle;\n",
       "    }\n",
       "\n",
       "    .dataframe tbody tr th {\n",
       "        vertical-align: top;\n",
       "    }\n",
       "\n",
       "    .dataframe thead th {\n",
       "        text-align: right;\n",
       "    }\n",
       "</style>\n",
       "<table border=\"1\" class=\"dataframe\">\n",
       "  <thead>\n",
       "    <tr style=\"text-align: right;\">\n",
       "      <th></th>\n",
       "      <th>age</th>\n",
       "      <th>workclass</th>\n",
       "      <th>fnlwgt</th>\n",
       "      <th>education</th>\n",
       "      <th>educational-num</th>\n",
       "      <th>marital-status</th>\n",
       "      <th>occupation</th>\n",
       "      <th>relationship</th>\n",
       "      <th>race</th>\n",
       "      <th>gender</th>\n",
       "      <th>capital-gain</th>\n",
       "      <th>capital-loss</th>\n",
       "      <th>hours-per-week</th>\n",
       "      <th>native-country</th>\n",
       "      <th>income</th>\n",
       "    </tr>\n",
       "  </thead>\n",
       "  <tbody>\n",
       "    <tr>\n",
       "      <td>0</td>\n",
       "      <td>25</td>\n",
       "      <td>Private</td>\n",
       "      <td>226802</td>\n",
       "      <td>11th</td>\n",
       "      <td>7</td>\n",
       "      <td>Never-married</td>\n",
       "      <td>Machine-op-inspct</td>\n",
       "      <td>Own-child</td>\n",
       "      <td>Black</td>\n",
       "      <td>Male</td>\n",
       "      <td>0</td>\n",
       "      <td>0</td>\n",
       "      <td>40</td>\n",
       "      <td>United-States</td>\n",
       "      <td>&lt;=50K</td>\n",
       "    </tr>\n",
       "    <tr>\n",
       "      <td>1</td>\n",
       "      <td>38</td>\n",
       "      <td>Private</td>\n",
       "      <td>89814</td>\n",
       "      <td>HS-grad</td>\n",
       "      <td>9</td>\n",
       "      <td>Married-civ-spouse</td>\n",
       "      <td>Farming-fishing</td>\n",
       "      <td>Husband</td>\n",
       "      <td>White</td>\n",
       "      <td>Male</td>\n",
       "      <td>0</td>\n",
       "      <td>0</td>\n",
       "      <td>50</td>\n",
       "      <td>United-States</td>\n",
       "      <td>&lt;=50K</td>\n",
       "    </tr>\n",
       "    <tr>\n",
       "      <td>2</td>\n",
       "      <td>28</td>\n",
       "      <td>Local-gov</td>\n",
       "      <td>336951</td>\n",
       "      <td>Assoc-acdm</td>\n",
       "      <td>12</td>\n",
       "      <td>Married-civ-spouse</td>\n",
       "      <td>Protective-serv</td>\n",
       "      <td>Husband</td>\n",
       "      <td>White</td>\n",
       "      <td>Male</td>\n",
       "      <td>0</td>\n",
       "      <td>0</td>\n",
       "      <td>40</td>\n",
       "      <td>United-States</td>\n",
       "      <td>&gt;50K</td>\n",
       "    </tr>\n",
       "    <tr>\n",
       "      <td>3</td>\n",
       "      <td>44</td>\n",
       "      <td>Private</td>\n",
       "      <td>160323</td>\n",
       "      <td>Some-college</td>\n",
       "      <td>10</td>\n",
       "      <td>Married-civ-spouse</td>\n",
       "      <td>Machine-op-inspct</td>\n",
       "      <td>Husband</td>\n",
       "      <td>Black</td>\n",
       "      <td>Male</td>\n",
       "      <td>7688</td>\n",
       "      <td>0</td>\n",
       "      <td>40</td>\n",
       "      <td>United-States</td>\n",
       "      <td>&gt;50K</td>\n",
       "    </tr>\n",
       "    <tr>\n",
       "      <td>4</td>\n",
       "      <td>18</td>\n",
       "      <td>?</td>\n",
       "      <td>103497</td>\n",
       "      <td>Some-college</td>\n",
       "      <td>10</td>\n",
       "      <td>Never-married</td>\n",
       "      <td>?</td>\n",
       "      <td>Own-child</td>\n",
       "      <td>White</td>\n",
       "      <td>Female</td>\n",
       "      <td>0</td>\n",
       "      <td>0</td>\n",
       "      <td>30</td>\n",
       "      <td>United-States</td>\n",
       "      <td>&lt;=50K</td>\n",
       "    </tr>\n",
       "  </tbody>\n",
       "</table>\n",
       "</div>"
      ],
      "text/plain": [
       "   age  workclass  fnlwgt     education  educational-num      marital-status  \\\n",
       "0   25    Private  226802          11th                7       Never-married   \n",
       "1   38    Private   89814       HS-grad                9  Married-civ-spouse   \n",
       "2   28  Local-gov  336951    Assoc-acdm               12  Married-civ-spouse   \n",
       "3   44    Private  160323  Some-college               10  Married-civ-spouse   \n",
       "4   18          ?  103497  Some-college               10       Never-married   \n",
       "\n",
       "          occupation relationship   race  gender  capital-gain  capital-loss  \\\n",
       "0  Machine-op-inspct    Own-child  Black    Male             0             0   \n",
       "1    Farming-fishing      Husband  White    Male             0             0   \n",
       "2    Protective-serv      Husband  White    Male             0             0   \n",
       "3  Machine-op-inspct      Husband  Black    Male          7688             0   \n",
       "4                  ?    Own-child  White  Female             0             0   \n",
       "\n",
       "   hours-per-week native-country income  \n",
       "0              40  United-States  <=50K  \n",
       "1              50  United-States  <=50K  \n",
       "2              40  United-States   >50K  \n",
       "3              40  United-States   >50K  \n",
       "4              30  United-States  <=50K  "
      ]
     },
     "execution_count": 4,
     "metadata": {},
     "output_type": "execute_result"
    }
   ],
   "source": [
    "df_adult.head()"
   ]
  },
  {
   "cell_type": "code",
   "execution_count": 5,
   "metadata": {},
   "outputs": [
    {
     "name": "stdout",
     "output_type": "stream",
     "text": [
      "<class 'pandas.core.frame.DataFrame'>\n",
      "RangeIndex: 48842 entries, 0 to 48841\n",
      "Data columns (total 15 columns):\n",
      "age                48842 non-null int64\n",
      "workclass          48842 non-null object\n",
      "fnlwgt             48842 non-null int64\n",
      "education          48842 non-null object\n",
      "educational-num    48842 non-null int64\n",
      "marital-status     48842 non-null object\n",
      "occupation         48842 non-null object\n",
      "relationship       48842 non-null object\n",
      "race               48842 non-null object\n",
      "gender             48842 non-null object\n",
      "capital-gain       48842 non-null int64\n",
      "capital-loss       48842 non-null int64\n",
      "hours-per-week     48842 non-null int64\n",
      "native-country     48842 non-null object\n",
      "income             48842 non-null object\n",
      "dtypes: int64(6), object(9)\n",
      "memory usage: 5.6+ MB\n"
     ]
    }
   ],
   "source": [
    "df_adult.info()"
   ]
  },
  {
   "cell_type": "markdown",
   "metadata": {},
   "source": [
    "Dari data tersebut di atas, terdapat 2 jenis data yaitu `int64` dan `object`. Tipe data `object` pada umumnya dapat berupa `String` yang juga pada umumnya, data yang bersifat categorical. Dari kolom tersebut di atas, dapat kita ketahui bahwa terdapat 48.842 jenis data.\n",
    "\n",
    "Hal yang paling penting di tahapan ini adalah:\n",
    "1. Cek atas data **NULL** <br>\n",
    "Data **NULL** tersebut bisa berbentuk tanda `-`, spasi, `NA` ataupun tanda lainnya. Strategi atas data **NULL** tersebut bisa kita lakukan *impute* atau pengisian, atau bisa dihilangkan seluruh baris (row) data tersebut. \n",
    "2. Cek atas data anomali (outlier) <br>\n",
    "Data anomali dapat dianalisis dengan metode *standard deviasi*. Normalnya, data yang bernilai bilangan riil bisa kita cari dan hilangkan agar tidak mempengaruhi performa dari model kita.\n",
    "\n",
    "Data anomali lainnya, bisa berupa **kesalahan ketik (typo)** ataupun nilai yang sebenarnya sama tetapi dituliskan berbeda.\n",
    "\n",
    "\n",
    "Oleh karena itu, kita bisa melakukan cek satu per satu untuk kolom berikut ini:\n",
    "\n",
    "1. `workclass`\n",
    "2. `education`\n",
    "3. `marital-status`\n",
    "4. `occupation`\n",
    "5. `relatiohship`\n",
    "6. `race`\n",
    "7. `gender`\n",
    "8. `native-country`\n",
    "9. `income`"
   ]
  },
  {
   "cell_type": "code",
   "execution_count": 6,
   "metadata": {},
   "outputs": [
    {
     "name": "stdout",
     "output_type": "stream",
     "text": [
      "workclass : ['Private' 'Local-gov' '?' 'Self-emp-not-inc' 'Federal-gov' 'State-gov'\n",
      " 'Self-emp-inc' 'Without-pay' 'Never-worked']\n",
      "education : ['11th' 'HS-grad' 'Assoc-acdm' 'Some-college' '10th' 'Prof-school'\n",
      " '7th-8th' 'Bachelors' 'Masters' 'Doctorate' '5th-6th' 'Assoc-voc' '9th'\n",
      " '12th' '1st-4th' 'Preschool']\n",
      "marital-status : ['Never-married' 'Married-civ-spouse' 'Widowed' 'Divorced' 'Separated'\n",
      " 'Married-spouse-absent' 'Married-AF-spouse']\n",
      "occupation : ['Machine-op-inspct' 'Farming-fishing' 'Protective-serv' '?'\n",
      " 'Other-service' 'Prof-specialty' 'Craft-repair' 'Adm-clerical'\n",
      " 'Exec-managerial' 'Tech-support' 'Sales' 'Priv-house-serv'\n",
      " 'Transport-moving' 'Handlers-cleaners' 'Armed-Forces']\n",
      "relationship : ['Own-child' 'Husband' 'Not-in-family' 'Unmarried' 'Wife' 'Other-relative']\n",
      "race : ['Black' 'White' 'Asian-Pac-Islander' 'Other' 'Amer-Indian-Eskimo']\n",
      "gender : ['Male' 'Female']\n",
      "native-country : ['United-States' '?' 'Peru' 'Guatemala' 'Mexico' 'Dominican-Republic'\n",
      " 'Ireland' 'Germany' 'Philippines' 'Thailand' 'Haiti' 'El-Salvador'\n",
      " 'Puerto-Rico' 'Vietnam' 'South' 'Columbia' 'Japan' 'India' 'Cambodia'\n",
      " 'Poland' 'Laos' 'England' 'Cuba' 'Taiwan' 'Italy' 'Canada' 'Portugal'\n",
      " 'China' 'Nicaragua' 'Honduras' 'Iran' 'Scotland' 'Jamaica' 'Ecuador'\n",
      " 'Yugoslavia' 'Hungary' 'Hong' 'Greece' 'Trinadad&Tobago'\n",
      " 'Outlying-US(Guam-USVI-etc)' 'France' 'Holand-Netherlands']\n"
     ]
    }
   ],
   "source": [
    "col = ['workclass', 'education', 'marital-status', 'occupation', 'relationship', 'race', 'gender','native-country']\n",
    "for c in col:\n",
    "    print(c,':',df_adult[c].unique())"
   ]
  },
  {
   "cell_type": "markdown",
   "metadata": {},
   "source": [
    "Namun, kita hanya akan fokus terhadap 4 kolom saja yaitu `workclass`, `marital-status`, `country`, `occupation`, karena terlihat dari data categorical di atas, ada beberapa anomali salah satunya adalah nilai `?`.\n",
    "\n",
    "### Kolom workclass"
   ]
  },
  {
   "cell_type": "code",
   "execution_count": 7,
   "metadata": {},
   "outputs": [
    {
     "data": {
      "text/plain": [
       "Private             33906\n",
       "Self-emp-not-inc     3862\n",
       "Local-gov            3136\n",
       "?                    2799\n",
       "State-gov            1981\n",
       "Self-emp-inc         1695\n",
       "Federal-gov          1432\n",
       "Without-pay            21\n",
       "Never-worked           10\n",
       "Name: workclass, dtype: int64"
      ]
     },
     "execution_count": 7,
     "metadata": {},
     "output_type": "execute_result"
    }
   ],
   "source": [
    "# kolom workclass\n",
    "df_adult.workclass.value_counts()"
   ]
  },
  {
   "cell_type": "markdown",
   "metadata": {},
   "source": [
    "Ada beberapa **anomali** pada value di dalam kolom `workclass` di antaranya, nilai `?` dan nilai `Self-emp-inc` yang sebenarnya sama dengan `Self-emp-not-inc`. \n",
    "\n",
    "Solusi: \n",
    "1. Lakukan perubahan pada nilai `?` menjadi `NA`, karena nilai `?` tidak dapat didefinisikan.\n",
    "2. Lakukan *merge* untuk nilai kategori pada `Self-emp-inc` dan `Self-emp-not-inc`.\n",
    "\n",
    "Lakukan cek nilai `NA` apakah ada di dalam dataset."
   ]
  },
  {
   "cell_type": "code",
   "execution_count": 8,
   "metadata": {},
   "outputs": [
    {
     "data": {
      "text/plain": [
       "False"
      ]
     },
     "execution_count": 8,
     "metadata": {},
     "output_type": "execute_result"
    }
   ],
   "source": [
    "# cek NA value di kolom workclass\n",
    "df_adult.workclass.isnull().any()"
   ]
  },
  {
   "cell_type": "markdown",
   "metadata": {},
   "source": [
    "Untuk mengubah nilai `?` menjadi `NA` ada **banyak** cara, salah satunya adalah\n",
    "```python\n",
    "# Menggunakan klausa where\n",
    "df_adult.workclass = np.where(df_adult.workclass.str.startswith('?'),np.nan,df_adult.workclass)\n",
    "# menggunakan apply method dan lambda\n",
    "df_adult.workclass = df_adult.workclass.apply(lambda x: np.nan if x.startswith('?') else x)\n",
    "# cara sederhana\n",
    "df_adult.workclass[df_adult.workclass.str.startswith('?')] = np.nan\n",
    "# cara map\n",
    "df_adult.workclass = df_adult.workclass.map(lambda v: np.nan if v == '?' else v)\n",
    "# cara replace\n",
    "df_adult.workclass = df_adult.workclass.replace(['?'],np.nan)\n",
    "```\n",
    "\n",
    "Anda jangan terpaku pada salah satu cara, bahkan Anda bisa membuat cara baru."
   ]
  },
  {
   "cell_type": "code",
   "execution_count": 9,
   "metadata": {},
   "outputs": [
    {
     "data": {
      "text/plain": [
       "array(['Private', 'Local-gov', nan, 'Self-emp-not-inc', 'Federal-gov',\n",
       "       'State-gov', 'Self-emp-inc', 'Without-pay', 'Never-worked'],\n",
       "      dtype=object)"
      ]
     },
     "execution_count": 9,
     "metadata": {},
     "output_type": "execute_result"
    }
   ],
   "source": [
    "# menggunakan apply method dan lambda\n",
    "df_adult.workclass = df_adult.workclass.apply(lambda x: np.nan if x.startswith('?') else x)\n",
    "\n",
    "# cek atas perubahan yang sudah kita lakukan\n",
    "df_adult.workclass.unique()"
   ]
  },
  {
   "cell_type": "markdown",
   "metadata": {},
   "source": [
    "Sekarang, kita memiliki data **NULL** !"
   ]
  },
  {
   "cell_type": "code",
   "execution_count": 10,
   "metadata": {},
   "outputs": [
    {
     "data": {
      "text/plain": [
       "True"
      ]
     },
     "execution_count": 10,
     "metadata": {},
     "output_type": "execute_result"
    }
   ],
   "source": [
    "# cek NA value di kolom workclass\n",
    "df_adult.workclass.isnull().any()"
   ]
  },
  {
   "cell_type": "markdown",
   "metadata": {},
   "source": [
    "Untuk melakukan merge atas nilai kategori `Self-emp-inc` dan `Self-emp-not-inc` menjadi `Self-employed` kita menggunakan metode yang sama seperti di atas. Namun, kali ini kita akan menggunakan cara yang sedikit berbeda, yaitu dengan membuat suatu fungsi baru yaitu `change_workclass`. Di sini, fungsi ini akan di-passing sebagai *argument* dalam method `apply`. Begitu juga dengan Government."
   ]
  },
  {
   "cell_type": "code",
   "execution_count": 11,
   "metadata": {},
   "outputs": [],
   "source": [
    "def change_selfemployed(x):\n",
    "    if x =='Self-emp-not-inc':\n",
    "        return 'Self-employed'\n",
    "    elif x =='Self-emp-inc':\n",
    "        return 'Self-employed'\n",
    "    else:\n",
    "        return x\n",
    "    \n",
    "def change_government(x):\n",
    "    if x =='Local-gov' or x == 'Federal-gov' or x=='State-gov':\n",
    "        return 'Gov'\n",
    "    else:\n",
    "        return x"
   ]
  },
  {
   "cell_type": "code",
   "execution_count": 12,
   "metadata": {},
   "outputs": [
    {
     "data": {
      "text/plain": [
       "array(['Private', 'Gov', nan, 'Self-employed', 'Without-pay',\n",
       "       'Never-worked'], dtype=object)"
      ]
     },
     "execution_count": 12,
     "metadata": {},
     "output_type": "execute_result"
    }
   ],
   "source": [
    "df_adult.workclass = df_adult.workclass.apply(change_selfemployed)\n",
    "\n",
    "df_adult.workclass = df_adult.workclass.apply(change_government)\n",
    "\n",
    "# cek atas perubahan yang sudah kita lakukan\n",
    "df_adult.workclass.unique()"
   ]
  },
  {
   "cell_type": "markdown",
   "metadata": {},
   "source": [
    "### Kolom Marital-status\n",
    "\n",
    "Kita mau mengubah status pernikahan menjadi 3 saja, `Married`, `Not-married`, dan `Never-married`. "
   ]
  },
  {
   "cell_type": "code",
   "execution_count": 13,
   "metadata": {},
   "outputs": [
    {
     "data": {
      "text/plain": [
       "Married-civ-spouse       22379\n",
       "Never-married            16117\n",
       "Divorced                  6633\n",
       "Separated                 1530\n",
       "Widowed                   1518\n",
       "Married-spouse-absent      628\n",
       "Married-AF-spouse           37\n",
       "Name: marital-status, dtype: int64"
      ]
     },
     "execution_count": 13,
     "metadata": {},
     "output_type": "execute_result"
    }
   ],
   "source": [
    "df_adult['marital-status'].value_counts()"
   ]
  },
  {
   "cell_type": "code",
   "execution_count": 14,
   "metadata": {},
   "outputs": [],
   "source": [
    "def change_married_status(x):\n",
    "    if x == 'Never-married':\n",
    "        return x\n",
    "    elif x == 'Divorced' or x == 'Separated' or x == 'Widowed':\n",
    "        return 'Not-Married'\n",
    "    else:\n",
    "        return 'Married'"
   ]
  },
  {
   "cell_type": "code",
   "execution_count": 15,
   "metadata": {},
   "outputs": [
    {
     "data": {
      "text/plain": [
       "array(['Never-married', 'Married', 'Not-Married'], dtype=object)"
      ]
     },
     "execution_count": 15,
     "metadata": {},
     "output_type": "execute_result"
    }
   ],
   "source": [
    "df_adult['marital-status'] = df_adult['marital-status'].apply(change_married_status)\n",
    "df_adult['marital-status'].unique()"
   ]
  },
  {
   "cell_type": "markdown",
   "metadata": {},
   "source": [
    "### Kolom Country\n",
    "\n",
    "Dari data `native-country` terlihat bahwa kita bisa menginginkan untuk melakukan **grouping** atas negara-negara asal tersebut ke dalam bentuk region yang sama, hal ini bertujuan untuk memberikan untuk *memberikan tambahan kekuatan* atas fitur `native-country`. Tentunya, hal ini merupakan diskresi dari masing-masing analis."
   ]
  },
  {
   "cell_type": "code",
   "execution_count": 16,
   "metadata": {},
   "outputs": [
    {
     "data": {
      "text/plain": [
       "United-States                 43832\n",
       "Mexico                          951\n",
       "?                               857\n",
       "Philippines                     295\n",
       "Germany                         206\n",
       "Puerto-Rico                     184\n",
       "Canada                          182\n",
       "El-Salvador                     155\n",
       "India                           151\n",
       "Cuba                            138\n",
       "England                         127\n",
       "China                           122\n",
       "South                           115\n",
       "Jamaica                         106\n",
       "Italy                           105\n",
       "Dominican-Republic              103\n",
       "Japan                            92\n",
       "Guatemala                        88\n",
       "Poland                           87\n",
       "Vietnam                          86\n",
       "Columbia                         85\n",
       "Haiti                            75\n",
       "Portugal                         67\n",
       "Taiwan                           65\n",
       "Iran                             59\n",
       "Nicaragua                        49\n",
       "Greece                           49\n",
       "Peru                             46\n",
       "Ecuador                          45\n",
       "France                           38\n",
       "Ireland                          37\n",
       "Hong                             30\n",
       "Thailand                         30\n",
       "Cambodia                         28\n",
       "Trinadad&Tobago                  27\n",
       "Yugoslavia                       23\n",
       "Outlying-US(Guam-USVI-etc)       23\n",
       "Laos                             23\n",
       "Scotland                         21\n",
       "Honduras                         20\n",
       "Hungary                          19\n",
       "Holand-Netherlands                1\n",
       "Name: native-country, dtype: int64"
      ]
     },
     "execution_count": 16,
     "metadata": {},
     "output_type": "execute_result"
    }
   ],
   "source": [
    "df_adult['native-country'].value_counts()"
   ]
  },
  {
   "cell_type": "markdown",
   "metadata": {},
   "source": [
    "Kita mengingkan adanya penggabungan antara negara dengan region yang sama. Maka, kita akan membaginya menjadi 5 bagian yaitu `north-america`, `asia`, `south-america`, `europe`, dan  `others`.\n",
    "\n",
    "Terdapat 2 cara yang bisa digunakan, cara paling cepat untuk menghemat memory adalah sebagai berikut:\n",
    "```python\n",
    "# buat dictionary\n",
    "dict_countries = {\n",
    "    'north_america' : [\"Canada\", \"Cuba\", \"Dominican-Republic\", \"El-Salvador\", \"Guatemala\", \"Haiti\", \"Honduras\", \n",
    "                         \"Jamaica\", \"Mexico\", \"Nicaragua\",\"Outlying-US(Guam-USVI-etc)\", \"Puerto-Rico\", \n",
    "                       \"Trinadad&Tobago\",\"United-States\"], \n",
    "    'asia' : [\"Cambodia\", \"China\", \"Hong\", \"India\", \"Iran\", \"Japan\", \"Laos\",\n",
    "              \"Philippines\", \"Taiwan\", \"Thailand\", \"Vietnam\"],\n",
    "    'south_america ' : [\"Columbia\", \"Ecuador\", \"Peru\"],\n",
    "    'europe' : [\"England\", \"France\", \"Germany\", \"Greece\", \"Holand-Netherlands\",\"Hungary\", \"Ireland\", \"Italy\",\n",
    "                    \"Poland\", \"Portugal\", \"Scotland\", \"Yugoslavia\"], \n",
    "    'others' : [\"South\", \"?\"]\n",
    "    }\n",
    "\n",
    "# buat fungsi \n",
    "def change_toregion(x):\n",
    "    for k,v in dict_countries.items():\n",
    "        if x in v:\n",
    "            return k\n",
    "        \n",
    "# apply perubahan pada semua data\n",
    "df_adult['native-country'] = df_adult['native-country'].apply(change_toregion)\n",
    "```\n",
    "\n",
    "Akan tetapi, kita akan menggunakan cara yang paling sederhana sebagai berikut"
   ]
  },
  {
   "cell_type": "code",
   "execution_count": 17,
   "metadata": {},
   "outputs": [],
   "source": [
    "# buat list untuk setiap region\n",
    "north_america = [\"Canada\", \"Cuba\", \"Dominican-Republic\", \"El-Salvador\", \"Guatemala\", \"Haiti\", \"Honduras\", \n",
    " \"Jamaica\", \"Mexico\", \"Nicaragua\",\"Outlying-US(Guam-USVI-etc)\", \"Puerto-Rico\", \n",
    " \"Trinadad&Tobago\",\"United-States\"]\n",
    "asia = [\"Cambodia\", \"China\", \"Hong\", \"India\", \"Iran\", \"Japan\", \"Laos\",\n",
    "          \"Philippines\", \"Taiwan\", \"Thailand\", \"Vietnam\"]\n",
    "south_america = [\"Columbia\", \"Ecuador\", \"Peru\"]\n",
    "europe = [\"England\", \"France\", \"Germany\", \"Greece\", \"Holand-Netherlands\",\"Hungary\", \"Ireland\", \n",
    "          \"Italy\", \"Poland\", \"Portugal\", \"Scotland\", \"Yugoslavia\"]\n",
    "others = [\"South\", \"?\"]"
   ]
  },
  {
   "cell_type": "code",
   "execution_count": 18,
   "metadata": {},
   "outputs": [],
   "source": [
    "# apply perubahan satu persatu\n",
    "df_adult['native-country'] = df_adult['native-country'].apply(lambda x: 'north_america' if x in north_america else x)\n",
    "df_adult['native-country'] = df_adult['native-country'].apply(lambda x: 'asia' if x in asia else x)\n",
    "df_adult['native-country'] = df_adult['native-country'].apply(lambda x: 'south_america' if x in south_america else x)\n",
    "df_adult['native-country'] = df_adult['native-country'].apply(lambda x: 'europe' if x in europe else x)\n",
    "df_adult['native-country'] = df_adult['native-country'].apply(lambda x: 'others' if x in others else x)"
   ]
  },
  {
   "cell_type": "code",
   "execution_count": 19,
   "metadata": {},
   "outputs": [
    {
     "data": {
      "text/plain": [
       "north_america    45933\n",
       "asia               981\n",
       "others             972\n",
       "europe             780\n",
       "south_america      176\n",
       "Name: native-country, dtype: int64"
      ]
     },
     "execution_count": 19,
     "metadata": {},
     "output_type": "execute_result"
    }
   ],
   "source": [
    "# perhatikan perubahannya\n",
    "df_adult['native-country'].value_counts()"
   ]
  },
  {
   "cell_type": "markdown",
   "metadata": {},
   "source": [
    "### Kolom Occupation\n",
    "\n",
    "Kali ini kita hanya akan mengganti nilai `?` menjadi `NaN` dengan cara yang sama di atas."
   ]
  },
  {
   "cell_type": "code",
   "execution_count": 20,
   "metadata": {},
   "outputs": [
    {
     "data": {
      "text/plain": [
       "array(['Machine-op-inspct', 'Farming-fishing', 'Protective-serv', '?',\n",
       "       'Other-service', 'Prof-specialty', 'Craft-repair', 'Adm-clerical',\n",
       "       'Exec-managerial', 'Tech-support', 'Sales', 'Priv-house-serv',\n",
       "       'Transport-moving', 'Handlers-cleaners', 'Armed-Forces'],\n",
       "      dtype=object)"
      ]
     },
     "execution_count": 20,
     "metadata": {},
     "output_type": "execute_result"
    }
   ],
   "source": [
    "df_adult.occupation.unique()"
   ]
  },
  {
   "cell_type": "code",
   "execution_count": 21,
   "metadata": {},
   "outputs": [],
   "source": [
    "df_adult.occupation = df_adult.occupation.apply(lambda x: np.nan if x.startswith('?') else x)"
   ]
  },
  {
   "cell_type": "code",
   "execution_count": 22,
   "metadata": {},
   "outputs": [
    {
     "data": {
      "text/plain": [
       "array(['Machine-op-inspct', 'Farming-fishing', 'Protective-serv', nan,\n",
       "       'Other-service', 'Prof-specialty', 'Craft-repair', 'Adm-clerical',\n",
       "       'Exec-managerial', 'Tech-support', 'Sales', 'Priv-house-serv',\n",
       "       'Transport-moving', 'Handlers-cleaners', 'Armed-Forces'],\n",
       "      dtype=object)"
      ]
     },
     "execution_count": 22,
     "metadata": {},
     "output_type": "execute_result"
    }
   ],
   "source": [
    "df_adult.occupation.unique()"
   ]
  },
  {
   "cell_type": "markdown",
   "metadata": {},
   "source": [
    "## 2. Data Exploration\n",
    "\n",
    "Tahap yang kedua ini sangat penting untuk dilakukan, umumnya kita melihat anomali yang terjadi di data dan melakukan tindakan yang diperlukan. Selanjutnya, tahapan berikut adalah melakukan visualisasi atas data yang ada.\n",
    "\n",
    "### Cari data anomali dan perbaiki\n",
    "Saat ini kita memiliki banyak data NULL berupa `NaN`, langkah yang bisa kita lakukan adalah pengisian *(impute)* atau penghapusan. Pilihan pertama dapat kita lakukan apabila dirasa penting, namun langkah kedualah yang akan kita lakukan untuk kesederhanaan."
   ]
  },
  {
   "cell_type": "code",
   "execution_count": 23,
   "metadata": {},
   "outputs": [
    {
     "data": {
      "text/plain": [
       "2809"
      ]
     },
     "execution_count": 23,
     "metadata": {},
     "output_type": "execute_result"
    }
   ],
   "source": [
    "len(df_adult[df_adult.occupation.isnull() == True])"
   ]
  },
  {
   "cell_type": "code",
   "execution_count": 24,
   "metadata": {},
   "outputs": [
    {
     "data": {
      "text/plain": [
       "2799"
      ]
     },
     "execution_count": 24,
     "metadata": {},
     "output_type": "execute_result"
    }
   ],
   "source": [
    "len(df_adult[df_adult.workclass.isnull() == True])"
   ]
  },
  {
   "cell_type": "code",
   "execution_count": 25,
   "metadata": {},
   "outputs": [
    {
     "data": {
      "text/plain": [
       "2799"
      ]
     },
     "execution_count": 25,
     "metadata": {},
     "output_type": "execute_result"
    }
   ],
   "source": [
    "len(df_adult[df_adult.workclass.isnull() & df_adult.occupation.isnull()])"
   ]
  },
  {
   "cell_type": "code",
   "execution_count": 26,
   "metadata": {},
   "outputs": [
    {
     "data": {
      "text/html": [
       "<div>\n",
       "<style scoped>\n",
       "    .dataframe tbody tr th:only-of-type {\n",
       "        vertical-align: middle;\n",
       "    }\n",
       "\n",
       "    .dataframe tbody tr th {\n",
       "        vertical-align: top;\n",
       "    }\n",
       "\n",
       "    .dataframe thead th {\n",
       "        text-align: right;\n",
       "    }\n",
       "</style>\n",
       "<table border=\"1\" class=\"dataframe\">\n",
       "  <thead>\n",
       "    <tr style=\"text-align: right;\">\n",
       "      <th></th>\n",
       "      <th>age</th>\n",
       "      <th>workclass</th>\n",
       "      <th>fnlwgt</th>\n",
       "      <th>education</th>\n",
       "      <th>educational-num</th>\n",
       "      <th>marital-status</th>\n",
       "      <th>occupation</th>\n",
       "      <th>relationship</th>\n",
       "      <th>race</th>\n",
       "      <th>gender</th>\n",
       "      <th>capital-gain</th>\n",
       "      <th>capital-loss</th>\n",
       "      <th>hours-per-week</th>\n",
       "      <th>native-country</th>\n",
       "      <th>income</th>\n",
       "    </tr>\n",
       "  </thead>\n",
       "  <tbody>\n",
       "    <tr>\n",
       "      <td>4</td>\n",
       "      <td>18</td>\n",
       "      <td>NaN</td>\n",
       "      <td>103497</td>\n",
       "      <td>Some-college</td>\n",
       "      <td>10</td>\n",
       "      <td>Never-married</td>\n",
       "      <td>NaN</td>\n",
       "      <td>Own-child</td>\n",
       "      <td>White</td>\n",
       "      <td>Female</td>\n",
       "      <td>0</td>\n",
       "      <td>0</td>\n",
       "      <td>30</td>\n",
       "      <td>north_america</td>\n",
       "      <td>&lt;=50K</td>\n",
       "    </tr>\n",
       "    <tr>\n",
       "      <td>6</td>\n",
       "      <td>29</td>\n",
       "      <td>NaN</td>\n",
       "      <td>227026</td>\n",
       "      <td>HS-grad</td>\n",
       "      <td>9</td>\n",
       "      <td>Never-married</td>\n",
       "      <td>NaN</td>\n",
       "      <td>Unmarried</td>\n",
       "      <td>Black</td>\n",
       "      <td>Male</td>\n",
       "      <td>0</td>\n",
       "      <td>0</td>\n",
       "      <td>40</td>\n",
       "      <td>north_america</td>\n",
       "      <td>&lt;=50K</td>\n",
       "    </tr>\n",
       "    <tr>\n",
       "      <td>13</td>\n",
       "      <td>58</td>\n",
       "      <td>NaN</td>\n",
       "      <td>299831</td>\n",
       "      <td>HS-grad</td>\n",
       "      <td>9</td>\n",
       "      <td>Married</td>\n",
       "      <td>NaN</td>\n",
       "      <td>Husband</td>\n",
       "      <td>White</td>\n",
       "      <td>Male</td>\n",
       "      <td>0</td>\n",
       "      <td>0</td>\n",
       "      <td>35</td>\n",
       "      <td>north_america</td>\n",
       "      <td>&lt;=50K</td>\n",
       "    </tr>\n",
       "    <tr>\n",
       "      <td>22</td>\n",
       "      <td>72</td>\n",
       "      <td>NaN</td>\n",
       "      <td>132015</td>\n",
       "      <td>7th-8th</td>\n",
       "      <td>4</td>\n",
       "      <td>Not-Married</td>\n",
       "      <td>NaN</td>\n",
       "      <td>Not-in-family</td>\n",
       "      <td>White</td>\n",
       "      <td>Female</td>\n",
       "      <td>0</td>\n",
       "      <td>0</td>\n",
       "      <td>6</td>\n",
       "      <td>north_america</td>\n",
       "      <td>&lt;=50K</td>\n",
       "    </tr>\n",
       "    <tr>\n",
       "      <td>35</td>\n",
       "      <td>65</td>\n",
       "      <td>NaN</td>\n",
       "      <td>191846</td>\n",
       "      <td>HS-grad</td>\n",
       "      <td>9</td>\n",
       "      <td>Married</td>\n",
       "      <td>NaN</td>\n",
       "      <td>Husband</td>\n",
       "      <td>White</td>\n",
       "      <td>Male</td>\n",
       "      <td>0</td>\n",
       "      <td>0</td>\n",
       "      <td>40</td>\n",
       "      <td>north_america</td>\n",
       "      <td>&lt;=50K</td>\n",
       "    </tr>\n",
       "  </tbody>\n",
       "</table>\n",
       "</div>"
      ],
      "text/plain": [
       "    age workclass  fnlwgt     education  educational-num marital-status  \\\n",
       "4    18       NaN  103497  Some-college               10  Never-married   \n",
       "6    29       NaN  227026       HS-grad                9  Never-married   \n",
       "13   58       NaN  299831       HS-grad                9        Married   \n",
       "22   72       NaN  132015       7th-8th                4    Not-Married   \n",
       "35   65       NaN  191846       HS-grad                9        Married   \n",
       "\n",
       "   occupation   relationship   race  gender  capital-gain  capital-loss  \\\n",
       "4         NaN      Own-child  White  Female             0             0   \n",
       "6         NaN      Unmarried  Black    Male             0             0   \n",
       "13        NaN        Husband  White    Male             0             0   \n",
       "22        NaN  Not-in-family  White  Female             0             0   \n",
       "35        NaN        Husband  White    Male             0             0   \n",
       "\n",
       "    hours-per-week native-country income  \n",
       "4               30  north_america  <=50K  \n",
       "6               40  north_america  <=50K  \n",
       "13              35  north_america  <=50K  \n",
       "22               6  north_america  <=50K  \n",
       "35              40  north_america  <=50K  "
      ]
     },
     "execution_count": 26,
     "metadata": {},
     "output_type": "execute_result"
    }
   ],
   "source": [
    "df_adult[df_adult.workclass.isnull() & df_adult.occupation.isnull()].head()"
   ]
  },
  {
   "cell_type": "markdown",
   "metadata": {},
   "source": [
    "Dapat dilihat bahwa sebanyak 2.799 data terdapat 2 nilai `NaN` pada satu baris untuk kolom `occupation` dan `workclass`. Sedangkan, 2.809 hanya `occupation`.\n",
    "\n",
    "Karena kita ingin memprediksi besaran `income` maka, kita harus memiliki nilai ini. Oleh karena itu, kita akan menghilangkan semua data `NaN` ini."
   ]
  },
  {
   "cell_type": "code",
   "execution_count": 27,
   "metadata": {},
   "outputs": [],
   "source": [
    "# Hapus record yang memiliki nilai NaN pada attributnya\n",
    "df_adult = df_adult.dropna(how='any')"
   ]
  },
  {
   "cell_type": "code",
   "execution_count": 28,
   "metadata": {},
   "outputs": [
    {
     "data": {
      "text/plain": [
       "46033"
      ]
     },
     "execution_count": 28,
     "metadata": {},
     "output_type": "execute_result"
    }
   ],
   "source": [
    "len(df_adult)"
   ]
  },
  {
   "cell_type": "markdown",
   "metadata": {},
   "source": [
    "Sekarang, kita hanya memiliki 46.033 dataset setelah dibersihkan.\n",
    "\n",
    "### Cari Informasi Sebanyak-banyaknya dari data\n",
    "Tahapan ini dapat kita sebut dengan **Data Exploration**, salah satu tools yang kita gunakan adalah **visualisasi**. Teknik ini menjadi penting karena kita bisa mendapatkan informasi yang sebelumnya tidak bisa didapatkan hanya dari angka dan kata.\n",
    "\n",
    "Berikut ini kita tampilkan plot informasi pada setiap kolom terhadap income"
   ]
  },
  {
   "cell_type": "code",
   "execution_count": 29,
   "metadata": {},
   "outputs": [
    {
     "data": {
      "image/png": "[encoded data removed]",
      "text/plain": [
       "<Figure size 1440x1080 with 15 Axes>"
      ]
     },
     "metadata": {
      "needs_background": "light"
     },
     "output_type": "display_data"
    }
   ],
   "source": [
    "from math import ceil\n",
    "\n",
    "fig = plt.figure(figsize=(20,15))\n",
    "cols = 5\n",
    "rows = ceil(float(df_adult.shape[1]) / cols)\n",
    "# looping setiap kolom dan indeksnya\n",
    "for i, column in enumerate(df_adult.columns):\n",
    "    # urutan setiap subplot\n",
    "    ax = fig.add_subplot(rows, cols, i + 1)\n",
    "    # set judul chart\n",
    "    ax.set_title(column)\n",
    "    \n",
    "    if df_adult.dtypes[column] == np.object:\n",
    "        df_adult[column].value_counts().plot(kind=\"bar\", axes=ax)\n",
    "    else:\n",
    "        df_adult[column].hist(axes=ax)\n",
    "        plt.xticks(rotation=\"vertical\")\n",
    "        \n",
    "plt.subplots_adjust(hspace=0.7, wspace=0.2)"
   ]
  },
  {
   "cell_type": "markdown",
   "metadata": {},
   "source": [
    "Dapat dilihat dari data di atas, sebagian besar data ada di daerah `north_america`, dan sebagian besar income di bawah $50,000. Di samping itu, ras yang mendominasi adalah kulit putih dan gendernya pria.\n"
   ]
  },
  {
   "cell_type": "code",
   "execution_count": 30,
   "metadata": {},
   "outputs": [
    {
     "data": {
      "image/png": "[encoded data removed]",
      "text/plain": [
       "<Figure size 1152x576 with 1 Axes>"
      ]
     },
     "metadata": {
      "needs_background": "light"
     },
     "output_type": "display_data"
    }
   ],
   "source": [
    "plt.figure(figsize=(16, 8))\n",
    "plt.hist(df_adult.age, bins=100, normed=None, histtype='bar', stacked=True)\n",
    "plt.show()"
   ]
  },
  {
   "cell_type": "markdown",
   "metadata": {},
   "source": [
    "\n",
    "Berikutnya kita akan melakukan visualisasi dengan menggunakan *heatmap*, unutk mendapatkan korelasi antara variabel. Akan tetapi, sebelumnya kita akan melakukan `label encoding` pada target variabel dan `gender`, karena mereka adalah binary variabel."
   ]
  },
  {
   "cell_type": "code",
   "execution_count": 31,
   "metadata": {},
   "outputs": [],
   "source": [
    "salary_map={'<=50K': 1,'>50K':0}\n",
    "\n",
    "df_adult.income = df_adult['income'].map(salary_map).astype(int)\n",
    "\n",
    "df_adult['gender'] = df_adult['gender'].map({'Male':1,'Female':0}).astype(int)\n"
   ]
  },
  {
   "cell_type": "markdown",
   "metadata": {},
   "source": [
    "Di samping itu, terdapat data categorical yaitu `education` yang akan kita lakukan encoding, karena terlihat sangat mirip dengan `educational-num`. Untuk itu, kita coba lakukan `LabelEncoder` pada fitur ini."
   ]
  },
  {
   "cell_type": "code",
   "execution_count": 32,
   "metadata": {},
   "outputs": [
    {
     "data": {
      "text/plain": [
       "array(['11th', 'HS-grad', 'Assoc-acdm', 'Some-college', '10th',\n",
       "       'Prof-school', '7th-8th', 'Bachelors', 'Masters', 'Doctorate',\n",
       "       '5th-6th', 'Assoc-voc', '9th', '12th', '1st-4th', 'Preschool'],\n",
       "      dtype=object)"
      ]
     },
     "execution_count": 32,
     "metadata": {},
     "output_type": "execute_result"
    }
   ],
   "source": [
    "df_adult.education.unique()"
   ]
  },
  {
   "cell_type": "code",
   "execution_count": 33,
   "metadata": {},
   "outputs": [],
   "source": [
    "from sklearn.preprocessing import LabelEncoder\n",
    "\n",
    "df_adult.education = LabelEncoder().fit_transform(df_adult.education)"
   ]
  },
  {
   "cell_type": "markdown",
   "metadata": {},
   "source": [
    "### Visualisasi heatmap untuk mencari relasi variabel\n",
    "Proses ini penting, terutama untuk menghilangkan variabel yang sangat berkorelasi. "
   ]
  },
  {
   "cell_type": "code",
   "execution_count": 34,
   "metadata": {},
   "outputs": [
    {
     "data": {
      "image/png": "[encoded data removed]",
      "text/plain": [
       "<Figure size 1080x1080 with 1 Axes>"
      ]
     },
     "metadata": {
      "needs_background": "light"
     },
     "output_type": "display_data"
    }
   ],
   "source": [
    "def plot_correlation(df, size=15):\n",
    "    corr= df.corr()\n",
    "    fig, ax =plt.subplots(figsize=(size,size))\n",
    "    ax.matshow(corr)\n",
    "    plt.xticks(range(len(corr.columns)),corr.columns)\n",
    "    plt.yticks(range(len(corr.columns)),corr.columns)\n",
    "    plt.show()\n",
    "\n",
    "plot_correlation(df_adult)\n"
   ]
  },
  {
   "cell_type": "markdown",
   "metadata": {},
   "source": [
    "Dari plot di atas terlihat dengan jelas bahwa `education` dan `educational-num` memang sangat berkaitan. Maka kita akan buang salah satu, tetapi `educational-num` ternyata memiliki properti **ordinal**, yaitu berurutan dengan makna dimana angka lebih besar, memiliki tingkat edukasi yang lebih tinggi."
   ]
  },
  {
   "cell_type": "code",
   "execution_count": 35,
   "metadata": {},
   "outputs": [],
   "source": [
    "del df_adult['education']"
   ]
  },
  {
   "cell_type": "markdown",
   "metadata": {},
   "source": [
    "### Encode Categorical Data\n",
    "Tahapan ini merupakan tahap akhir sebelum dilakukan data analisis.\n",
    "\n",
    "Seluruh fitur data yang bersifat categorical string, harus diubah menjadi angka. Terdapat 2 cara yang umum dilakukan, yaitu cara manual dengan mengaplikasikan fungsi `replace`, `map`, `apply` dan lainnya, serta cara lain yaitu menggunakan fungsi `LabelEncoder`. "
   ]
  },
  {
   "cell_type": "code",
   "execution_count": 36,
   "metadata": {},
   "outputs": [
    {
     "data": {
      "text/plain": [
       "Index(['age', 'workclass', 'fnlwgt', 'educational-num', 'marital-status',\n",
       "       'occupation', 'relationship', 'race', 'gender', 'capital-gain',\n",
       "       'capital-loss', 'hours-per-week', 'native-country', 'income'],\n",
       "      dtype='object')"
      ]
     },
     "execution_count": 36,
     "metadata": {},
     "output_type": "execute_result"
    }
   ],
   "source": [
    "df_adult.columns"
   ]
  },
  {
   "cell_type": "code",
   "execution_count": 37,
   "metadata": {},
   "outputs": [],
   "source": [
    "df_adult['native-country'] = LabelEncoder().fit_transform(df_adult['native-country'])\n",
    "df_adult['marital-status'] = LabelEncoder().fit_transform(df_adult['marital-status'])\n",
    "df_adult['relationship'] = LabelEncoder().fit_transform(df_adult['relationship'])\n",
    "df_adult['race'] = LabelEncoder().fit_transform(df_adult['race'])\n",
    "df_adult['occupation'] = LabelEncoder().fit_transform(df_adult['occupation'])\n",
    "df_adult['workclass'] = LabelEncoder().fit_transform(df_adult['workclass'])"
   ]
  },
  {
   "cell_type": "code",
   "execution_count": null,
   "metadata": {},
   "outputs": [],
   "source": [
    "df_adult.head()"
   ]
  },
  {
   "cell_type": "markdown",
   "metadata": {},
   "source": [
    "## 3. Data Analisis\n",
    "Tahap ini merupakan tahapan pembentukan model dari dataset yang ada. \n",
    "Kali ini, Anda akan diminta untuk melakukan *model selection* yang artinya, melakukan pemilihan model yang paling bagus di antara model-model yang ada. \n",
    "\n",
    "Sebagaimana biasa, kita akan melakukan `train_test_split`. Kali ini, kita akan memisahkan antara data training dan data validasi."
   ]
  },
  {
   "cell_type": "code",
   "execution_count": 38,
   "metadata": {},
   "outputs": [],
   "source": [
    "df = df_adult.copy()"
   ]
  },
  {
   "cell_type": "code",
   "execution_count": 39,
   "metadata": {},
   "outputs": [],
   "source": [
    "from sklearn.model_selection import train_test_split\n",
    "\n",
    "# X merupakan dataset kecuali target variabel\n",
    "X = df.drop(['income'],axis=1)\n",
    "y = df.income\n",
    "\n",
    "# kita gunakan 70% data training\n",
    "split_size=0.3\n",
    "\n",
    "# Creation of Train and Test dataset\n",
    "X_train, X_test, y_train, y_test = train_test_split(X,y,test_size=split_size,random_state=22)\n",
    "\n",
    "# Creation of Train and validation dataset\n",
    "X_train, X_val, y_train, y_val = train_test_split(X_train,y_train,test_size=0.2,random_state=5)"
   ]
  },
  {
   "cell_type": "markdown",
   "metadata": {},
   "source": [
    "Import semua library classifier yang akan kita gunakan."
   ]
  },
  {
   "cell_type": "code",
   "execution_count": 40,
   "metadata": {},
   "outputs": [],
   "source": [
    "from sklearn.linear_model import LogisticRegression\n",
    "from sklearn.ensemble import RandomForestClassifier\n",
    "from sklearn.ensemble import GradientBoostingClassifier\n",
    "from sklearn.neural_network import MLPClassifier\n",
    "from sklearn.naive_bayes import GaussianNB\n",
    "from sklearn.tree import DecisionTreeClassifier\n",
    "from sklearn.svm import SVC"
   ]
  },
  {
   "cell_type": "code",
   "execution_count": 41,
   "metadata": {},
   "outputs": [],
   "source": [
    "models = []\n",
    "\n",
    "names = ['LR','Random Forest','Neural Network','GaussianNB','DecisionTreeClassifier','SVM',]\n",
    "\n",
    "models.append((LogisticRegression()))\n",
    "models.append((RandomForestClassifier(n_estimators=100)))\n",
    "\n",
    "models.append((MLPClassifier()))\n",
    "models.append((GaussianNB()))\n",
    "models.append((DecisionTreeClassifier()))\n",
    "models.append((SVC()))"
   ]
  },
  {
   "cell_type": "code",
   "execution_count": 42,
   "metadata": {},
   "outputs": [],
   "source": [
    "from sklearn import model_selection\n",
    "from sklearn.metrics import accuracy_score"
   ]
  },
  {
   "cell_type": "markdown",
   "metadata": {},
   "source": [
    "Lakukan model selection dengan menggunakan KFold cross validation sebanyak 5 split dan hitung nilai `accuracy` nya."
   ]
  },
  {
   "cell_type": "code",
   "execution_count": null,
   "metadata": {},
   "outputs": [
    {
     "name": "stdout",
     "output_type": "stream",
     "text": [
      "----------------------------------------\n",
      "LR: 0.7942591155934833\n",
      "----------------------------------------\n",
      "Random Forest: 0.8524437548487199\n"
     ]
    },
    {
     "name": "stderr",
     "output_type": "stream",
     "text": [
      "/Users/hargi/opt/anaconda3/lib/python3.7/site-packages/sklearn/neural_network/multilayer_perceptron.py:566: ConvergenceWarning: Stochastic Optimizer: Maximum iterations (200) reached and the optimization hasn't converged yet.\n",
      "  % self.max_iter, ConvergenceWarning)\n",
      "/Users/hargi/opt/anaconda3/lib/python3.7/site-packages/sklearn/neural_network/multilayer_perceptron.py:568: UserWarning: Training interrupted by user.\n",
      "  warnings.warn(\"Training interrupted by user.\")\n",
      "/Users/hargi/opt/anaconda3/lib/python3.7/site-packages/sklearn/neural_network/multilayer_perceptron.py:566: ConvergenceWarning: Stochastic Optimizer: Maximum iterations (200) reached and the optimization hasn't converged yet.\n",
      "  % self.max_iter, ConvergenceWarning)\n",
      "/Users/hargi/opt/anaconda3/lib/python3.7/site-packages/sklearn/neural_network/multilayer_perceptron.py:568: UserWarning: Training interrupted by user.\n",
      "  warnings.warn(\"Training interrupted by user.\")\n",
      "/Users/hargi/opt/anaconda3/lib/python3.7/site-packages/sklearn/neural_network/multilayer_perceptron.py:566: ConvergenceWarning: Stochastic Optimizer: Maximum iterations (200) reached and the optimization hasn't converged yet.\n",
      "  % self.max_iter, ConvergenceWarning)\n"
     ]
    }
   ],
   "source": [
    "kfold = model_selection.KFold(n_splits=5,random_state=7)\n",
    "\n",
    "for i in range(0,len(models)):    \n",
    "    cv_result = model_selection.cross_val_score(models[i],X_train,y_train,cv=kfold,scoring='accuracy')\n",
    "    score=models[i].fit(X_train,y_train)\n",
    "    prediction = models[i].predict(X_val)\n",
    "    acc_score = accuracy_score(y_val,prediction)     \n",
    "    print ('-'*40)\n",
    "    print ('{0}: {1}'.format(names[i],acc_score))\n",
    "    "
   ]
  },
  {
   "cell_type": "markdown",
   "metadata": {},
   "source": [
    "Dari Data di atas ternyata, `RandomForestClassfier` memiliki nilai akurasi tertinggi sebesar 85%.\n",
    "\n",
    "## 4. Evaluasi atas performa model\n",
    "Dikarenakan `RandomForestClassifier` memiliki nilai tertinggi, kita akan menggunakan model tersebut sebagai baseline untuk pengukuran performa model kita."
   ]
  },
  {
   "cell_type": "code",
   "execution_count": null,
   "metadata": {},
   "outputs": [],
   "source": [
    "from sklearn.metrics import classification_report\n",
    "from sklearn.metrics import confusion_matrix"
   ]
  },
  {
   "cell_type": "code",
   "execution_count": null,
   "metadata": {},
   "outputs": [],
   "source": [
    "randomForest = RandomForestClassifier(n_estimators=100)\n",
    "randomForest.fit(X_train,y_train)\n",
    "prediction = randomForest.predict(X_test)"
   ]
  },
  {
   "cell_type": "code",
   "execution_count": null,
   "metadata": {},
   "outputs": [],
   "source": [
    "print ('-'*40)\n",
    "print ('Accuracy score:')\n",
    "print (accuracy_score(y_test,prediction))\n",
    "print ('-'*40)\n",
    "print ('Confusion Matrix:')\n",
    "print (confusion_matrix(y_test,prediction))\n",
    "print ('-'*40)\n",
    "print ('Classification Matrix:')\n",
    "print (classification_report(y_test,prediction))"
   ]
  },
  {
   "cell_type": "markdown",
   "metadata": {},
   "source": [
    "Dapat diketahui nilai sebagai berikut:\n",
    "\n",
    "- TP = 2184\n",
    "- TN = 9629\n",
    "- FN = 909\n",
    "- FP = 1288\n",
    "\n",
    "Recall = 70.6%<br>\n",
    "Precision = 62.9%<br>\n",
    "Accuracy = 85%"
   ]
  },
  {
   "cell_type": "markdown",
   "metadata": {},
   "source": [
    "## 5. Grid Search CV ~ Additional Materials\n",
    "\n",
    "Ketika Anda menginginkan untuk mendapatkan hasil yang lebih baik. Anda dapat menggunakan GridSearchCV untuk mendapatkan parameter terbaik. Anda dapat melakukan GridSearchCV terlebih dahulu, baru melakukan k-Fold Cross Validation atau dikombinasikan pada saat yang bersamaan."
   ]
  },
  {
   "cell_type": "code",
   "execution_count": null,
   "metadata": {},
   "outputs": [],
   "source": [
    "'''jangan pakai gridsearch kecuali dibawah 80%\n",
    "jangan pakai tunning, default aja, kecuali dibawah 80%'''"
   ]
  },
  {
   "cell_type": "code",
   "execution_count": null,
   "metadata": {},
   "outputs": [],
   "source": [
    "from sklearn.model_selection import GridSearchCV"
   ]
  },
  {
   "cell_type": "code",
   "execution_count": null,
   "metadata": {},
   "outputs": [],
   "source": [
    "def print_results(results):\n",
    "    print('BEST PARAMS: {}\\n'.format(results.best_params_))\n",
    "\n",
    "    means = results.cv_results_['mean_test_score']\n",
    "    stds = results.cv_results_['std_test_score']\n",
    "    for mean, std, params in zip(means, stds, results.cv_results_['params']):\n",
    "        print('{} (+/-{}) for {}'.format(round(mean, 3), round(std * 2, 3), params))"
   ]
  },
  {
   "cell_type": "code",
   "execution_count": null,
   "metadata": {},
   "outputs": [],
   "source": [
    "?LogisticRegression"
   ]
  },
  {
   "cell_type": "code",
   "execution_count": null,
   "metadata": {},
   "outputs": [],
   "source": [
    "lr = LogisticRegression()\n",
    "parameters = {\n",
    "    'C': [0.001, 0.01, 0.1, 1, 10, 100, 1000]\n",
    "}\n",
    "\n",
    "cv = GridSearchCV(lr, parameters, cv=5)\n",
    "cv.fit(X_train, y_train.values.ravel())\n",
    "\n",
    "print_results(cv)"
   ]
  },
  {
   "cell_type": "code",
   "execution_count": null,
   "metadata": {},
   "outputs": [],
   "source": [
    "svc = SVC()\n",
    "parameters = {\n",
    "    'kernel': ['linear', 'rbf'],\n",
    "    'C': [0.1, 1, 10]\n",
    "}\n",
    "\n",
    "cv = GridSearchCV(svc, parameters, cv=3)\n",
    "cv.fit(X_train, y_train.values.ravel())\n",
    "\n",
    "print_results(cv)"
   ]
  },
  {
   "cell_type": "code",
   "execution_count": null,
   "metadata": {},
   "outputs": [],
   "source": [
    "mlp = MLPClassifier()\n",
    "parameters = {\n",
    "    'hidden_layer_sizes': [(10,), (50,), (100,)],\n",
    "    'activation': ['relu', 'tanh', 'logistic'],\n",
    "    'learning_rate': ['constant', 'invscaling', 'adaptive']\n",
    "}\n",
    "\n",
    "cv = GridSearchCV(mlp, parameters, cv=5)\n",
    "cv.fit(X_train, y_train.values.ravel())\n",
    "\n",
    "print_results(cv)"
   ]
  },
  {
   "cell_type": "code",
   "execution_count": null,
   "metadata": {},
   "outputs": [],
   "source": [
    "rf = RandomForestClassifier()\n",
    "parameters = {\n",
    "    'n_estimators': [5, 50, 250],\n",
    "    'max_depth': [2, 4, 8, 16, 32, None]\n",
    "}\n",
    "\n",
    "cv = GridSearchCV(rf, parameters, cv=5)\n",
    "cv.fit(X_train, y_train.values.ravel())\n",
    "\n",
    "print_results(cv)"
   ]
  },
  {
   "cell_type": "code",
   "execution_count": null,
   "metadata": {},
   "outputs": [],
   "source": [
    "gb = GradientBoostingClassifier()\n",
    "parameters = {\n",
    "    'n_estimators': [5, 50, 250, 500],\n",
    "    'max_depth': [1, 3, 5, 7, 9],\n",
    "    'learning_rate': [0.01, 0.1, 1, 10, 100]\n",
    "}\n",
    "\n",
    "cv = GridSearchCV(gb, parameters, cv=5)\n",
    "cv.fit(X_train, y_train.values.ravel())\n",
    "\n",
    "print_results(cv)"
   ]
  },
  {
   "cell_type": "markdown",
   "metadata": {},
   "source": [
    "Kombinasi antara GridSearchCV dengan k-Fold Cross validation"
   ]
  },
  {
   "cell_type": "code",
   "execution_count": null,
   "metadata": {},
   "outputs": [],
   "source": [
    "#Function to print best hyperparamaters: \n",
    "def print_best_params(gd_model):\n",
    "    param_dict = gd_model.best_estimator_.get_params()\n",
    "    model_str = str(gd_model.estimator).split('(')[0]\n",
    "    print(\"\\n*** {} Best Parameters ***\".format(model_str))\n",
    "    for k in param_dict:\n",
    "        print(\"{}: {}\".format(k, param_dict[k]))\n",
    "    print()\n",
    "\n",
    "    \n",
    "#test train split\n",
    "X_train, X_test, y_train, y_test = train_test_split(X, y, test_size = 0.33, random_state = 0 )\n",
    "\n"
   ]
  },
  {
   "cell_type": "code",
   "execution_count": null,
   "metadata": {},
   "outputs": [],
   "source": [
    "\n",
    "#standard scaler (fit transform on train, fit only on test)\n",
    "#sc = StandardScaler()\n",
    "#X_train = sc.fit_transform(X_train.astype(np.float))\n",
    "#X_test= sc.transform(X_test.astype(np.float))\n",
    "\n",
    "###Challenge 1: SVC parameter grid###\n",
    "param_grid_svc = dict(kernel=[ 'linear'],\n",
    "                     degree=[2],\n",
    "                     C=[600, 700, 800, 900])\n",
    "\n",
    "svc = GridSearchCV(SVC(), param_grid=param_grid_svc, cv=5, verbose=3)\n",
    "\n",
    "\n",
    "#fit model\n",
    "svc = svc.fit(X_train,y_train.values)\n",
    "\n",
    "#print score\n",
    "print('\\n\\nsvr train score %.3f, sv test score: %.3f' % (\n",
    "svc.score(X_train,y_train),\n",
    "svc.score(X_test, y_test)))\n",
    "\n",
    "print_best_params(svc)\n",
    "\n",
    "\n",
    "###Challenge 2:Decision Tree parameter grid###\n",
    "param_grid_dt = dict(min_samples_leaf=np.arange(9, 13, 1, int), \n",
    "                  max_depth = np.arange(4,7,1, int),\n",
    "                  min_impurity_decrease = [0, 1, 2],\n",
    "                 )\n",
    "\n",
    "dt = GridSearchCV(DecisionTreeClassifier(random_state=0), param_grid=param_grid_dt, cv=5,  verbose=3)\n",
    "\n",
    "\n",
    "\n",
    "#fit model\n",
    "dt = dt.fit(X_train,y_train.values.ravel())\n",
    "\n",
    "\n",
    "#print score\n",
    "print('\\n\\ndt train score %.3f, dt test score: %.3f' % (\n",
    "dt.score(X_train,y_train),\n",
    "dt.score(X_test, y_test)))\n",
    "print_best_params(dt)\n",
    "\n",
    "\n",
    "###Challenge 3:Random Forest parameter grid###\n",
    "\n",
    "param_grid_rf = dict(n_estimators=[20],\n",
    "                     max_depth=np.arange(1, 13, 2),\n",
    "                     min_samples_split=[2],\n",
    "                     min_samples_leaf= np.arange(1, 15, 2, int),\n",
    "                     bootstrap=[True, False],\n",
    "                     oob_score=[False, ])\n",
    "\n",
    "\n",
    "forest = GridSearchCV(RandomForestClassifier(random_state=0), param_grid=param_grid_rf, cv=5, verbose=3)\n",
    "\n",
    "#fit model\n",
    "forest.fit(X_train,y_train.values.ravel())\n",
    "\n",
    "\n",
    "#print score\n",
    "print('\\n\\nforest train score %.3f, forest test score: %.3f' % (\n",
    "forest.score(X_train,y_train),\n",
    "forest.score(X_test, y_test)))\n",
    "\n",
    "print_best_params(forest)\n"
   ]
  },
  {
   "cell_type": "code",
   "execution_count": null,
   "metadata": {},
   "outputs": [],
   "source": [
    "SVC().get_params().keys()"
   ]
  },
  {
   "cell_type": "code",
   "execution_count": null,
   "metadata": {},
   "outputs": [],
   "source": []
  }
 ],
 "metadata": {
  "kernelspec": {
   "display_name": "Python 3",
   "language": "python",
   "name": "python3"
  },
  "language_info": {
   "codemirror_mode": {
    "name": "ipython",
    "version": 3
   },
   "file_extension": ".py",
   "mimetype": "text/x-python",
   "name": "python",
   "nbconvert_exporter": "python",
   "pygments_lexer": "ipython3",
   "version": "3.7.4"
  }
 },
 "nbformat": 4,
 "nbformat_minor": 4
}
