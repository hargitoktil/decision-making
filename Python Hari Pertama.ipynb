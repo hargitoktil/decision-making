{
 "cells": [
  {
   "cell_type": "code",
   "execution_count": 1,
   "metadata": {},
   "outputs": [],
   "source": [
    "height_A = 1.67\n",
    "height_B = 1.45\n",
    "height_C = 1.72\n",
    "height_D = 1.63\n",
    "height_E = 1.88"
   ]
  },
  {
   "cell_type": "code",
   "execution_count": 2,
   "metadata": {},
   "outputs": [],
   "source": [
    "heights = [height_A,height_B,height_C,height_D, height_E]"
   ]
  },
  {
   "cell_type": "code",
   "execution_count": 3,
   "metadata": {},
   "outputs": [
    {
     "data": {
      "text/plain": [
       "[1.67, 1.45, 1.72, 1.63, 1.88]"
      ]
     },
     "execution_count": 3,
     "metadata": {},
     "output_type": "execute_result"
    }
   ],
   "source": [
    "heights = []"
   ]
  },
  {
   "cell_type": "code",
   "execution_count": 6,
   "metadata": {},
   "outputs": [],
   "source": [
    "height = [\"A\",1.67,\n",
    "          \"B\", 1.45,\n",
    "          \"C\", 1.72,\n",
    "          \"D\", 1.63,\n",
    "          \"E\", 1.88]"
   ]
  },
  {
   "cell_type": "markdown",
   "metadata": {},
   "source": [
    "## Indexing / memanggil"
   ]
  },
  {
   "cell_type": "code",
   "execution_count": 7,
   "metadata": {},
   "outputs": [
    {
     "data": {
      "text/plain": [
       "1.45"
      ]
     },
     "execution_count": 7,
     "metadata": {},
     "output_type": "execute_result"
    }
   ],
   "source": [
    "height[3]"
   ]
  },
  {
   "cell_type": "code",
   "execution_count": 8,
   "metadata": {},
   "outputs": [
    {
     "data": {
      "text/plain": [
       "1.67"
      ]
     },
     "execution_count": 8,
     "metadata": {},
     "output_type": "execute_result"
    }
   ],
   "source": [
    "height[-9]"
   ]
  },
  {
   "cell_type": "markdown",
   "metadata": {},
   "source": [
    "### Slicing / Memanggil "
   ]
  },
  {
   "cell_type": "code",
   "execution_count": 9,
   "metadata": {},
   "outputs": [
    {
     "data": {
      "text/plain": [
       "['A', 1.67, 'B', 1.45, 'C', 1.72]"
      ]
     },
     "execution_count": 9,
     "metadata": {},
     "output_type": "execute_result"
    }
   ],
   "source": [
    "height[0:6] ## dari index ke 0 sampe index ke 7"
   ]
  },
  {
   "cell_type": "code",
   "execution_count": 10,
   "metadata": {},
   "outputs": [
    {
     "data": {
      "text/plain": [
       "['C', 1.72, 'D', 1.63, 'E', 1.88]"
      ]
     },
     "execution_count": 10,
     "metadata": {},
     "output_type": "execute_result"
    }
   ],
   "source": [
    "height[4:]"
   ]
  },
  {
   "cell_type": "code",
   "execution_count": 11,
   "metadata": {},
   "outputs": [
    {
     "data": {
      "text/plain": [
       "10"
      ]
     },
     "execution_count": 11,
     "metadata": {},
     "output_type": "execute_result"
    }
   ],
   "source": [
    "len(height)"
   ]
  },
  {
   "cell_type": "markdown",
   "metadata": {},
   "source": [
    "## List comprehension"
   ]
  },
  {
   "cell_type": "code",
   "execution_count": 16,
   "metadata": {},
   "outputs": [],
   "source": [
    "#list in list\n",
    "heights = [[\"A\", 1.67],\n",
    "           [\"B\", 1.45],\n",
    "           [\"C\", 1.72],\n",
    "           [\"D\", 1.63],\n",
    "           [\"E\", 1.88],\n",
    "           [\"F\", 2.00]\n",
    "            ]"
   ]
  },
  {
   "cell_type": "code",
   "execution_count": 17,
   "metadata": {},
   "outputs": [
    {
     "data": {
      "text/plain": [
       "['F', 2.0]"
      ]
     },
     "execution_count": 17,
     "metadata": {},
     "output_type": "execute_result"
    }
   ],
   "source": [
    "# cara memanggil 1.72\n",
    "heights[5]"
   ]
  },
  {
   "cell_type": "code",
   "execution_count": 36,
   "metadata": {},
   "outputs": [
    {
     "data": {
      "text/plain": [
       "[1.56]"
      ]
     },
     "execution_count": 36,
     "metadata": {},
     "output_type": "execute_result"
    }
   ],
   "source": [
    "#menambah data ke list\n",
    "# append or extend\n",
    "#append = langsung nambah\n",
    "heights_2 = []\n",
    "new_eval = 1.56\n",
    "heights_2.append(new_eval)\n",
    "heights_2"
   ]
  },
  {
   "cell_type": "code",
   "execution_count": 37,
   "metadata": {},
   "outputs": [
    {
     "data": {
      "text/plain": [
       "[1.56, ['A', 1.56]]"
      ]
     },
     "execution_count": 37,
     "metadata": {},
     "output_type": "execute_result"
    }
   ],
   "source": [
    "#extend = dikeluarkan dulu list pertama, baru ditambahkan ke list\n",
    "new_eval2 = [\"A\", 1.56]\n",
    "heights_2.append(new_eval2)\n",
    "heights_2"
   ]
  },
  {
   "cell_type": "code",
   "execution_count": 38,
   "metadata": {},
   "outputs": [
    {
     "data": {
      "text/plain": [
       "[1.56, ['A', 1.56], 'A', 1.56]"
      ]
     },
     "execution_count": 38,
     "metadata": {},
     "output_type": "execute_result"
    }
   ],
   "source": [
    "#kita pakai extend\n",
    "heights_2.extend(new_eval2)\n",
    "heights_2"
   ]
  },
  {
   "cell_type": "code",
   "execution_count": 39,
   "metadata": {},
   "outputs": [
    {
     "data": {
      "text/plain": [
       "[1.72, ['A', 1.56], 'A', 1.56]"
      ]
     },
     "execution_count": 39,
     "metadata": {},
     "output_type": "execute_result"
    }
   ],
   "source": [
    "#ubah index pertama\n",
    "heights_2[0] = 1.72\n",
    "heights_2"
   ]
  },
  {
   "cell_type": "code",
   "execution_count": 40,
   "metadata": {},
   "outputs": [
    {
     "data": {
      "text/plain": [
       "[1.72, ['A', 1.83], 'A', 1.56]"
      ]
     },
     "execution_count": 40,
     "metadata": {},
     "output_type": "execute_result"
    }
   ],
   "source": [
    "#Update\n",
    "#ubah nilai 1.56 yang urutan pertama jadi 1.83\n",
    "heights_2[1][1] = 1.83\n",
    "heights_2"
   ]
  },
  {
   "cell_type": "code",
   "execution_count": 41,
   "metadata": {},
   "outputs": [
    {
     "data": {
      "text/plain": [
       "[['A', 1.83], 'A', 1.56]"
      ]
     },
     "execution_count": 41,
     "metadata": {},
     "output_type": "execute_result"
    }
   ],
   "source": [
    "#remove -> by name\n",
    "#pop -> by index\n",
    "heights_2.remove(1.72)\n",
    "heights_2"
   ]
  },
  {
   "cell_type": "code",
   "execution_count": 42,
   "metadata": {},
   "outputs": [
    {
     "data": {
      "text/plain": [
       "[['A', 1.83], 1.56]"
      ]
     },
     "execution_count": 42,
     "metadata": {},
     "output_type": "execute_result"
    }
   ],
   "source": [
    "#pop\n",
    "heights_2.pop(1)\n",
    "heights_2"
   ]
  },
  {
   "cell_type": "markdown",
   "metadata": {},
   "source": [
    "## search index"
   ]
  },
  {
   "cell_type": "code",
   "execution_count": 48,
   "metadata": {},
   "outputs": [
    {
     "ename": "ValueError",
     "evalue": "0 is not in list",
     "output_type": "error",
     "traceback": [
      "\u001b[1;31m---------------------------------------------------------------------------\u001b[0m",
      "\u001b[1;31mValueError\u001b[0m                                Traceback (most recent call last)",
      "\u001b[1;32m<ipython-input-48-e9d7ed8be38c>\u001b[0m in \u001b[0;36m<module>\u001b[1;34m\u001b[0m\n\u001b[0;32m      1\u001b[0m \u001b[0mheights_3\u001b[0m \u001b[1;33m=\u001b[0m \u001b[1;33m[\u001b[0m\u001b[1;36m1.23\u001b[0m\u001b[1;33m,\u001b[0m \u001b[1;36m1.36\u001b[0m\u001b[1;33m,\u001b[0m \u001b[1;36m1.63\u001b[0m\u001b[1;33m,\u001b[0m \u001b[1;36m1.88\u001b[0m\u001b[1;33m,\u001b[0m \u001b[1;36m1.34\u001b[0m\u001b[1;33m]\u001b[0m\u001b[1;33m\u001b[0m\u001b[1;33m\u001b[0m\u001b[0m\n\u001b[1;32m----> 2\u001b[1;33m \u001b[0mheights_3\u001b[0m\u001b[1;33m.\u001b[0m\u001b[0mindex\u001b[0m\u001b[1;33m(\u001b[0m\u001b[1;36m0\u001b[0m\u001b[1;33m)\u001b[0m\u001b[1;33m\u001b[0m\u001b[1;33m\u001b[0m\u001b[0m\n\u001b[0m",
      "\u001b[1;31mValueError\u001b[0m: 0 is not in list"
     ]
    }
   ],
   "source": [
    "heights_3 = [1.23, 1.36, 1.63, 1.88, 1.34]\n",
    "heights_3.index(0)"
   ]
  },
  {
   "cell_type": "code",
   "execution_count": 45,
   "metadata": {},
   "outputs": [
    {
     "data": {
      "text/plain": [
       "[1.23, 1.56, 1.56, 1.36, 1.63, 1.88, 1.34]"
      ]
     },
     "execution_count": 45,
     "metadata": {},
     "output_type": "execute_result"
    }
   ],
   "source": [
    "#append dan extend hanya menambahkan index terakhir, jika ingin index tertentu, pake insert\n",
    "heights_3.insert(1, new_eval)\n",
    "heights_3"
   ]
  },
  {
   "cell_type": "markdown",
   "metadata": {},
   "source": [
    "# method\n"
   ]
  },
  {
   "cell_type": "code",
   "execution_count": 47,
   "metadata": {},
   "outputs": [
    {
     "data": {
      "text/plain": [
       "3"
      ]
     },
     "execution_count": 47,
     "metadata": {},
     "output_type": "execute_result"
    }
   ],
   "source": [
    "#counting occurence\n",
    "new_list = [2,4,5,6,4,5,3,2,3,4,5]\n",
    "new_list.count(4)"
   ]
  },
  {
   "cell_type": "code",
   "execution_count": 51,
   "metadata": {},
   "outputs": [
    {
     "data": {
      "text/plain": [
       "6"
      ]
     },
     "execution_count": 51,
     "metadata": {},
     "output_type": "execute_result"
    }
   ],
   "source": [
    "#maximum number\n",
    "new_list = [2,4,5,6,4,5,3,2,3,4,5]\n",
    "max(new_list)"
   ]
  },
  {
   "cell_type": "code",
   "execution_count": 53,
   "metadata": {},
   "outputs": [
    {
     "data": {
      "text/plain": [
       "2"
      ]
     },
     "execution_count": 53,
     "metadata": {},
     "output_type": "execute_result"
    }
   ],
   "source": [
    "min(new_list)"
   ]
  },
  {
   "cell_type": "markdown",
   "metadata": {},
   "source": [
    "# Numpy"
   ]
  },
  {
   "cell_type": "code",
   "execution_count": 54,
   "metadata": {},
   "outputs": [],
   "source": [
    "import numpy as np"
   ]
  },
  {
   "cell_type": "code",
   "execution_count": 59,
   "metadata": {},
   "outputs": [
    {
     "data": {
      "text/plain": [
       "[6, 5, 5, 5, 4, 4, 4, 3, 3, 2, 2]"
      ]
     },
     "execution_count": 59,
     "metadata": {},
     "output_type": "execute_result"
    }
   ],
   "source": [
    "np.mean(new_list)\n",
    "from numpy import average\n",
    "\n",
    "#kenapa from dulu? karena import langusng berarti ambil satu buku dipake semua,\n",
    "#kalo from dulu berarti ambil 1 kertas (fungsi) dari 1 buku, karena ada libary yang berat\n",
    "\n",
    "new_list.sort(reverse=True)\n",
    "new_list\n",
    "\n",
    "#fungsi sort langsung ubah index, kalo merasa sort seblumnya adalah sequeansial pernting"
   ]
  },
  {
   "cell_type": "code",
   "execution_count": 62,
   "metadata": {},
   "outputs": [
    {
     "name": "stdout",
     "output_type": "stream",
     "text": [
      "[6, 5, 5, 5, 4, 4, 4, 3, 3, 2, 2]\n",
      "[2, 4, 5, 6, 4, 5, 3, 2, 3, 4, 5]\n"
     ]
    }
   ],
   "source": [
    "#cara copy data lama agar perubahan data baru tidak ngefek ke list lama\n",
    "#new_list = old_list # cara salah, new_list ketika diubah akan ngefek ke old_list\n",
    "#cara yang benar\n",
    "old_list =  [2,4,5,6,4,5,3,2,3,4,5]\n",
    "new_list = old_list[:]\n",
    "new_list.sort(reverse=True)\n",
    "print(new_list)\n",
    "print(old_list)"
   ]
  },
  {
   "cell_type": "markdown",
   "metadata": {},
   "source": [
    "## Tupple dan List"
   ]
  },
  {
   "cell_type": "code",
   "execution_count": null,
   "metadata": {},
   "outputs": [],
   "source": []
  },
  {
   "cell_type": "code",
   "execution_count": null,
   "metadata": {},
   "outputs": [],
   "source": []
  },
  {
   "cell_type": "code",
   "execution_count": null,
   "metadata": {},
   "outputs": [],
   "source": [
    "#tupple\n",
    "my_list = [2,4,6,7,8,3]\n",
    "my_tupple = (2,4,6,7,8,3)\n",
    "#tupple tidak bisa diubah, atau istilahnya static\n",
    "#agar tupple bisa diubah, convert dulu ke list, baru diubah, lalu ubah lagi ke tupple\n",
    "#contoh dadu, kan gak mungkin diubah\n",
    "#tupple lebih cepet, terutamanya jika datanya besar"
   ]
  },
  {
   "cell_type": "code",
   "execution_count": 67,
   "metadata": {},
   "outputs": [
    {
     "name": "stdout",
     "output_type": "stream",
     "text": [
      "[4, 5, 6, 78, 3, 6, 5, 7, 89, 4]\n",
      "{3, 4, 5, 6, 7, 78, 89}\n"
     ]
    }
   ],
   "source": [
    "my_list = [4,5,6,78,3,6,5,7,89,4]\n",
    "print(my_list)\n",
    "my_set = {4,5,6,78,3,6,5,7,89,4}\n",
    "print(my_set)"
   ]
  },
  {
   "cell_type": "markdown",
   "metadata": {},
   "source": [
    "## Set dan Union"
   ]
  },
  {
   "cell_type": "code",
   "execution_count": 70,
   "metadata": {},
   "outputs": [
    {
     "data": {
      "text/plain": [
       "{2, 3, 4, 5, 6, 7, 8}"
      ]
     },
     "execution_count": 70,
     "metadata": {},
     "output_type": "execute_result"
    }
   ],
   "source": [
    "#union gabungin set, list dan tupple tidak bisa, hanya set yang bisa digabungin pake union\n",
    "my_set1 = {2,3,4,5}\n",
    "my_set2 = {4,5,6,7,8}\n",
    "all_set = my_set1.union(my_set2)\n",
    "all_set"
   ]
  },
  {
   "cell_type": "code",
   "execution_count": 71,
   "metadata": {},
   "outputs": [
    {
     "data": {
      "text/plain": [
       "{4, 5}"
      ]
     },
     "execution_count": 71,
     "metadata": {},
     "output_type": "execute_result"
    }
   ],
   "source": [
    "my_set1 = {2,3,4,5}\n",
    "my_set2 = {4,5,6,7,8}\n",
    "all_set = my_set1.intersection(my_set2)\n",
    "all_set"
   ]
  },
  {
   "cell_type": "markdown",
   "metadata": {},
   "source": [
    "## Dictionary\n",
    "hanya ada di Python"
   ]
  },
  {
   "cell_type": "code",
   "execution_count": 73,
   "metadata": {},
   "outputs": [],
   "source": [
    "my_list = [2,4,5]"
   ]
  },
  {
   "cell_type": "code",
   "execution_count": 79,
   "metadata": {},
   "outputs": [],
   "source": [
    "#konsep index 0 lalu 1 lalu 2 dst\n",
    "#dictionary artinya mengganti istilah index menjadi key(harus string)\n",
    "countries = [\"indonesia\",\n",
    "            \"malaysia\",\n",
    "            \"thailand\"]\n",
    "capitals = [\"jakarta\",\n",
    "         \"kuala lumpur\",\n",
    "         \"bangkok\"]"
   ]
  },
  {
   "cell_type": "code",
   "execution_count": 80,
   "metadata": {},
   "outputs": [],
   "source": [
    "idx = countries.index(\"thailand\")"
   ]
  },
  {
   "cell_type": "code",
   "execution_count": 81,
   "metadata": {},
   "outputs": [
    {
     "data": {
      "text/plain": [
       "'bangkok'"
      ]
     },
     "execution_count": 81,
     "metadata": {},
     "output_type": "execute_result"
    }
   ],
   "source": [
    "capitals[idx]"
   ]
  },
  {
   "cell_type": "code",
   "execution_count": 83,
   "metadata": {},
   "outputs": [
    {
     "data": {
      "text/plain": [
       "'jakarta'"
      ]
     },
     "execution_count": 83,
     "metadata": {},
     "output_type": "execute_result"
    }
   ],
   "source": [
    "#diatas kalo pakai list\n",
    "#sekarang kita pakai dictionary\n",
    "my_dict = {\"indonesia\":\"jakarta\",\n",
    "          \"malaysia\":\"kuala lumpur\",\n",
    "          \"thailand\":\"bangkok\"}\n",
    "#sehingga nama key indonesia adalah jakarta\n",
    "my_dict[\"indonesia\"]\n",
    "#index hanya bisa sekali, gak bisa dipakai 2 kali, jika ada 2 index sama, maka yang terakhir yang dibaca komputer"
   ]
  },
  {
   "cell_type": "code",
   "execution_count": 84,
   "metadata": {},
   "outputs": [
    {
     "data": {
      "text/plain": [
       "{'indonesia': 'jakarta',\n",
       " 'malaysia': 'kuala lumpur',\n",
       " 'thailand': 'bangkok',\n",
       " 'jepang': 'tokyo'}"
      ]
     },
     "execution_count": 84,
     "metadata": {},
     "output_type": "execute_result"
    }
   ],
   "source": [
    "#menambah dictionary\n",
    "my_dict[\"jepang\"] = \"tokyo\"\n",
    "my_dict"
   ]
  },
  {
   "cell_type": "code",
   "execution_count": 85,
   "metadata": {},
   "outputs": [],
   "source": [
    "#hapus kesalahan \n",
    "my_dict = {\"indonesia\":\"jakarta\",\n",
    "          \"malaysia\":\"kuala lumpur\",\n",
    "          \"thayland\":\"bangkok\"}"
   ]
  },
  {
   "cell_type": "code",
   "execution_count": 89,
   "metadata": {},
   "outputs": [
    {
     "data": {
      "text/plain": [
       "{'indonesia': 'jakarta', 'malaysia': 'kuala lumpur'}"
      ]
     },
     "execution_count": 89,
     "metadata": {},
     "output_type": "execute_result"
    }
   ],
   "source": [
    "del my_dict[\"thayland\"]\n",
    "my_dict"
   ]
  },
  {
   "cell_type": "code",
   "execution_count": 91,
   "metadata": {},
   "outputs": [
    {
     "data": {
      "text/plain": [
       "{'indonesia': 'jakarta', 'malaysia': 'kuala lumpur', 'thailand': 'bangkok'}"
      ]
     },
     "execution_count": 91,
     "metadata": {},
     "output_type": "execute_result"
    }
   ],
   "source": [
    "my_dict[\"thailand\"] = \"bangkok\"\n",
    "my_dict"
   ]
  },
  {
   "cell_type": "code",
   "execution_count": null,
   "metadata": {},
   "outputs": [],
   "source": []
  }
 ],
 "metadata": {
  "kernelspec": {
   "display_name": "Python 3",
   "language": "python",
   "name": "python3"
  },
  "language_info": {
   "codemirror_mode": {
    "name": "ipython",
    "version": 3
   },
   "file_extension": ".py",
   "mimetype": "text/x-python",
   "name": "python",
   "nbconvert_exporter": "python",
   "pygments_lexer": "ipython3",
   "version": "3.7.3"
  }
 },
 "nbformat": 4,
 "nbformat_minor": 2
}
