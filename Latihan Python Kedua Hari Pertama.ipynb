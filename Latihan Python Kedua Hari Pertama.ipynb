{
 "cells": [
  {
   "cell_type": "code",
   "execution_count": 11,
   "metadata": {},
   "outputs": [
    {
     "name": "stdout",
     "output_type": "stream",
     "text": [
      "the price is standart\n"
     ]
    }
   ],
   "source": [
    "price = 8000\n",
    "# condition\n",
    "# pastikan ditulis yang besar dulu, kalo mau explisit, tulis dulu \n",
    "if price > 10000:\n",
    "    print(\"the price is expensive\")\n",
    "elif price > 5000:\n",
    "    print(\"the price is standart\")\n",
    "else:\n",
    "    print(\"the price is cheap\")\n",
    "    \n",
    "    print(\"test\")\n",
    "    print(\"test\")\n",
    "    print(\"test\")\n",
    "    print(\"test\")\n"
   ]
  },
  {
   "cell_type": "markdown",
   "metadata": {},
   "source": [
    "# for looping\n",
    "# while looping\n"
   ]
  },
  {
   "cell_type": "code",
   "execution_count": 20,
   "metadata": {},
   "outputs": [],
   "source": [
    "my_list = [3,5,6,8]"
   ]
  },
  {
   "cell_type": "code",
   "execution_count": 14,
   "metadata": {},
   "outputs": [
    {
     "name": "stdout",
     "output_type": "stream",
     "text": [
      "12\n",
      "20\n",
      "24\n",
      "32\n"
     ]
    }
   ],
   "source": [
    "#by element, mengulang-ulang isi dari list satu persatu\n",
    "for x in my_list:\n",
    "    print(x*4)"
   ]
  },
  {
   "cell_type": "code",
   "execution_count": 22,
   "metadata": {},
   "outputs": [
    {
     "data": {
      "text/plain": [
       "[48, 80, 96, 128]"
      ]
     },
     "execution_count": 22,
     "metadata": {},
     "output_type": "execute_result"
    }
   ],
   "source": [
    "#by index\n",
    "#idx_list = [0,1,2,3]\n",
    "#idx_list =\n",
    "\n",
    "for x in range(len(my_list)):\n",
    "    my_list[x] = my_list[x] * 4\n",
    "my_list"
   ]
  }
 ],
 "metadata": {
  "kernelspec": {
   "display_name": "Python 3",
   "language": "python",
   "name": "python3"
  },
  "language_info": {
   "codemirror_mode": {
    "name": "ipython",
    "version": 3
   },
   "file_extension": ".py",
   "mimetype": "text/x-python",
   "name": "python",
   "nbconvert_exporter": "python",
   "pygments_lexer": "ipython3",
   "version": "3.7.3"
  }
 },
 "nbformat": 4,
 "nbformat_minor": 2
}
