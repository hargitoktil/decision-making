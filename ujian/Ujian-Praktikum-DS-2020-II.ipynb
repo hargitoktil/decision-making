{
 "cells": [
  {
   "cell_type": "markdown",
   "metadata": {},
   "source": [
    "<font size=\"5\"><b>Kementerian Keuangan RI </b></font><br/>\n",
    "<font size=\"4\"><b>Badan Pendidikan dan Pelatihan Keuangan<b/></font><br/>\n",
    "<font size=\"4\"><b>Pusdiklat Keuangan Umum<b/></font><br/>\n",
    "### Praktikum Data Scientist Specialist\n",
    "\n",
    "***\n",
    "### Perhatikan petunjuk pengisian berikut :\n",
    "\n",
    "1. Tujuan praktikum ini adalah untuk mengukur kemampuan Anda dalam melakukan pengolahan data dan mengaplikasikan metode-metode machine learning.\n",
    "2. Anda diperbolehkan melihat file <u>jupyter-notebook yang telah disediakan sebelumnya atau menggunakan search engine </u> untuk menyelesaikan soal-soal yang disediakan.\n",
    "3. Perhatikan petunjuk pengisian pada masing-masing bagian. Tambahan pekerjaan (step) untuk pengolahan data akan memberikan nilai bonus.\n",
    "4. <font color=\"red\"><b>Waktu menyelesaikan</b></font> seluruh soal berikut adalah <font color=\"red\"><b>60 menit</b></font>.\n",
    "5. Simpan file ini menjadi dalam bentuk html, Arahkan ke menu **File** kemudian **Download as** -> **html (.html)**\n",
    "6. Kirim file html tersebut ke wahyuagungs@gmail.com dan aginoffice@gmail.com\n",
    "***"
   ]
  },
  {
   "cell_type": "markdown",
   "metadata": {},
   "source": [
    "Tuliskan Nama dan NIP Anda :\n",
    "\n",
    "NAMA / NIP\n",
    "\n"
   ]
  },
  {
   "cell_type": "markdown",
   "metadata": {},
   "source": [
    "## Data Science Story Project\n",
    "> Anda diminta oleh Bank Rakyat Bersama (BeRaBe) untuk membangun model yang akan digunakan untuk mengklasifikasikan rating kredit (credit rating) seseorang berdasarkan perilakunya.\n",
    "\n",
    "> Anda diminta untuk membuat model klasifikasi yang paling akurat dari beberapa model yang ada, **paling sedikit memuat 3 model** antara lain yaitu **Logistic Regression, RandomForest, Support Vector Machine, Multi Layer Perceptron, dan/atau model lainnya yang pernah Anda telusuri**,. \n",
    "\n",
    "> Anda juga diminta untuk memberikan perbandingan model berdasarkan akurasi.\n",
    "\n",
    "> Di samping itu, Anda juga diminta untuk melakukan penjelasan atas evaluasi model yang ada.\n",
    "\n",
    "Terdapat tahapan pada jupyter notebook yang sudah dilengkapi secara default, namun Anda diminta untuk tetap melakukan tahapan-tahapan dasar standard *machine learning* yaitu *exploratory data analysis, data cleansing,* dan lainnya sebelum membangun model.\n",
    "### Import library dan load dataset\n",
    "\n",
    "Lakukan import library yang dibutuhkan"
   ]
  },
  {
   "cell_type": "code",
   "execution_count": null,
   "metadata": {},
   "outputs": [],
   "source": [
    "import pandas as pd\n",
    "import numpy as np\n",
    "from matplotlib import pyplot as plt"
   ]
  },
  {
   "cell_type": "markdown",
   "metadata": {},
   "source": [
    "Terdapat 2 file yaitu `credit card rating.csv` dan `columns.csv`. Lakukan import kedua file tersebut dan simpan ke dalam bentuk objek `DataFrame` menggunakan fungsi `read_csv`. "
   ]
  },
  {
   "cell_type": "code",
   "execution_count": null,
   "metadata": {},
   "outputs": [],
   "source": [
    "df1 = pd.read_csv('credit card rating.csv')"
   ]
  },
  {
   "cell_type": "code",
   "execution_count": null,
   "metadata": {},
   "outputs": [],
   "source": [
    "df2 = pd.read_csv('columns.csv')"
   ]
  },
  {
   "cell_type": "markdown",
   "metadata": {},
   "source": [
    "----"
   ]
  },
  {
   "cell_type": "markdown",
   "metadata": {},
   "source": [
    "## I. Exploratory Data Analysis\n",
    "\n",
    "Pada tahapan ini Anda diminta untuk melakukan eksplorasi terhadap dataset ini. Berikut ini adalah tahapan-tahapan yang harus dijalankan."
   ]
  },
  {
   "cell_type": "markdown",
   "metadata": {},
   "source": [
    "<b> 1. a. Tampilkan konten dari kedua dataframe tersebut. Apakah terdapat anomali? Menurut Anda apa yang harus kita lakukan? Jelaskan secara singkat! </b>"
   ]
  },
  {
   "cell_type": "code",
   "execution_count": null,
   "metadata": {},
   "outputs": [],
   "source": []
  },
  {
   "cell_type": "code",
   "execution_count": null,
   "metadata": {},
   "outputs": [],
   "source": []
  },
  {
   "cell_type": "markdown",
   "metadata": {},
   "source": []
  },
  {
   "cell_type": "markdown",
   "metadata": {},
   "source": [
    "<b> 1. b. Lakukan tindakan yang perlu harus Anda lakukan untuk mengatasi hal tersebut di bawah ini </b>"
   ]
  },
  {
   "cell_type": "code",
   "execution_count": null,
   "metadata": {},
   "outputs": [],
   "source": [
    "# import ulang, tanpa header bisa lebih mudah\n"
   ]
  },
  {
   "cell_type": "code",
   "execution_count": null,
   "metadata": {},
   "outputs": [],
   "source": []
  },
  {
   "cell_type": "code",
   "execution_count": null,
   "metadata": {},
   "outputs": [],
   "source": []
  },
  {
   "cell_type": "markdown",
   "metadata": {},
   "source": [
    "<b> 1. c. Lakukan observasi terhadap data tersebut, dan jelaskan secara singkat apa yang menjadi perhatian. Apabila terdapat data `NaN` tampilkan jumlah data NaN tersebut</b>"
   ]
  },
  {
   "cell_type": "code",
   "execution_count": null,
   "metadata": {},
   "outputs": [],
   "source": []
  },
  {
   "cell_type": "code",
   "execution_count": null,
   "metadata": {},
   "outputs": [],
   "source": []
  },
  {
   "cell_type": "markdown",
   "metadata": {},
   "source": [
    "\n",
    "Anda diminta untuk melakukan cek atas data **NULL** <br>\n",
    "Data **NULL** tersebut bisa berbentuk tanda `-`, spasi, `NA` ataupun tanda lainnya. Strategi atas data **NULL** tersebut bisa kita lakukan *impute* atau pengisian, atau bisa dihilangkan seluruh baris (row) data tersebut. \n",
    "\n",
    "Data anomali lainnya, bisa berupa **kesalahan ketik (typo)** ataupun nilai yang sebenarnya sama tetapi dituliskan berbeda.\n",
    "\n",
    "<b> 1. d. Apakah semua nilai di dalam kolom tersebut sudah bisa langsung digunakan? Temukan nilai yang seharusnya tidak boleh berada di situ</b>"
   ]
  },
  {
   "cell_type": "code",
   "execution_count": null,
   "metadata": {},
   "outputs": [],
   "source": []
  },
  {
   "cell_type": "code",
   "execution_count": null,
   "metadata": {},
   "outputs": [],
   "source": []
  },
  {
   "cell_type": "markdown",
   "metadata": {},
   "source": []
  },
  {
   "cell_type": "markdown",
   "metadata": {},
   "source": [
    "----"
   ]
  },
  {
   "cell_type": "markdown",
   "metadata": {},
   "source": [
    "## II. Data Pre-processing\n",
    "Tahapan lanjutan adalah melakukan pembersihan atau organising atas data yang dimiliki.\n",
    "\n",
    "> Namun, diketahui bahwa, terdapat *feature* (kolom) terdapat nilai `NaN`, di samping nilai yang sesungguhnya.\n",
    "\n",
    "\n",
    "> Di samping itu, terdapat beberapa karakter yang tidak sesuai dengan yang seharusnya\n",
    "\n",
    "**2. Langkah apa yang akan Anda lakukan?**<br/>\n",
    "\n",
    "Tuliskan Langkah-langkah Anda di bawah ini:"
   ]
  },
  {
   "cell_type": "markdown",
   "metadata": {},
   "source": []
  },
  {
   "cell_type": "code",
   "execution_count": null,
   "metadata": {},
   "outputs": [],
   "source": []
  },
  {
   "cell_type": "markdown",
   "metadata": {},
   "source": [
    "<b> 3. Lakukan langkah Yang Anda telah jelaskan di atas </b>"
   ]
  },
  {
   "cell_type": "code",
   "execution_count": null,
   "metadata": {},
   "outputs": [],
   "source": []
  },
  {
   "cell_type": "code",
   "execution_count": null,
   "metadata": {},
   "outputs": [],
   "source": []
  },
  {
   "cell_type": "markdown",
   "metadata": {},
   "source": [
    "## III. Analysis\n",
    "Tahapan sebelum dilakukan pembangunan model, Lakukan Analysis atas data tersebut di atas. <br>\n",
    "Dalam melakukan pembangunan model, Anda dihadapkan oleh banyak kolom yang tersedia dimana beberapa kolom merupakan data categorical\n",
    "\n",
    "**4.a. Apa yang akan Anda lakukan?**"
   ]
  },
  {
   "cell_type": "markdown",
   "metadata": {},
   "source": [
    "Lakukan Encoding"
   ]
  },
  {
   "cell_type": "markdown",
   "metadata": {},
   "source": [
    "<b> 4. b. **Lakukan langkah Anda di atas** </b>"
   ]
  },
  {
   "cell_type": "code",
   "execution_count": null,
   "metadata": {},
   "outputs": [],
   "source": []
  },
  {
   "cell_type": "code",
   "execution_count": null,
   "metadata": {},
   "outputs": [],
   "source": []
  },
  {
   "cell_type": "markdown",
   "metadata": {},
   "source": [
    "Diasumsikan bahwa data yang akan kita gunakan telah melalui serangkaian pembersihan data dan seterusnya. Tugas selanjutnya adalah membuat model untuk memprediksi customer_type berdasarkan atribut lainnya.\n",
    "\n",
    "### Lakukan train test split\n",
    "Sebelum membangun model, langkah yang harus dilakukan adalah memecah target variabel dan independent variabel. \n",
    "\n",
    "**5. a. Lakukan metode train test split**"
   ]
  },
  {
   "cell_type": "code",
   "execution_count": null,
   "metadata": {},
   "outputs": [],
   "source": [
    "# Import train_test_split\n",
    "from sklearn.model_selection import train_test_split\n",
    "\n",
    "# X merupakan dataset kecuali target variabel\n",
    "X = \n",
    "\n",
    "# Y merupakan target variabel yaitu Species\n",
    "Y = \n",
    "\n",
    "# kita gunakan 80% data training\n",
    "split_size=0.2\n",
    "\n",
    "# Creation of Train and Test dataset\n",
    "X_train, X_test, y_train, y_test = train_test_split(X,Y,test_size=split_size,random_state=22)\n",
    "\n",
    "# Creation of Train and validation dataset\n",
    "X_train, X_val, y_train, y_val = train_test_split(X_train,y_train,test_size=0.2,random_state=5)\n"
   ]
  },
  {
   "cell_type": "markdown",
   "metadata": {},
   "source": [
    "Selanjutnya kita akan meng-import beberapa alat pengukuran "
   ]
  },
  {
   "cell_type": "code",
   "execution_count": null,
   "metadata": {},
   "outputs": [],
   "source": [
    "from sklearn import model_selection\n",
    "from sklearn.metrics import accuracy_score\n",
    "from sklearn.metrics import classification_report\n",
    "from sklearn.metrics import confusion_matrix"
   ]
  },
  {
   "cell_type": "code",
   "execution_count": null,
   "metadata": {},
   "outputs": [],
   "source": [
    "# import library\n",
    "\n",
    "\n",
    "# buat objek model\n",
    "\n",
    "\n",
    "# fit model\n",
    "\n",
    "\n",
    "# panggil fungsi predict\n",
    "prediction = model.predict((X_test))"
   ]
  },
  {
   "cell_type": "code",
   "execution_count": null,
   "metadata": {},
   "outputs": [],
   "source": [
    "print ('-'*40)\n",
    "print ('Accuracy score:')\n",
    "print (accuracy_score(y_test, prediction))\n",
    "print ('-'*40)\n",
    "print ('Confusion Matrix:')\n",
    "print (confusion_matrix(y_test, prediction))\n",
    "print ('-'*40)\n",
    "print ('Classification Matrix:')\n",
    "print (classification_report(y_test, prediction))"
   ]
  },
  {
   "cell_type": "markdown",
   "metadata": {},
   "source": [
    "Apabila akurasi model Anda masih **di bawah 80%, maka Lakukan langkah hyperparameter tuning** dengan mengubah konfigurasi default.\n",
    "\n",
    "**5. b. Jelaskan hasil pada model Anda di atas**<br/>\n",
    "- Apakah sudah sesuai dengan keinginan dan ekspektasi Anda?\n",
    "- Model apa yang memiliki tingkat akurasi tertinggi?"
   ]
  },
  {
   "cell_type": "code",
   "execution_count": null,
   "metadata": {},
   "outputs": [],
   "source": []
  },
  {
   "cell_type": "code",
   "execution_count": null,
   "metadata": {},
   "outputs": [],
   "source": []
  }
 ],
 "metadata": {
  "kernelspec": {
   "display_name": "Python 3",
   "language": "python",
   "name": "python3"
  },
  "language_info": {
   "codemirror_mode": {
    "name": "ipython",
    "version": 3
   },
   "file_extension": ".py",
   "mimetype": "text/x-python",
   "name": "python",
   "nbconvert_exporter": "python",
   "pygments_lexer": "ipython3",
   "version": "3.7.4"
  }
 },
 "nbformat": 4,
 "nbformat_minor": 4
}
