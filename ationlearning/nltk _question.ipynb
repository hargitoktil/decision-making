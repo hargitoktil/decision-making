{
 "cells": [
  {
   "cell_type": "markdown",
   "metadata": {},
   "source": [
    "# NLTK\n",
    "\n",
    "\n",
    "Pada modul ini kita akan mengimplementasikan \"Topic MOdeling\". Fungsi dari permodelan ini adalah untuk menentukan topic dari sebuah / atau beberapa dokumen. \n",
    "\n",
    "Model ini dilakukan dengan asumsi tidak diketahui pengklasifikasian dari dokumen. Dalam hal ini lebih tepatnya kita menggunakan unsupervised.\n",
    "\n",
    "Untuk dokumen yang sudah diketahui klasifikasinya, dan diperlukan fungsi predictive dapat menggunakan tehnik regresi atau klasifikasi."
   ]
  },
  {
   "cell_type": "markdown",
   "metadata": {},
   "source": [
    "## Import Libraries\n",
    "Untuk mengimplementasikan NLTK pada python, library paling umum digunakan adalah nltk. Untuk memproses dokumen dengan bahasa inggris, library ini sangat cukup, akan tetapi untuk bahasa indonesia kita perlu library lain."
   ]
  },
  {
   "cell_type": "code",
   "execution_count": 28,
   "metadata": {},
   "outputs": [
    {
     "name": "stdout",
     "output_type": "stream",
     "text": [
      "Requirement already satisfied: nltk in c:\\programdata\\anaconda3\\lib\\site-packages (3.4.4)\n",
      "Requirement already satisfied: six in c:\\programdata\\anaconda3\\lib\\site-packages (from nltk) (1.12.0)\n"
     ]
    }
   ],
   "source": [
    "!pip install nltk"
   ]
  },
  {
   "cell_type": "code",
   "execution_count": 9,
   "metadata": {},
   "outputs": [
    {
     "name": "stderr",
     "output_type": "stream",
     "text": [
      "[nltk_data] Downloading package punkt to\n",
      "[nltk_data]     C:\\Users\\Pengguna/nltk_data...\n",
      "[nltk_data]   Unzipping tokenizers\\punkt.zip.\n"
     ]
    },
    {
     "data": {
      "text/plain": [
       "True"
      ]
     },
     "execution_count": 9,
     "metadata": {},
     "output_type": "execute_result"
    }
   ],
   "source": [
    "import nltk\n",
    "import ssl\n",
    "\n",
    "try:\n",
    "    _create_unverified_https_context = ssl._create_unverified_context\n",
    "except AttributeError:\n",
    "    pass\n",
    "else:\n",
    "    ssl._create_default_https_context = _create_unverified_https_context\n",
    "\n",
    "nltk.download(['punkt'])\n",
    "\n",
    "\n",
    "#import nltk\n",
    "#nltk.download([\"punkt\"])"
   ]
  },
  {
   "cell_type": "markdown",
   "metadata": {},
   "source": [
    "Library CSV akan kita gunakan karena data kita berupa csv."
   ]
  },
  {
   "cell_type": "code",
   "execution_count": 10,
   "metadata": {},
   "outputs": [],
   "source": [
    "import csv\n"
   ]
  },
  {
   "cell_type": "markdown",
   "metadata": {},
   "source": [
    "Library Sastrawi adalah library yang memiliki kemampuan pemrosesan bahasa indonesia. library ini dapat kita gunakan untuk mengganti kekurangan library nltk dalam memproses bahasa Indonesia"
   ]
  },
  {
   "cell_type": "code",
   "execution_count": 8,
   "metadata": {},
   "outputs": [
    {
     "name": "stdout",
     "output_type": "stream",
     "text": [
      "Collecting Sastrawi\n",
      "  Downloading https://files.pythonhosted.org/packages/6f/4b/bab676953da3103003730b8fcdfadbdd20f333d4add10af949dd5c51e6ed/Sastrawi-1.0.1-py2.py3-none-any.whl (209kB)\n",
      "Installing collected packages: Sastrawi\n",
      "Successfully installed Sastrawi-1.0.1\n"
     ]
    }
   ],
   "source": [
    "!pip install Sastrawi"
   ]
  },
  {
   "cell_type": "code",
   "execution_count": 11,
   "metadata": {},
   "outputs": [],
   "source": [
    "from Sastrawi.Stemmer.StemmerFactory import StemmerFactory\n",
    "from Sastrawi.StopWordRemover.StopWordRemoverFactory import StopWordRemoverFactory"
   ]
  },
  {
   "cell_type": "markdown",
   "metadata": {},
   "source": [
    "Library pickle akan kita gunakan untuk menyimpan python object ke dalam sebuah file. hal ini diperlukan jika kita mempunya sebuah objek yang merupakan hasil sebuah proses, jika kita mngulangnya membutuhkan waktu yang lama untuk memprosesnya."
   ]
  },
  {
   "cell_type": "code",
   "execution_count": 12,
   "metadata": {},
   "outputs": [],
   "source": [
    "import pickle"
   ]
  },
  {
   "cell_type": "markdown",
   "metadata": {},
   "source": [
    "Library Gensim kita gunakan untuk melaksanakan proses LDA"
   ]
  },
  {
   "cell_type": "code",
   "execution_count": 13,
   "metadata": {},
   "outputs": [],
   "source": [
    "import gensim\n",
    "from gensim import corpora"
   ]
  },
  {
   "cell_type": "markdown",
   "metadata": {},
   "source": [
    "Library pyLDAvis kita panggil untuk melakukan visualisasi data sehingga mudah dimengerti."
   ]
  },
  {
   "cell_type": "code",
   "execution_count": 13,
   "metadata": {},
   "outputs": [
    {
     "name": "stdout",
     "output_type": "stream",
     "text": [
      "Collecting pyLDAvis\n",
      "  Downloading https://files.pythonhosted.org/packages/a5/3a/af82e070a8a96e13217c8f362f9a73e82d61ac8fff3a2561946a97f96266/pyLDAvis-2.1.2.tar.gz (1.6MB)\n",
      "Requirement already satisfied: wheel>=0.23.0 in c:\\programdata\\anaconda3\\lib\\site-packages (from pyLDAvis) (0.33.4)\n",
      "Requirement already satisfied: numpy>=1.9.2 in c:\\programdata\\anaconda3\\lib\\site-packages (from pyLDAvis) (1.16.4)\n",
      "Requirement already satisfied: scipy>=0.18.0 in c:\\programdata\\anaconda3\\lib\\site-packages (from pyLDAvis) (1.2.1)\n",
      "Requirement already satisfied: pandas>=0.17.0 in c:\\programdata\\anaconda3\\lib\\site-packages (from pyLDAvis) (0.24.2)\n",
      "Requirement already satisfied: joblib>=0.8.4 in c:\\programdata\\anaconda3\\lib\\site-packages (from pyLDAvis) (0.13.2)\n",
      "Requirement already satisfied: jinja2>=2.7.2 in c:\\programdata\\anaconda3\\lib\\site-packages (from pyLDAvis) (2.10.1)\n",
      "Requirement already satisfied: numexpr in c:\\programdata\\anaconda3\\lib\\site-packages (from pyLDAvis) (2.6.9)\n",
      "Requirement already satisfied: pytest in c:\\programdata\\anaconda3\\lib\\site-packages (from pyLDAvis) (5.0.1)\n",
      "Requirement already satisfied: future in c:\\programdata\\anaconda3\\lib\\site-packages (from pyLDAvis) (0.17.1)\n",
      "Collecting funcy (from pyLDAvis)\n",
      "  Downloading https://files.pythonhosted.org/packages/ce/4b/6ffa76544e46614123de31574ad95758c421aae391a1764921b8a81e1eae/funcy-1.14.tar.gz (548kB)\n",
      "Requirement already satisfied: python-dateutil>=2.5.0 in c:\\programdata\\anaconda3\\lib\\site-packages (from pandas>=0.17.0->pyLDAvis) (2.8.0)\n",
      "Requirement already satisfied: pytz>=2011k in c:\\programdata\\anaconda3\\lib\\site-packages (from pandas>=0.17.0->pyLDAvis) (2019.1)\n",
      "Requirement already satisfied: MarkupSafe>=0.23 in c:\\programdata\\anaconda3\\lib\\site-packages (from jinja2>=2.7.2->pyLDAvis) (1.1.1)\n",
      "Requirement already satisfied: py>=1.5.0 in c:\\programdata\\anaconda3\\lib\\site-packages (from pytest->pyLDAvis) (1.8.0)\n",
      "Requirement already satisfied: packaging in c:\\programdata\\anaconda3\\lib\\site-packages (from pytest->pyLDAvis) (19.0)\n",
      "Requirement already satisfied: attrs>=17.4.0 in c:\\programdata\\anaconda3\\lib\\site-packages (from pytest->pyLDAvis) (19.1.0)\n",
      "Requirement already satisfied: more-itertools>=4.0.0 in c:\\programdata\\anaconda3\\lib\\site-packages (from pytest->pyLDAvis) (7.0.0)\n",
      "Requirement already satisfied: atomicwrites>=1.0 in c:\\programdata\\anaconda3\\lib\\site-packages (from pytest->pyLDAvis) (1.3.0)\n",
      "Requirement already satisfied: pluggy<1.0,>=0.12 in c:\\programdata\\anaconda3\\lib\\site-packages (from pytest->pyLDAvis) (0.12.0)\n",
      "Requirement already satisfied: importlib-metadata>=0.12 in c:\\programdata\\anaconda3\\lib\\site-packages (from pytest->pyLDAvis) (0.17)\n",
      "Requirement already satisfied: wcwidth in c:\\programdata\\anaconda3\\lib\\site-packages (from pytest->pyLDAvis) (0.1.7)\n",
      "Requirement already satisfied: colorama in c:\\programdata\\anaconda3\\lib\\site-packages (from pytest->pyLDAvis) (0.4.1)\n",
      "Requirement already satisfied: six>=1.5 in c:\\programdata\\anaconda3\\lib\\site-packages (from python-dateutil>=2.5.0->pandas>=0.17.0->pyLDAvis) (1.12.0)\n",
      "Requirement already satisfied: pyparsing>=2.0.2 in c:\\programdata\\anaconda3\\lib\\site-packages (from packaging->pytest->pyLDAvis) (2.4.0)\n",
      "Requirement already satisfied: zipp>=0.5 in c:\\programdata\\anaconda3\\lib\\site-packages (from importlib-metadata>=0.12->pytest->pyLDAvis) (0.5.1)\n",
      "Building wheels for collected packages: pyLDAvis, funcy\n",
      "  Building wheel for pyLDAvis (setup.py): started\n",
      "  Building wheel for pyLDAvis (setup.py): finished with status 'done'\n",
      "  Stored in directory: C:\\Users\\Pengguna\\AppData\\Local\\pip\\Cache\\wheels\\98\\71\\24\\513a99e58bb6b8465bae4d2d5e9dba8f0bef8179e3051ac414\n",
      "  Building wheel for funcy (setup.py): started\n",
      "  Building wheel for funcy (setup.py): finished with status 'done'\n",
      "  Stored in directory: C:\\Users\\Pengguna\\AppData\\Local\\pip\\Cache\\wheels\\20\\5a\\d8\\1d875df03deae6f178dfdf70238cca33f948ef8a6f5209f2eb\n",
      "Successfully built pyLDAvis funcy\n",
      "Installing collected packages: funcy, pyLDAvis\n",
      "Successfully installed funcy-1.14 pyLDAvis-2.1.2\n"
     ]
    }
   ],
   "source": [
    "!pip install pyLDAvis"
   ]
  },
  {
   "cell_type": "code",
   "execution_count": 14,
   "metadata": {},
   "outputs": [],
   "source": [
    "import pyLDAvis.gensim"
   ]
  },
  {
   "cell_type": "markdown",
   "metadata": {},
   "source": [
    "## Load Data\n",
    "kita load data yang telah disiapkan dalam folder yang sama. Data berupa CSV. Silahkan pahami isi datanya. \n",
    "\n",
    "Memahami data adalah salah satu step yang sangan penting dalam proses Machine Learning. "
   ]
  },
  {
   "cell_type": "code",
   "execution_count": 15,
   "metadata": {},
   "outputs": [
    {
     "data": {
      "text/plain": [
       "101"
      ]
     },
     "execution_count": 15,
     "metadata": {},
     "output_type": "execute_result"
    }
   ],
   "source": [
    "data = []\n",
    "\n",
    "\n",
    "with open('artikel.csv') as csvfile:\n",
    "    readCSV = csv.reader(csvfile, delimiter=',')\n",
    "    for row in readCSV:\n",
    "        data.append(row)\n",
    "len(data)"
   ]
  },
  {
   "cell_type": "markdown",
   "metadata": {},
   "source": [
    "Cek apakah data sudah tersimpan dengan baik. Data Berupa 100 dokumen. Cek dan pastikan data hanya ada 100.\n",
    "\n",
    "\n",
    "Buat perubahan yang diperlukan"
   ]
  },
  {
   "cell_type": "code",
   "execution_count": 16,
   "metadata": {},
   "outputs": [
    {
     "data": {
      "text/plain": [
       "100"
      ]
     },
     "execution_count": 16,
     "metadata": {},
     "output_type": "execute_result"
    }
   ],
   "source": [
    "data = data[1:]\n",
    "len(data)\n"
   ]
  },
  {
   "cell_type": "code",
   "execution_count": 48,
   "metadata": {},
   "outputs": [],
   "source": [
    "# data[0][0].splitlines()"
   ]
  },
  {
   "cell_type": "markdown",
   "metadata": {},
   "source": [
    "Seperti diketahui data berupa 100 dokumen berita dengan berbagai topik. untuk melakukan LDA kita akan menganalisa paragraf per paragraf. untuk itu kita perlu memisah dokem menjadi paragraf.\n",
    "\n",
    "Pisahkan list dokumen menjadi list of list dengan struktur list paragraf dalam list dokumen. Jangan lupa cek jumlah dokumen, harus tetap 100."
   ]
  },
  {
   "cell_type": "code",
   "execution_count": 17,
   "metadata": {},
   "outputs": [],
   "source": [
    "for i in range (0, len(data)) :\n",
    "    data[i] = data[i][0].splitlines()"
   ]
  },
  {
   "cell_type": "code",
   "execution_count": 18,
   "metadata": {},
   "outputs": [
    {
     "data": {
      "text/plain": [
       "100"
      ]
     },
     "execution_count": 18,
     "metadata": {},
     "output_type": "execute_result"
    }
   ],
   "source": [
    "#hasilnya harus 100\n",
    "len(data)"
   ]
  },
  {
   "cell_type": "code",
   "execution_count": 19,
   "metadata": {},
   "outputs": [
    {
     "data": {
      "text/plain": [
       "41"
      ]
     },
     "execution_count": 19,
     "metadata": {},
     "output_type": "execute_result"
    }
   ],
   "source": [
    "len(data[0])"
   ]
  },
  {
   "cell_type": "markdown",
   "metadata": {},
   "source": [
    "## Steammer\n",
    "selanjutnya kita lakukan steaming dokumen. Hal ini diperlukan untuk mendapatkan bentuk dasar dari kaliman. \n",
    "\n",
    "#### contohnya : \n",
    "\n",
    "menghapal --> hapal\n",
    "\n",
    "membeku --> beku\n",
    "\n",
    "\n",
    "Proses stemaing ini kita menggunakan library sastrawi.\n"
   ]
  },
  {
   "cell_type": "code",
   "execution_count": 20,
   "metadata": {},
   "outputs": [],
   "source": [
    "factory = StemmerFactory()\n",
    "stemmer = factory.create_stemmer()\n",
    "corpus_dasar = [[stemmer.stem(kalimat) for kalimat in corpus] for corpus in data]"
   ]
  },
  {
   "cell_type": "code",
   "execution_count": 54,
   "metadata": {},
   "outputs": [],
   "source": [
    "#pastikan datanya benar dan temukan perbedaannya.\n"
   ]
  },
  {
   "cell_type": "markdown",
   "metadata": {},
   "source": [
    "Proses diatas mengkonsumsi waktu yang cukup lama. Simpan objek ke sebuah file. \n",
    "\n",
    "Sehingga apabila kernel kita error kita tidak perlu meload dari awal lg."
   ]
  },
  {
   "cell_type": "code",
   "execution_count": 21,
   "metadata": {},
   "outputs": [],
   "source": [
    "with open(\"corpus_dasar.pkl\",\"wb\") as openfile:\n",
    "    pickle.dump(corpus_dasar, openfile)"
   ]
  },
  {
   "cell_type": "markdown",
   "metadata": {},
   "source": [
    "## Tokenizer\n",
    "\n",
    "Tokenisasi adalah proses memecah dokumen majadi satu - persatu kata.\n",
    "\n",
    "contoh :\n",
    "\n",
    "\" Kita Belajar di pusdik\" --> \"kita\", \"belajar\", \"di\", \"pusdik\"\n",
    "\n",
    "seperti diperhatikan diatas, selain dipecah, hurus semua dirubah menjadi lower case. Hal ini diperlukan agar huruf Belajar dan belajar diperhitungkan sebagai satu kata. Perlu ditekankan lagi, secara default,  komputer tidak akan bisa mengenali perbedaan lower dan upper case.\n",
    "\n",
    "Jangan lupa cek hasilnya."
   ]
  },
  {
   "cell_type": "code",
   "execution_count": 22,
   "metadata": {},
   "outputs": [],
   "source": [
    "kata = [[nltk.tokenize.word_tokenize(kata) for kata in corpus] for corpus in corpus_dasar]"
   ]
  },
  {
   "cell_type": "markdown",
   "metadata": {},
   "source": [
    "## Stopword removal\n",
    "Kita akan menghilangkan kata - kata yang sangat sering digunakan akan tetapi tidak banyak berarti.\n",
    "\n",
    "Kata-kata seperti : dan, yang, itu, ini dihilangkan.\n",
    "\n",
    "Untuk menambah akurasi data, kata yang hanya terdiri dari 2 atau 1 saruf kita hilangkan."
   ]
  },
  {
   "cell_type": "code",
   "execution_count": 23,
   "metadata": {},
   "outputs": [],
   "source": [
    "factory = StopWordRemoverFactory()\n",
    "stopwords = factory.get_stop_words()"
   ]
  },
  {
   "cell_type": "code",
   "execution_count": 24,
   "metadata": {},
   "outputs": [],
   "source": [
    "kata = [[[each for each in item if each not in stopwords] for item in doc] for doc in kata]\n",
    "# Hilangkan kata yang terdiri dari dua atau 1 huruf\n",
    "\n",
    "\n"
   ]
  },
  {
   "cell_type": "code",
   "execution_count": 25,
   "metadata": {},
   "outputs": [
    {
     "name": "stdout",
     "output_type": "stream",
     "text": [
      "[['api', 'bom', 'sambut', 'awal', 'milenium', 'baru'], [], ['lima', 'orang', 'tewas', '130', 'cedera', '20', 'alami', 'luka', 'bakar', 'serius', 'kafe', 'het', 'hemeltje', 'surga', 'kecil', 'volendam', 'kota', 'utara', 'belanda', 'padat', 'remaja', 'tengah', 'raya', 'tahun', 'baru', 'bakar', 'api', 'mula', 'tengah', 'jam', 'awal', 'milenium', 'baru', 'senin', '1', '1', 'pukul', '00', '30', 'cepat', 'lalap', 'kafe', 'kota', 'wisata', 'sebut'], [], ['peristiwa', 'tragis', 'volendam', 'satu', 'sekian', 'rangkai', 'peristiwa', 'tragis', 'tengah', 'riah', 'masyarakat', 'dunia', 'raya', 'hari', 'pertama', 'milenium', 'baru', 'milenium', 'tiga', '1', 'januari', '2001', 'dini', 'hari'], [], ['ledak', 'bom', 'guncang', 'gereja', 'bekas', 'negara', 'uni', 'soviet', 'tajikistan', 'malam', 'jelang', 'tahun', 'baru', 'minggu', 'bom', 'ledak', 'selang', 'tengah', 'jam', 'ibu', 'kota', 'tajikistan', 'dushanbe', 'satu', 'bom', 'gereja', 'ortodoks', 'satu', 'gereja', 'adven', 'hari', 'tujuh', 'tak', 'timbul', 'korban'], [], ['rupa', 'insiden', 'rupa', 'tiga', 'bulan', 'negara', 'asia', 'tengah', 'duduk', 'mayoritas', 'muslim', 'turut', 'polisi', 'tempat', 'peristiwa', 'tiga', 'bulan', 'lalu', 'buah', 'bom', 'ledak', 'gereja', 'misi', 'kristen', 'korea', 'luar', 'dushambe', 'oktober', '2000', 'tewas', 'tujuh', 'orang', 'tengah', 'ikut', 'ibadat'], [], ['ledak', 'bom', 'senin', 'dini', 'hari', 'rontok', 'tembok', 'keliling', 'gereja', 'katolik', 'aden', 'yaman', 'tak', 'cedera', 'lima', 'gereja', 'yaman', 'seluruh', 'aden'], [], ['loncat', 'jendela'], [], ['korban', 'malam', 'tahun', 'baru', 'kafe', 'het', 'hemeltje', 'volendam', 'senin', 'dini', 'hari', 'kata', 'wali', 'kota', 'volendam', 'frank', 'ijsselmuiden', 'umum', 'akibat', 'upaya', 'selamat', 'diri', 'pecah', 'kaca', 'jendela', 'loncat', 'lantai', 'tiga', 'hindar', 'api', 'tiba', 'lalap', 'kafe', 'het', 'hemeltje'], [], ['lima', 'orang', 'tewas', 'satu', 'mati', 'rumah', 'sakit', 'kira', '130', 'orang', 'cedera', 'ungkap', 'frank', 'ijsselmuiden'], [], ['laku', 'bantu', 'celaka', 'sebut', 'turut', 'ijsselmuiden', 'perlu', '100', 'ambul', '53', 'cedera', 'angkut', 'amsterdam', 'rumah', 'sakit', 'amc', 'paruh', 'cedera', 'bakar', 'serius'], [], ['panik', 'banyak', 'loncat', 'jendela', 'lantai', 'tiga', 'kata', 'jubir', 'polisi', 'volendam', 'wietse', 'peter', 'tambah', 'beberapa', 'korban', 'bakar', 'rawat', 'duduk', 'kafe', 'baring', 'bak', 'mandi'], [], ['turut', 'polisi', 'mungkin', 'api', 'landa', 'kafe', 'awal', 'hias', 'lampu', 'natal', 'banyak', 'unjung', 'malam', 'volendam', 'memang', 'rupa', 'resor', 'wisata', 'kenal', 'belanda', 'letak', 'ijselmeer', 'buah', 'danau', 'darat', 'hubung', 'laut', 'utara'], [], ['kembang', 'api'], [], ['buah', 'bom', 'ledak', 'pusat', 'kota', 'istanbul', 'turki', 'senin', 'dini', 'hari', 'ribu', 'orang', 'tengah', 'raya', 'malam', 'tahun', 'baru', 'paksa', 'ungsi', 'diri', 'puluh', 'cedera'], [], ['buah', 'pihak', 'klaim', 'insiden', 'bom', 'polisi', 'istanbul', 'kira', 'buat', 'laku', 'kaum', 'militan', 'kiri', 'duga', 'rencana', 'aksi', 'serang', 'malam', 'tahun', 'baru', 'balas', 'dendam', 'atas', 'bunuh', 'rekan', 'mati', 'serang', 'rusuh', 'penjara', 'turki', 'lama'], [], ['cara', 'seluruh', 'riah', 'kembang', 'api', 'warna', 'awal', 'milenium', 'baru', 'tahun', '2001', 'bagai', 'tempat', 'bahan', 'dunia', 'filipina', 'sabtu', 'guncang', 'lima', 'bom', 'ibu', 'kota', 'manila', '14', 'tewas', '100', 'cedera', 'kurun', 'waktu', 'jam', 'ingar-bingar', 'pesta', 'kembang', 'api'], [], ['400', 'orang', 'cedera', 'akibat', 'kena', 'kembang', 'api', 'mercon', 'manila', 'senin', 'dini', 'hari', 'meski', 'baru', 'guncang', 'bom', 'bahan', 'filipina', 'selatan', 'landa', 'bagai', 'peristiwa', 'teror', 'tetap', 'sambut', 'riah', 'awal', 'milenium', 'baru', 'kali'], [], ['beijing', 'cina', 'insiden', 'darah', 'jadi', 'senin', 'dini', 'hari', '300', 'anggota', 'gera', 'spiritual', 'larang', 'cina', 'falun', 'gong', 'tangkap', 'cara', 'keras', 'laku', 'aksi', 'demonstrasi', 'ribu', 'polisi', 'turut', 'afp', 'tendang', 'pukul', 'ratus', 'demonstran', 'falun', 'gong', 'nyata', 'larang', 'sejak', 'tahun', '1999', 'meski', 'larang', 'perintah', 'komunis', 'cina', 'hasil', 'berantas', 'anggota', 'falun', 'gong', 'hampir', 'selalu', 'hari', 'libur', 'besar', 'sempat', 'demonstrasi', 'atas', 'larang', 'tangkap', 'hadap', 'anggota'], [], ['paris', 'perancis', 'menara', 'kenal', 'eiffel', 'warna', 'biru', 'new', 'york', 'lapang', 'kenal', 'times', 'square', 'limut', 'salju', 'bagai', 'negara', 'afrika', 'landa', 'perang', 'bunuh', 'awal', 'tahun', 'baru', 'timur', 'tengah', 'riah', 'insiden', 'asia'], [], ['gencat', 'senjata', 'timur', 'tengah', 'jelang', 'tahun', 'baru', 'minggu', 'bahkan', 'hari', 'orang', 'ekstremis', 'yahudi', 'istri', 'tembak', 'mati', 'orang', 'palestina', 'tepi', 'barat', 'binyamin', 'zeev', 'istri', 'talia', 'mati', 'tembak', 'mobil', 'lima', 'anak', 'cedera'], [], ['beberapa', 'jam', 'orang', 'jabat', 'tinggi', 'sayap', 'militer', 'yasser', 'arafat', 'fatah', 'tewas', 'bunuh', 'tentara', 'israel', 'tsabit', 'tsabit', 'sekjen', 'faksi', 'fatah', 'tulkarem', 'temu', 'tewas', 'depan', 'rumah', 'polisi', 'palestina', 'lapor', 'tewas', 'tembak', 'tentara', 'israel', 'awal', 'tahun', 'baru']]\n"
     ]
    }
   ],
   "source": [
    "print(kata[0])"
   ]
  },
  {
   "cell_type": "markdown",
   "metadata": {},
   "source": [
    "## Bag of Word\n",
    "Bag of words (BOW) adalah istilah yang sangat penting dalam proses nlp. Pastikan anda paham dan mengerti konsepnya. Jika tidak, tanyakan kepada instruktur."
   ]
  },
  {
   "cell_type": "code",
   "execution_count": 26,
   "metadata": {},
   "outputs": [],
   "source": [
    "dictionary = corpora.Dictionary(kata[0])"
   ]
  },
  {
   "cell_type": "code",
   "execution_count": 27,
   "metadata": {},
   "outputs": [],
   "source": [
    "corpus = [dictionary.doc2bow(text) for text in kata[0]]"
   ]
  },
  {
   "cell_type": "markdown",
   "metadata": {},
   "source": [
    "Cek pemahaman dengan print output hasilnya dan print kata berkaitan dengan id nya.\n",
    "\n",
    "gunakan id2word(id)"
   ]
  },
  {
   "cell_type": "code",
   "execution_count": null,
   "metadata": {},
   "outputs": [],
   "source": []
  },
  {
   "cell_type": "markdown",
   "metadata": {},
   "source": [
    "## LDA\n",
    "Berikutnya kita akan melakukan modeling. seperti dibahas dalam kelas, LDA adalah salah satu tehnik unsupervised learning. Kelemahan dari unsupervised learning adalah kita tidak banyak informasi tetang model yang tepat.\n",
    "\n",
    "Dalam hal topic modeling, kita tidak mengetahui berapa topic yang dapat dengan tepat menggambarkan dokumen bersangkutan.\n",
    "\n",
    "Dalam materi ini kita hanya akan mencakup LDA secara dasar dan cara penggunaannya. Optimalisasi model belum bisa dicakup karena keterbatasan waktu.\n",
    "\n",
    "Untuk petihan ini kita coba dengan topic sebanyak 5."
   ]
  },
  {
   "cell_type": "code",
   "execution_count": 28,
   "metadata": {},
   "outputs": [],
   "source": [
    "\n",
    "NUM_TOPICS = 5\n",
    "ldamodel = gensim.models.ldamodel.LdaModel(corpus, num_topics = NUM_TOPICS, id2word=dictionary, passes=15)\n",
    "#ldamodel.save('model5.gensim')"
   ]
  },
  {
   "cell_type": "markdown",
   "metadata": {},
   "source": [
    "Selain jumlah topic, kita juga bisa membatasi jumlah kata dalam tiap tiap topic."
   ]
  },
  {
   "cell_type": "code",
   "execution_count": 29,
   "metadata": {},
   "outputs": [
    {
     "name": "stdout",
     "output_type": "stream",
     "text": [
      "(0, '0.025*\"kembang\" + 0.025*\"api\" + 0.018*\"tiga\" + 0.018*\"tengah\"')\n",
      "(1, '0.029*\"cedera\" + 0.020*\"mati\" + 0.020*\"orang\" + 0.020*\"tembak\"')\n",
      "(2, '0.032*\"bom\" + 0.032*\"gereja\" + 0.020*\"ledak\" + 0.013*\"satu\"')\n",
      "(3, '0.024*\"baru\" + 0.020*\"orang\" + 0.020*\"hari\" + 0.020*\"senin\"')\n",
      "(4, '0.027*\"awal\" + 0.027*\"baru\" + 0.020*\"milenium\" + 0.018*\"tewas\"')\n"
     ]
    }
   ],
   "source": [
    "topics = ldamodel.print_topics(num_words=4)\n",
    "for topic in topics:\n",
    "    print(topic)"
   ]
  },
  {
   "cell_type": "markdown",
   "metadata": {},
   "source": [
    "Untuk lebih memperjelas hasil LDA, kita dapat memvisualisasikan hasilnya.\n",
    "\n",
    "Visualisasi adalah tahapan penting dalam ML. Hal ini penting karena tidak semua orang paham dengan tehnil ML, akan detatpi dengan visualisasi kita dapat mentejermahkan dengan lebih mudah. Hal ini dikarenakan cara kerja sistem visual manusia yang dapat mengartikan berbagai macam simbol sebagai satu kesatuan informasi. Hal tersebut sangat sudah dicapai oleh mesin canggih sekalipun."
   ]
  },
  {
   "cell_type": "code",
   "execution_count": 30,
   "metadata": {
    "scrolled": true
   },
   "outputs": [
    {
     "name": "stderr",
     "output_type": "stream",
     "text": [
      "C:\\ProgramData\\Anaconda3\\lib\\site-packages\\pyLDAvis\\_prepare.py:257: FutureWarning: Sorting because non-concatenation axis is not aligned. A future version\n",
      "of pandas will change to not sort by default.\n",
      "\n",
      "To accept the future behavior, pass 'sort=False'.\n",
      "\n",
      "To retain the current behavior and silence the warning, pass 'sort=True'.\n",
      "\n",
      "  return pd.concat([default_term_info] + list(topic_dfs))\n"
     ]
    }
   ],
   "source": [
    "\n",
    "pyLDAvis.enable_notebook()\n",
    "lda_display = pyLDAvis.gensim.prepare(ldamodel, corpus, dictionary)\n"
   ]
  },
  {
   "cell_type": "code",
   "execution_count": 31,
   "metadata": {},
   "outputs": [
    {
     "data": {
      "text/html": [
       "\n",
       "<link rel=\"stylesheet\" type=\"text/css\" href=\"https://cdn.rawgit.com/bmabey/pyLDAvis/files/ldavis.v1.0.0.css\">\n",
       "\n",
       "\n",
       "<div id=\"ldavis_el644826554073363282194990616\"></div>\n",
       "<script type=\"text/javascript\">\n",
       "\n",
       "var ldavis_el644826554073363282194990616_data = {\"mdsDat\": {\"x\": [-0.02645379927070539, 0.1233111434408223, -0.08833001166576453, 0.02669102496824587, -0.0352183574725981], \"y\": [0.10944371135664718, -0.016238665323002072, -0.08105009620967647, -0.04344451268985154, 0.03128956286588273], \"topics\": [1, 2, 3, 4, 5], \"cluster\": [1, 1, 1, 1, 1], \"Freq\": [36.52972412109375, 21.615964889526367, 19.257862091064453, 13.004011154174805, 9.592438697814941]}, \"tinfo\": {\"Category\": [\"Default\", \"Default\", \"Default\", \"Default\", \"Default\", \"Default\", \"Default\", \"Default\", \"Default\", \"Default\", \"Default\", \"Default\", \"Default\", \"Default\", \"Default\", \"Default\", \"Default\", \"Default\", \"Default\", \"Default\", \"Default\", \"Default\", \"Default\", \"Default\", \"Default\", \"Default\", \"Default\", \"Default\", \"Default\", \"Default\", \"Topic1\", \"Topic1\", \"Topic1\", \"Topic1\", \"Topic1\", \"Topic1\", \"Topic1\", \"Topic1\", \"Topic1\", \"Topic1\", \"Topic1\", \"Topic1\", \"Topic1\", \"Topic1\", \"Topic1\", \"Topic1\", \"Topic1\", \"Topic1\", \"Topic1\", \"Topic1\", \"Topic1\", \"Topic1\", \"Topic1\", \"Topic1\", \"Topic1\", \"Topic1\", \"Topic1\", \"Topic1\", \"Topic1\", \"Topic1\", \"Topic1\", \"Topic1\", \"Topic1\", \"Topic1\", \"Topic1\", \"Topic1\", \"Topic1\", \"Topic1\", \"Topic1\", \"Topic1\", \"Topic1\", \"Topic1\", \"Topic1\", \"Topic1\", \"Topic1\", \"Topic1\", \"Topic1\", \"Topic2\", \"Topic2\", \"Topic2\", \"Topic2\", \"Topic2\", \"Topic2\", \"Topic2\", \"Topic2\", \"Topic2\", \"Topic2\", \"Topic2\", \"Topic2\", \"Topic2\", \"Topic2\", \"Topic2\", \"Topic2\", \"Topic2\", \"Topic2\", \"Topic2\", \"Topic2\", \"Topic2\", \"Topic2\", \"Topic2\", \"Topic2\", \"Topic2\", \"Topic2\", \"Topic2\", \"Topic2\", \"Topic2\", \"Topic2\", \"Topic2\", \"Topic2\", \"Topic2\", \"Topic2\", \"Topic2\", \"Topic2\", \"Topic2\", \"Topic2\", \"Topic2\", \"Topic2\", \"Topic2\", \"Topic2\", \"Topic2\", \"Topic2\", \"Topic2\", \"Topic2\", \"Topic2\", \"Topic2\", \"Topic2\", \"Topic2\", \"Topic2\", \"Topic2\", \"Topic2\", \"Topic2\", \"Topic3\", \"Topic3\", \"Topic3\", \"Topic3\", \"Topic3\", \"Topic3\", \"Topic3\", \"Topic3\", \"Topic3\", \"Topic3\", \"Topic3\", \"Topic3\", \"Topic3\", \"Topic3\", \"Topic3\", \"Topic3\", \"Topic3\", \"Topic3\", \"Topic3\", \"Topic3\", \"Topic3\", \"Topic3\", \"Topic3\", \"Topic3\", \"Topic3\", \"Topic3\", \"Topic3\", \"Topic3\", \"Topic3\", \"Topic3\", \"Topic3\", \"Topic3\", \"Topic3\", \"Topic3\", \"Topic3\", \"Topic3\", \"Topic3\", \"Topic3\", \"Topic3\", \"Topic3\", \"Topic3\", \"Topic3\", \"Topic3\", \"Topic3\", \"Topic3\", \"Topic3\", \"Topic3\", \"Topic3\", \"Topic3\", \"Topic3\", \"Topic3\", \"Topic4\", \"Topic4\", \"Topic4\", \"Topic4\", \"Topic4\", \"Topic4\", \"Topic4\", \"Topic4\", \"Topic4\", \"Topic4\", \"Topic4\", \"Topic4\", \"Topic4\", \"Topic4\", \"Topic4\", \"Topic4\", \"Topic4\", \"Topic4\", \"Topic4\", \"Topic4\", \"Topic4\", \"Topic4\", \"Topic4\", \"Topic4\", \"Topic4\", \"Topic4\", \"Topic4\", \"Topic4\", \"Topic4\", \"Topic4\", \"Topic4\", \"Topic4\", \"Topic4\", \"Topic4\", \"Topic4\", \"Topic4\", \"Topic4\", \"Topic4\", \"Topic4\", \"Topic4\", \"Topic4\", \"Topic4\", \"Topic5\", \"Topic5\", \"Topic5\", \"Topic5\", \"Topic5\", \"Topic5\", \"Topic5\", \"Topic5\", \"Topic5\", \"Topic5\", \"Topic5\", \"Topic5\", \"Topic5\", \"Topic5\", \"Topic5\", \"Topic5\", \"Topic5\", \"Topic5\", \"Topic5\", \"Topic5\", \"Topic5\", \"Topic5\", \"Topic5\", \"Topic5\", \"Topic5\", \"Topic5\", \"Topic5\", \"Topic5\", \"Topic5\", \"Topic5\", \"Topic5\", \"Topic5\", \"Topic5\", \"Topic5\", \"Topic5\", \"Topic5\", \"Topic5\", \"Topic5\", \"Topic5\", \"Topic5\"], \"Freq\": [4.0, 6.0, 3.0, 7.0, 6.0, 2.0, 3.0, 5.0, 6.0, 1.0, 5.0, 1.0, 1.0, 2.0, 2.0, 3.0, 1.0, 2.0, 3.0, 4.0, 1.0, 1.0, 1.0, 1.0, 1.0, 1.0, 1.0, 1.0, 1.0, 3.0, 3.2570650577545166, 2.482637405395508, 2.4826107025146484, 2.4820563793182373, 2.4818952083587646, 2.481851100921631, 2.4816882610321045, 1.7069153785705566, 1.706912875175476, 1.7068042755126953, 1.706770420074463, 1.7065433263778687, 1.7064921855926514, 1.7064064741134644, 1.706318974494934, 1.7063268423080444, 1.7061561346054077, 4.034403324127197, 0.9310266375541687, 0.9310263395309448, 0.9310263395309448, 0.931026041507721, 0.9310261607170105, 0.9310259222984314, 0.9310257434844971, 0.9310257434844971, 0.9310215711593628, 0.9310213327407837, 0.9310210347175598, 0.9310206770896912, 3.2588796615600586, 3.2592546939849854, 3.258768081665039, 1.7071998119354248, 4.034801483154297, 4.0346479415893555, 1.7068134546279907, 1.7066923379898071, 3.2596802711486816, 4.810777187347412, 2.4829883575439453, 3.258784532546997, 2.4835290908813477, 2.4835405349731445, 1.7073557376861572, 1.7066524028778076, 1.7066006660461426, 2.132086992263794, 1.4657455682754517, 1.4657294750213623, 1.4657201766967773, 1.4656909704208374, 1.4656310081481934, 0.7995467185974121, 0.7995467782020569, 0.7995467185974121, 0.7995466589927673, 0.7995465993881226, 0.7995465993881226, 0.7995465993881226, 0.7995464205741882, 0.7995464205741882, 0.7995463013648987, 0.7995462417602539, 0.7995462417602539, 0.7995460033416748, 0.7995460033416748, 0.7995004653930664, 0.7994928359985352, 0.7994896769523621, 0.799489438533783, 0.7994841933250427, 0.7994834780693054, 0.7994771003723145, 0.7994725108146667, 0.7994713187217712, 0.7994670271873474, 3.2721829414367676, 1.4661308526992798, 2.3595120906829834, 1.4662364721298218, 1.5857048034667969, 2.187734603881836, 3.200490951538086, 1.4659780263900757, 1.4659771919250488, 1.4659379720687866, 1.5167896747589111, 1.570421576499939, 1.4661329984664917, 1.4657331705093384, 0.8456946015357971, 0.8428956270217896, 0.8419990539550781, 0.8464051485061646, 0.8542677760124207, 0.8103081583976746, 0.8003292083740234, 0.7999345660209656, 0.7998908162117004, 0.7997213006019592, 3.3989169597625732, 1.4384701251983643, 1.4384688138961792, 1.4379701614379883, 1.4375237226486206, 1.4373834133148193, 0.7846078276634216, 0.7846077680587769, 0.7846075296401978, 0.7846075296401978, 0.7842212915420532, 0.7841921448707581, 0.7841540575027466, 0.7841311693191528, 0.7841219305992126, 0.7841223478317261, 0.7841401696205139, 0.78413987159729, 0.7840996384620667, 0.784094512462616, 0.7840847969055176, 0.7841042280197144, 0.7840740084648132, 0.784074068069458, 0.7840597033500671, 0.7840567231178284, 0.7840405702590942, 0.7840254306793213, 0.7840052247047424, 0.7840277552604675, 0.7840495705604553, 2.09247088432312, 3.4047703742980957, 1.4375791549682617, 1.4387586116790771, 1.4380381107330322, 1.4367936849594116, 1.4377920627593994, 1.4382169246673584, 1.4384328126907349, 0.7852209806442261, 0.7850361466407776, 0.7846792340278625, 0.784521222114563, 0.7844794392585754, 0.7844425439834595, 0.7844071388244629, 0.784365177154541, 0.7843486666679382, 0.7843020558357239, 0.7842580080032349, 1.2689169645309448, 1.2682478427886963, 1.842826247215271, 0.6922233700752258, 0.6922178268432617, 0.692194402217865, 0.6921907067298889, 0.6921707391738892, 0.6921706199645996, 0.6921529769897461, 0.6921408176422119, 0.6921308636665344, 0.6921260356903076, 0.6921242475509644, 0.6920820474624634, 0.6916075348854065, 0.6914961338043213, 0.6914281845092773, 0.6913115978240967, 0.6912428140640259, 0.6912384629249573, 1.269261360168457, 0.6915240287780762, 0.6932245492935181, 0.692259669303894, 0.6915419697761536, 0.690503716468811, 0.692306399345398, 0.6918068528175354, 0.6916165947914124, 1.2715709209442139, 1.7984797954559326, 1.222071886062622, 1.2697452306747437, 1.2566903829574585, 0.6943334341049194, 0.6930188536643982, 0.6929700374603271, 0.6927721500396729, 0.6926035284996033, 0.6923225522041321, 0.6922857761383057, 1.0782544612884521, 0.5881648063659668, 0.5881343483924866, 0.5881270170211792, 0.5881224870681763, 0.5881155133247375, 0.5881136655807495, 0.5881134867668152, 0.5881113409996033, 0.5881105661392212, 0.588105320930481, 0.5880979895591736, 0.5880292654037476, 0.5879004597663879, 0.5878775715827942, 0.5878657698631287, 0.5878174304962158, 0.587821364402771, 0.5878157615661621, 0.5877819657325745, 0.5877708196640015, 0.5877390503883362, 1.0784122943878174, 1.0795570611953735, 0.5878419876098633, 0.5881948471069336, 0.5881673097610474, 0.588211178779602, 0.5881791710853577, 0.5883151888847351, 1.5689753293991089, 1.078959345817566, 0.5885338187217712, 0.5883464217185974, 0.5881688594818115, 0.5881067514419556, 0.588047444820404, 0.5880050659179688, 0.5879506468772888, 0.5879270434379578], \"Term\": [\"gereja\", \"cedera\", \"kembang\", \"bom\", \"api\", \"tembak\", \"mati\", \"awal\", \"orang\", \"istri\", \"tewas\", \"bulan\", \"tempat\", \"rupa\", \"kenal\", \"ledak\", \"100\", \"ijsselmuiden\", \"tiga\", \"milenium\", \"minggu\", \"jelang\", \"aden\", \"yaman\", \"tak\", \"tajikistan\", \"serang\", \"timur\", \"palestina\", \"turut\", \"larang\", \"hemeltje\", \"het\", \"falun\", \"cina\", \"anggota\", \"gong\", \"diri\", \"frank\", \"lalap\", \"130\", \"ribu\", \"akibat\", \"demonstrasi\", \"pukul\", \"meski\", \"tangkap\", \"senin\", \"kaca\", \"hindar\", \"umum\", \"wali\", \"selamat\", \"tiba\", \"pecah\", \"upaya\", \"ungsi\", \"puluh\", \"paksa\", \"pusat\", \"kota\", \"kafe\", \"dini\", \"ijsselmuiden\", \"orang\", \"hari\", \"raya\", \"1\", \"cedera\", \"baru\", \"volendam\", \"tahun\", \"api\", \"tengah\", \"bakar\", \"lima\", \"malam\", \"kenal\", \"israel\", \"tentara\", \"tsabit\", \"fatah\", \"tragis\", \"biru\", \"salju\", \"menara\", \"square\", \"lapang\", \"new\", \"perang\", \"york\", \"afrika\", \"eiffel\", \"paris\", \"times\", \"limut\", \"perancis\", \"lapor\", \"yasser\", \"temu\", \"tulkarem\", \"jabat\", \"sayap\", \"depan\", \"arafat\", \"sekjen\", \"militer\", \"awal\", \"bunuh\", \"milenium\", \"landa\", \"riah\", \"tewas\", \"baru\", \"peristiwa\", \"polisi\", \"volendam\", \"api\", \"tahun\", \"tengah\", \"hari\", \"warna\", \"2001\", \"dunia\", \"bagai\", \"jam\", \"bom\", \"satu\", \"negara\", \"malam\", \"insiden\", \"gereja\", \"aden\", \"yaman\", \"tak\", \"tajikistan\", \"serang\", \"rontok\", \"katolik\", \"keliling\", \"tembok\", \"timbul\", \"soviet\", \"rencana\", \"rekan\", \"kiri\", \"dendam\", \"adven\", \"selang\", \"penjara\", \"buat\", \"kaum\", \"ortodoks\", \"lama\", \"duga\", \"klaim\", \"rusuh\", \"pihak\", \"militan\", \"wietse\", \"balas\", \"bekas\", \"ledak\", \"bom\", \"korban\", \"satu\", \"malam\", \"polisi\", \"tahun\", \"hari\", \"baru\", \"jendela\", \"loncat\", \"seluruh\", \"guncang\", \"kira\", \"dini\", \"lima\", \"istanbul\", \"turki\", \"senin\", \"jam\", \"bulan\", \"tempat\", \"kembang\", \"misi\", \"ikut\", \"muslim\", \"mayoritas\", \"dushambe\", \"lalu\", \"luar\", \"korea\", \"ibadat\", \"oktober\", \"kristen\", \"2000\", \"sabtu\", \"14\", \"waktu\", \"pesta\", \"kurun\", \"ingar-bingar\", \"rupa\", \"100\", \"duduk\", \"tujuh\", \"seluruh\", \"ibu\", \"asia\", \"cara\", \"bahan\", \"tiga\", \"api\", \"tewas\", \"tengah\", \"bom\", \"polisi\", \"turut\", \"buah\", \"insiden\", \"peristiwa\", \"negara\", \"ledak\", \"istri\", \"yahudi\", \"tepi\", \"bahkan\", \"gencat\", \"mobil\", \"ekstremis\", \"talia\", \"anak\", \"binyamin\", \"barat\", \"zeev\", \"senjata\", \"angkut\", \"amsterdam\", \"53\", \"amc\", \"bantu\", \"paruh\", \"perlu\", \"ambul\", \"celaka\", \"tembak\", \"mati\", \"100\", \"minggu\", \"jelang\", \"timur\", \"palestina\", \"sakit\", \"cedera\", \"orang\", \"lima\", \"rumah\", \"tahun\", \"baru\", \"tengah\", \"hari\", \"ijsselmuiden\", \"turut\"], \"Total\": [4.0, 6.0, 3.0, 7.0, 6.0, 2.0, 3.0, 5.0, 6.0, 1.0, 5.0, 1.0, 1.0, 2.0, 2.0, 3.0, 1.0, 2.0, 3.0, 4.0, 1.0, 1.0, 1.0, 1.0, 1.0, 1.0, 1.0, 1.0, 1.0, 3.0, 3.7357850074768066, 2.960284471511841, 2.960280418395996, 2.96012020111084, 2.9600765705108643, 2.960066080093384, 2.9600260257720947, 2.1844170093536377, 2.1844162940979004, 2.1844019889831543, 2.184396266937256, 2.184323310852051, 2.184352397918701, 2.1842892169952393, 2.1842916011810303, 2.1843042373657227, 2.1842265129089355, 5.165870189666748, 1.4085252285003662, 1.408524990081787, 1.4085251092910767, 1.408524990081787, 1.4085251092910767, 1.408524990081787, 1.4085248708724976, 1.4085248708724976, 1.4085235595703125, 1.4085235595703125, 1.408523440361023, 1.4085235595703125, 4.967396259307861, 5.056312084197998, 5.056270122528076, 2.6748194694519043, 6.735871315002441, 7.6426801681518555, 2.8506784439086914, 2.8506596088409424, 6.4380950927734375, 10.3821439743042, 4.946624755859375, 7.457757949829102, 6.0306806564331055, 6.591224670410156, 3.3286452293395996, 3.9055724143981934, 4.158324718475342, 2.6315712928771973, 1.965256929397583, 1.9652549028396606, 1.965253472328186, 1.9652495384216309, 1.9652414321899414, 1.2989599704742432, 1.2989600896835327, 1.2989600896835327, 1.2989602088928223, 1.2989600896835327, 1.2989602088928223, 1.2989602088928223, 1.2989600896835327, 1.2989600896835327, 1.2989600896835327, 1.2989602088928223, 1.2989600896835327, 1.2989599704742432, 1.2989600896835327, 1.2989541292190552, 1.2989529371261597, 1.298952579498291, 1.298952579498291, 1.2989518642425537, 1.2989516258239746, 1.2989509105682373, 1.2989501953125, 1.2989500761032104, 1.2989494800567627, 5.4899678230285645, 2.6190805435180664, 4.790711879730225, 2.74099063873291, 3.333968162536621, 5.344497203826904, 10.3821439743042, 3.318006992340088, 4.625478744506836, 4.946624755859375, 6.0306806564331055, 7.457757949829102, 6.591224670410156, 7.6426801681518555, 1.882193922996521, 1.8818141222000122, 1.881691813468933, 2.6579856872558594, 3.3128411769866943, 7.275745868682861, 3.382298231124878, 2.5298798084259033, 4.158324718475342, 3.3056211471557617, 4.479110240936279, 1.940375804901123, 1.9403754472732544, 1.940385341644287, 1.9403942823410034, 1.9403048753738403, 1.2865129709243774, 1.2865129709243774, 1.2865132093429565, 1.286513090133667, 1.2865209579467773, 1.286521553993225, 1.2864868640899658, 1.286483883857727, 1.2864832878112793, 1.2864890098571777, 1.286522626876831, 1.286522626876831, 1.2864826917648315, 1.286481499671936, 1.2864797115325928, 1.2865232229232788, 1.2864773273468018, 1.286478042602539, 1.2864776849746704, 1.2864763736724854, 1.2864766120910645, 1.2864735126495361, 1.2864421606063843, 1.2864830493927002, 1.2865241765975952, 3.946959972381592, 7.275745868682861, 2.716104507446289, 3.382298231124878, 4.158324718475342, 4.625478744506836, 7.457757949829102, 7.6426801681518555, 10.3821439743042, 2.553115129470825, 2.5530943870544434, 1.8636553287506104, 2.6395249366760254, 2.062272787094116, 5.056270122528076, 3.9055724143981934, 2.0622947216033936, 2.0623013973236084, 5.165870189666748, 3.3128411769866943, 1.7868820428848267, 1.7869548797607422, 3.1391611099243164, 1.2097458839416504, 1.209748387336731, 1.209755778312683, 1.2097572088241577, 1.209762692451477, 1.2097638845443726, 1.209769368171692, 1.209773063659668, 1.2097755670547485, 1.2097793817520142, 1.209779143333435, 1.2097938060760498, 1.2098000049591064, 1.2098194360733032, 1.209823489189148, 1.2098455429077148, 1.2098584175109863, 1.2098567485809326, 2.453118324279785, 1.7003490924835205, 1.8634741306304932, 1.8635960817337036, 1.8636553287506104, 1.8638218641281128, 1.876023769378662, 1.9855705499649048, 1.9855539798736572, 3.8823938369750977, 6.0306806564331055, 5.344497203826904, 6.591224670410156, 7.275745868682861, 4.625478744506836, 3.1421597003936768, 3.305523633956909, 3.3056211471557617, 3.318006992340088, 2.5298798084259033, 3.946959972381592, 1.6134052276611328, 1.1230242252349854, 1.1230418682098389, 1.1230461597442627, 1.1230487823486328, 1.1230528354644775, 1.1230539083480835, 1.123054027557373, 1.1230552196502686, 1.1230556964874268, 1.123058795928955, 1.123063087463379, 1.1231029033660889, 1.1231423616409302, 1.123134732246399, 1.123152494430542, 1.1231580972671509, 1.123166561126709, 1.1231637001037598, 1.1231639385223389, 1.1231738328933716, 1.123215675354004, 2.2796521186828613, 3.042313575744629, 1.7003490924835205, 1.7768707275390625, 1.7768893241882324, 1.7893075942993164, 1.7893133163452148, 1.8987255096435547, 6.4380950927734375, 6.735871315002441, 3.9055724143981934, 2.5649325847625732, 7.457757949829102, 10.3821439743042, 6.591224670410156, 7.6426801681518555, 2.6748194694519043, 3.1421597003936768], \"loglift\": [30.0, 29.0, 28.0, 27.0, 26.0, 25.0, 24.0, 23.0, 22.0, 21.0, 20.0, 19.0, 18.0, 17.0, 16.0, 15.0, 14.0, 13.0, 12.0, 11.0, 10.0, 9.0, 8.0, 7.0, 6.0, 5.0, 4.0, 3.0, 2.0, 1.0, 0.8698999881744385, 0.8310999870300293, 0.8310999870300293, 0.8309000134468079, 0.8309000134468079, 0.8307999968528748, 0.8307999968528748, 0.7603999972343445, 0.7603999972343445, 0.7602999806404114, 0.7602999806404114, 0.760200023651123, 0.760200023651123, 0.7601000070571899, 0.7601000070571899, 0.7601000070571899, 0.7599999904632568, 0.7598000168800354, 0.5929999947547913, 0.5929999947547913, 0.5929999947547913, 0.5929999947547913, 0.5929999947547913, 0.5929999947547913, 0.5929999947547913, 0.5929999947547913, 0.5929999947547913, 0.5929999947547913, 0.5929999947547913, 0.5929999947547913, 0.5855000019073486, 0.5679000020027161, 0.567799985408783, 0.5580000281333923, 0.49459999799728394, 0.36820000410079956, 0.49410000443458557, 0.49410000443458557, 0.3264000117778778, 0.2378000020980835, 0.31779998540878296, 0.17910000681877136, 0.11990000307559967, 0.03099999949336052, 0.3393999934196472, 0.17919999361038208, 0.11640000343322754, 1.3213000297546387, 1.2384999990463257, 1.2384999990463257, 1.2384999990463257, 1.2383999824523926, 1.2383999824523926, 1.0464999675750732, 1.0464999675750732, 1.0464999675750732, 1.0464999675750732, 1.0464999675750732, 1.0464999675750732, 1.0464999675750732, 1.0464999675750732, 1.0464999675750732, 1.0464999675750732, 1.0464999675750732, 1.0464999675750732, 1.0464999675750732, 1.0464999675750732, 1.0463999509811401, 1.0463999509811401, 1.0463999509811401, 1.0463999509811401, 1.0463999509811401, 1.0463999509811401, 1.0463999509811401, 1.0463999509811401, 1.0463999509811401, 1.0463999509811401, 1.014299988746643, 0.9514999985694885, 0.8234999775886536, 0.9060999751091003, 0.7886000275611877, 0.6384999752044678, 0.35499998927116394, 0.714900016784668, 0.38269999623298645, 0.3154999911785126, 0.15150000154972076, -0.026200000196695328, 0.028599999845027924, -0.11969999969005585, 0.7317000031471252, 0.728600025177002, 0.7275999784469604, 0.3874000012874603, 0.17640000581741333, -0.663100004196167, 0.09049999713897705, 0.38029998540878296, -0.11670000106096268, 0.11259999871253967, 1.3712999820709229, 1.3479000329971313, 1.3479000329971313, 1.347599983215332, 1.3473000526428223, 1.3472000360488892, 1.1526999473571777, 1.1526999473571777, 1.1526999473571777, 1.1526999473571777, 1.1521999835968018, 1.1521999835968018, 1.1521999835968018, 1.1521999835968018, 1.1520999670028687, 1.1520999670028687, 1.1520999670028687, 1.1520999670028687, 1.1520999670028687, 1.1520999670028687, 1.1520999670028687, 1.1520999670028687, 1.1520999670028687, 1.1520999670028687, 1.1520999670028687, 1.1520999670028687, 1.1519999504089355, 1.1519999504089355, 1.1519999504089355, 1.1519999504089355, 1.1519999504089355, 1.0126999616622925, 0.8878999948501587, 1.0110000371932983, 0.7925000190734863, 0.5853999853134155, 0.4781000018119812, 0.0010999999940395355, -0.023099999874830246, -0.3292999863624573, 0.46810001134872437, 0.46790000796318054, 0.7821999788284302, 0.4339999854564667, 0.6807000041007996, -0.21619999408721924, 0.041999999433755875, 0.6805999875068665, 0.6804999709129333, -0.2378000020980835, 0.20640000700950623, 1.69760000705719, 1.6970000267028809, 1.5073000192642212, 1.4816999435424805, 1.481600046157837, 1.481600046157837, 1.481600046157837, 1.481600046157837, 1.481600046157837, 1.4815000295639038, 1.4815000295639038, 1.4815000295639038, 1.4815000295639038, 1.4815000295639038, 1.4814000129699707, 1.4807000160217285, 1.4804999828338623, 1.4803999662399292, 1.480299949645996, 1.4801000356674194, 1.4801000356674194, 1.38100004196167, 1.1402000188827515, 1.0511000156402588, 1.0496000051498413, 1.0484999418258667, 1.0469000339508057, 1.0429999828338623, 0.9855999946594238, 0.9853000044822693, 0.9236999750137329, 0.8299999833106995, 0.5644000172615051, 0.3930000066757202, 0.28380000591278076, 0.14350000023841858, 0.5282999873161316, 0.47749999165534973, 0.4772000014781952, 0.4733000099658966, 0.7440000176429749, 0.29919999837875366, 1.9412000179290771, 1.6973999738693237, 1.6973999738693237, 1.6972999572753906, 1.6972999572753906, 1.6972999572753906, 1.6972999572753906, 1.6972999572753906, 1.6972999572753906, 1.6972999572753906, 1.6972999572753906, 1.6972999572753906, 1.697100043296814, 1.6969000101089478, 1.6967999935150146, 1.6967999935150146, 1.6966999769210815, 1.6966999769210815, 1.6966999769210815, 1.6965999603271484, 1.6965999603271484, 1.6964999437332153, 1.5957000255584717, 1.3080999851226807, 1.282099962234497, 1.2386000156402588, 1.2386000156402588, 1.2316999435424805, 1.231600046157837, 1.1725000143051147, 0.9323999881744385, 0.5127000212669373, 0.45170000195503235, 0.8718000054359436, -0.19580000638961792, -0.5267000198364258, -0.07249999791383743, -0.22059999406337738, 0.829200029373169, 0.6680999994277954], \"logprob\": [30.0, 29.0, 28.0, 27.0, 26.0, 25.0, 24.0, 23.0, 22.0, 21.0, 20.0, 19.0, 18.0, 17.0, 16.0, 15.0, 14.0, 13.0, 12.0, 11.0, 10.0, 9.0, 8.0, 7.0, 6.0, 5.0, 4.0, 3.0, 2.0, 1.0, -4.132900238037109, -4.404399871826172, -4.404399871826172, -4.404600143432617, -4.404699802398682, -4.404699802398682, -4.404799938201904, -4.7789998054504395, -4.7789998054504395, -4.779099941253662, -4.779099941253662, -4.779300212860107, -4.779300212860107, -4.779300212860107, -4.779399871826172, -4.779399871826172, -4.7795000076293945, -3.9189000129699707, -5.385200023651123, -5.385200023651123, -5.385200023651123, -5.385200023651123, -5.385200023651123, -5.385200023651123, -5.385200023651123, -5.385200023651123, -5.385200023651123, -5.385200023651123, -5.385200023651123, -5.385200023651123, -4.132299900054932, -4.132199764251709, -4.132400035858154, -4.778900146484375, -3.918800115585327, -3.918800115585327, -4.779099941253662, -4.779200077056885, -4.1321001052856445, -3.7428998947143555, -4.404300212860107, -4.132400035858154, -4.4039998054504395, -4.4039998054504395, -4.778800010681152, -4.779200077056885, -4.779200077056885, -4.031899929046631, -4.406700134277344, -4.406700134277344, -4.406700134277344, -4.406700134277344, -4.406700134277344, -5.012700080871582, -5.012700080871582, -5.012700080871582, -5.012700080871582, -5.012700080871582, -5.012700080871582, -5.012700080871582, -5.012700080871582, -5.012700080871582, -5.012700080871582, -5.012700080871582, -5.012700080871582, -5.012700080871582, -5.012700080871582, -5.012800216674805, -5.012800216674805, -5.012800216674805, -5.012800216674805, -5.012800216674805, -5.012800216674805, -5.012800216674805, -5.012800216674805, -5.012800216674805, -5.012800216674805, -3.603600025177002, -4.406400203704834, -3.9305999279022217, -4.406300067901611, -4.328000068664551, -4.006199836730957, -3.625699996948242, -4.406499862670898, -4.406499862670898, -4.406499862670898, -4.372399806976318, -4.337699890136719, -4.406400203704834, -4.406700134277344, -4.956600189208984, -4.95989990234375, -4.960999965667725, -4.9558000564575195, -4.946499824523926, -4.9994001388549805, -5.0117998123168945, -5.01230001449585, -5.01230001449585, -5.012499809265137, -3.4500999450683594, -4.309899806976318, -4.309899806976318, -4.310299873352051, -4.3105998039245605, -4.310699939727783, -4.916100025177002, -4.916100025177002, -4.916100025177002, -4.916100025177002, -4.916600227355957, -4.916600227355957, -4.9166998863220215, -4.9166998863220215, -4.9166998863220215, -4.9166998863220215, -4.9166998863220215, -4.9166998863220215, -4.9166998863220215, -4.9166998863220215, -4.916800022125244, -4.9166998863220215, -4.916800022125244, -4.916800022125244, -4.916800022125244, -4.916800022125244, -4.916800022125244, -4.916800022125244, -4.916900157928467, -4.916800022125244, -4.916800022125244, -3.9351999759674072, -3.4482998847961426, -4.3105998039245605, -4.309700012207031, -4.310200214385986, -4.311100006103516, -4.310400009155273, -4.310100078582764, -4.309999942779541, -4.915299892425537, -4.915500164031982, -4.915999889373779, -4.916200160980225, -4.916299819946289, -4.916299819946289, -4.916299819946289, -4.916399955749512, -4.916399955749512, -4.916500091552734, -4.916500091552734, -4.042699813842773, -4.0432000160217285, -3.669600009918213, -4.64870023727417, -4.64870023727417, -4.64870023727417, -4.648799896240234, -4.648799896240234, -4.648799896240234, -4.648799896240234, -4.648799896240234, -4.648799896240234, -4.648799896240234, -4.648799896240234, -4.648900032043457, -4.649600028991699, -4.649799823760986, -4.649899959564209, -4.650000095367432, -4.650100231170654, -4.650100231170654, -4.042399883270264, -4.649700164794922, -4.647299766540527, -4.648600101470947, -4.649700164794922, -4.651199817657471, -4.648600101470947, -4.6493000984191895, -4.649600028991699, -4.040599822998047, -3.6939001083374023, -4.0802998542785645, -4.041999816894531, -4.0524001121521, -4.645699977874756, -4.647600173950195, -4.647600173950195, -4.647900104522705, -4.648200035095215, -4.648600101470947, -4.648600101470947, -3.90120005607605, -4.507299900054932, -4.507400035858154, -4.507400035858154, -4.507400035858154, -4.507400035858154, -4.507400035858154, -4.507400035858154, -4.507400035858154, -4.507400035858154, -4.507400035858154, -4.507400035858154, -4.507599830627441, -4.507800102233887, -4.507800102233887, -4.507800102233887, -4.507900238037109, -4.507900238037109, -4.507900238037109, -4.507999897003174, -4.507999897003174, -4.507999897003174, -3.901099920272827, -3.9000000953674316, -4.507900238037109, -4.507299900054932, -4.507299900054932, -4.507199764251709, -4.507299900054932, -4.5071001052856445, -3.52620005607605, -3.900599956512451, -4.506700038909912, -4.506999969482422, -4.507299900054932, -4.507400035858154, -4.507500171661377, -4.507599830627441, -4.507699966430664, -4.507699966430664]}, \"token.table\": {\"Topic\": [1, 2, 4, 5, 1, 4, 4, 2, 4, 5, 3, 3, 2, 1, 5, 5, 5, 5, 1, 5, 1, 2, 4, 2, 2, 4, 1, 2, 1, 2, 4, 1, 4, 5, 1, 3, 5, 3, 5, 5, 1, 2, 3, 5, 3, 5, 2, 1, 2, 3, 4, 1, 2, 3, 4, 3, 4, 2, 3, 1, 4, 1, 3, 4, 5, 5, 1, 1, 3, 2, 1, 2, 3, 1, 3, 4, 3, 2, 4, 4, 2, 5, 1, 2, 1, 5, 3, 4, 1, 1, 3, 4, 1, 2, 3, 5, 1, 1, 1, 4, 3, 4, 1, 5, 4, 4, 1, 2, 3, 4, 2, 1, 3, 5, 2, 1, 2, 3, 4, 3, 5, 1, 3, 5, 1, 1, 2, 3, 3, 3, 3, 1, 4, 2, 1, 3, 3, 3, 1, 3, 4, 1, 3, 4, 4, 4, 1, 4, 3, 1, 2, 2, 2, 1, 1, 3, 4, 1, 3, 4, 5, 2, 1, 3, 5, 4, 1, 2, 3, 1, 3, 5, 4, 2, 1, 1, 2, 3, 2, 3, 5, 4, 5, 4, 2, 3, 4, 2, 4, 1, 2, 4, 5, 3, 1, 2, 5, 2, 5, 1, 3, 2, 2, 1, 2, 4, 5, 4, 3, 1, 2, 3, 4, 1, 1, 1, 1, 2, 3, 3, 1, 2, 4, 1, 3, 1, 2, 5, 2, 4, 3, 4, 1, 5, 2, 1, 2, 3, 2, 2, 1, 3, 3, 4, 1, 3, 5, 3, 3, 2, 1, 2, 3, 4, 5, 3, 3, 5, 1, 2, 5, 3, 4, 2, 1, 2, 3, 4, 5, 2, 5, 1, 2, 4, 1, 1, 2, 3, 4, 3, 2, 2, 5, 2, 2, 3, 4, 2, 1, 3, 1, 2, 4, 5, 1, 1, 1, 1, 2, 3, 4, 1, 2, 4, 3, 5, 3, 2, 2, 5], \"Freq\": [0.7015920281410217, 0.35079601407051086, 0.5881145000457764, 0.5881145000457764, 0.9155848026275635, 0.8265696167945862, 0.8265871405601501, 0.5314021110534668, 0.5314021110534668, 0.8903510570526123, 0.5153641104698181, 0.777289092540741, 0.7698466181755066, 0.9156031608581543, 0.8903341293334961, 0.8903465867042542, 0.8903651237487793, 0.8904281854629517, 0.6756606101989746, 0.890359103679657, 0.33163753151893616, 0.33163753151893616, 0.33163753151893616, 0.7698524594306946, 0.533042311668396, 0.533042311668396, 0.36430084705352783, 0.5464512705802917, 0.3762247562408447, 0.3762247562408447, 0.3762247562408447, 0.5036377906799316, 0.5036377906799316, 0.8904353380203247, 0.6008450388908386, 0.3004225194454193, 0.3004225194454193, 0.7773129940032959, 0.8903399109840393, 0.8904253244400024, 0.48159608244895935, 0.2889576554298401, 0.09631922096014023, 0.09631922096014023, 0.7772881388664246, 0.8904277682304382, 0.7698466777801514, 0.274885892868042, 0.137442946434021, 0.4123288691043854, 0.137442946434021, 0.3025239408016205, 0.3025239408016205, 0.3025239408016205, 0.3025239408016205, 0.7773139476776123, 0.5596340298652649, 0.3818133771419525, 0.3818133771419525, 0.5036335587501526, 0.5036335587501526, 0.4659763276576996, 0.15532544255256653, 0.15532544255256653, 0.31065088510513306, 0.890300989151001, 0.6756582260131836, 0.9156296849250793, 0.7773094177246094, 0.7698520421981812, 0.59332275390625, 0.1977742463350296, 0.1977742463350296, 0.9155761003494263, 0.5366320610046387, 0.5366320610046387, 0.7773160338401794, 0.5314366817474365, 0.5314366817474365, 0.826608419418335, 0.7698466181755066, 0.8904291987419128, 0.6756482124328613, 0.5088412165641785, 0.9155763983726501, 0.8904332518577576, 0.6697759032249451, 0.2232586294412613, 0.6756697297096252, 0.3788560628890991, 0.3788560628890991, 0.3788560628890991, 0.5233765840530396, 0.1308441460132599, 0.1308441460132599, 0.1308441460132599, 0.6756107211112976, 0.675611674785614, 0.7099625468254089, 0.8265995979309082, 0.5365319848060608, 0.5365319848060608, 0.7477140426635742, 0.3738570213317871, 0.8266181945800781, 0.8265441060066223, 0.3025150001049042, 0.3025150001049042, 0.3025150001049042, 0.3025150001049042, 0.5088393092155457, 0.4848967492580414, 0.4848967492580414, 0.6198070645332336, 0.7698514461517334, 0.3018557131290436, 0.3018557131290436, 0.3018557131290436, 0.3018557131290436, 0.5627812743186951, 0.5627812743186951, 0.3916783928871155, 0.3916783928871155, 0.3916783928871155, 0.7099624276161194, 0.5933178067207336, 0.19777260720729828, 0.19777260720729828, 0.777294933795929, 0.7773150205612183, 0.7772947549819946, 0.31855645775794983, 0.6371129155158997, 0.7600021958351135, 0.48490190505981445, 0.48490190505981445, 0.7773128747940063, 0.7773162126541138, 0.36817434430122375, 0.36817434430122375, 0.8266013264656067, 0.603938102722168, 0.20131270587444305, 0.20131270587444305, 0.8265971541404724, 0.8265429735183716, 0.9155824184417725, 0.8266075849533081, 0.7773164510726929, 0.3648315966129303, 0.3648315966129303, 0.7698466181755066, 0.7698501348495483, 0.8030440807342529, 0.2533595561981201, 0.5067191123962402, 0.2533595561981201, 0.5120888352394104, 0.2560444176197052, 0.2560444176197052, 0.2560444176197052, 0.7698466777801514, 0.3916815519332886, 0.3916815519332886, 0.3916815519332886, 0.8266038298606873, 0.48096293210983276, 0.24048146605491638, 0.24048146605491638, 0.32869720458984375, 0.32869720458984375, 0.32869720458984375, 0.826612114906311, 0.7698466181755066, 0.9156233668327332, 0.4174744784832001, 0.4174744784832001, 0.7773187756538391, 0.769852876663208, 0.5627871155738831, 0.5627871155738831, 0.8266198635101318, 0.8904300332069397, 0.8266131281852722, 0.39527568221092224, 0.39527568221092224, 0.39527568221092224, 0.769846498966217, 0.8265969753265381, 0.5938355922698975, 0.14845889806747437, 0.14845889806747437, 0.14845889806747437, 0.7772887349128723, 0.709963321685791, 0.5588735938072205, 0.5588735938072205, 0.769846498966217, 0.8903421759605408, 0.7099626064300537, 0.777313232421875, 0.7698466181755066, 0.769846498966217, 0.3013857305049896, 0.3013857305049896, 0.3013857305049896, 0.8903419971466064, 0.8265517950057983, 0.7773168683052063, 0.21619383990764618, 0.21619383990764618, 0.21619383990764618, 0.21619383990764618, 0.9156286716461182, 0.7099632620811462, 0.7099632620811462, 0.7015873789787292, 0.3507936894893646, 0.7773125171661377, 0.7773106694221497, 0.29994288086891174, 0.5998857617378235, 0.29994288086891174, 0.9156153798103333, 0.777294933795929, 0.38987380266189575, 0.38987380266189575, 0.38987380266189575, 0.4076444208621979, 0.4076444208621979, 0.7773170471191406, 0.8265829086303711, 0.5266690850257874, 0.5266690850257874, 0.7698466181755066, 0.2956569492816925, 0.2956569492816925, 0.2956569492816925, 0.7698516249656677, 0.7698525190353394, 0.7099624872207642, 0.777289092540741, 0.5365799069404602, 0.5365799069404602, 0.7743129134178162, 0.19357822835445404, 0.8903903365135193, 0.5153829455375671, 0.7772897481918335, 0.769846498966217, 0.40226566791534424, 0.2681771218776703, 0.13408856093883514, 0.13408856093883514, 0.13408856093883514, 0.5153591632843018, 0.5153615474700928, 0.8904291391372681, 0.9156559705734253, 0.43866342306137085, 0.43866342306137085, 0.7772948741912842, 0.5596112012863159, 0.76985102891922, 0.30343374609947205, 0.15171687304973602, 0.15171687304973602, 0.15171687304973602, 0.15171687304973602, 0.5088398456573486, 0.8904387354850769, 0.3742166757583618, 0.3742166757583618, 0.1871083378791809, 0.7099625468254089, 0.25757303833961487, 0.25757303833961487, 0.25757303833961487, 0.25757303833961487, 0.7772901058197021, 0.7698466181755066, 0.5588753819465637, 0.5588753819465637, 0.5088433623313904, 0.5088402032852173, 0.536596953868866, 0.536596953868866, 0.76985102891922, 0.48489516973495483, 0.48489516973495483, 0.31825244426727295, 0.31825244426727295, 0.31825244426727295, 0.31825244426727295, 0.7099624872207642, 0.7099632620811462, 0.7099626064300537, 0.40431609749794006, 0.20215804874897003, 0.20215804874897003, 0.8265668749809265, 0.7099625468254089, 0.5312948822975159, 0.5312948822975159, 0.7773377299308777, 0.8904527425765991, 0.5153641700744629, 0.7698508501052856, 0.7698466181755066, 0.8904219269752502], \"Term\": [\"1\", \"1\", \"100\", \"100\", \"130\", \"14\", \"2000\", \"2001\", \"2001\", \"53\", \"aden\", \"adven\", \"afrika\", \"akibat\", \"ambul\", \"amc\", \"amsterdam\", \"anak\", \"anggota\", \"angkut\", \"api\", \"api\", \"api\", \"arafat\", \"asia\", \"asia\", \"awal\", \"awal\", \"bagai\", \"bagai\", \"bagai\", \"bahan\", \"bahan\", \"bahkan\", \"bakar\", \"bakar\", \"bakar\", \"balas\", \"bantu\", \"barat\", \"baru\", \"baru\", \"baru\", \"baru\", \"bekas\", \"binyamin\", \"biru\", \"bom\", \"bom\", \"bom\", \"bom\", \"buah\", \"buah\", \"buah\", \"buah\", \"buat\", \"bulan\", \"bunuh\", \"bunuh\", \"cara\", \"cara\", \"cedera\", \"cedera\", \"cedera\", \"cedera\", \"celaka\", \"cina\", \"demonstrasi\", \"dendam\", \"depan\", \"dini\", \"dini\", \"dini\", \"diri\", \"duduk\", \"duduk\", \"duga\", \"dunia\", \"dunia\", \"dushambe\", \"eiffel\", \"ekstremis\", \"falun\", \"fatah\", \"frank\", \"gencat\", \"gereja\", \"gereja\", \"gong\", \"guncang\", \"guncang\", \"guncang\", \"hari\", \"hari\", \"hari\", \"hari\", \"hemeltje\", \"het\", \"hindar\", \"ibadat\", \"ibu\", \"ibu\", \"ijsselmuiden\", \"ijsselmuiden\", \"ikut\", \"ingar-bingar\", \"insiden\", \"insiden\", \"insiden\", \"insiden\", \"israel\", \"istanbul\", \"istanbul\", \"istri\", \"jabat\", \"jam\", \"jam\", \"jam\", \"jam\", \"jelang\", \"jelang\", \"jendela\", \"jendela\", \"jendela\", \"kaca\", \"kafe\", \"kafe\", \"kafe\", \"katolik\", \"kaum\", \"keliling\", \"kembang\", \"kembang\", \"kenal\", \"kira\", \"kira\", \"kiri\", \"klaim\", \"korban\", \"korban\", \"korea\", \"kota\", \"kota\", \"kota\", \"kristen\", \"kurun\", \"lalap\", \"lalu\", \"lama\", \"landa\", \"landa\", \"lapang\", \"lapor\", \"larang\", \"ledak\", \"ledak\", \"ledak\", \"lima\", \"lima\", \"lima\", \"lima\", \"limut\", \"loncat\", \"loncat\", \"loncat\", \"luar\", \"malam\", \"malam\", \"malam\", \"mati\", \"mati\", \"mati\", \"mayoritas\", \"menara\", \"meski\", \"milenium\", \"milenium\", \"militan\", \"militer\", \"minggu\", \"minggu\", \"misi\", \"mobil\", \"muslim\", \"negara\", \"negara\", \"negara\", \"new\", \"oktober\", \"orang\", \"orang\", \"orang\", \"orang\", \"ortodoks\", \"paksa\", \"palestina\", \"palestina\", \"paris\", \"paruh\", \"pecah\", \"penjara\", \"perancis\", \"perang\", \"peristiwa\", \"peristiwa\", \"peristiwa\", \"perlu\", \"pesta\", \"pihak\", \"polisi\", \"polisi\", \"polisi\", \"polisi\", \"pukul\", \"puluh\", \"pusat\", \"raya\", \"raya\", \"rekan\", \"rencana\", \"riah\", \"riah\", \"riah\", \"ribu\", \"rontok\", \"rumah\", \"rumah\", \"rumah\", \"rupa\", \"rupa\", \"rusuh\", \"sabtu\", \"sakit\", \"sakit\", \"salju\", \"satu\", \"satu\", \"satu\", \"sayap\", \"sekjen\", \"selamat\", \"selang\", \"seluruh\", \"seluruh\", \"senin\", \"senin\", \"senjata\", \"serang\", \"soviet\", \"square\", \"tahun\", \"tahun\", \"tahun\", \"tahun\", \"tahun\", \"tajikistan\", \"tak\", \"talia\", \"tangkap\", \"tembak\", \"tembak\", \"tembok\", \"tempat\", \"temu\", \"tengah\", \"tengah\", \"tengah\", \"tengah\", \"tengah\", \"tentara\", \"tepi\", \"tewas\", \"tewas\", \"tewas\", \"tiba\", \"tiga\", \"tiga\", \"tiga\", \"tiga\", \"timbul\", \"times\", \"timur\", \"timur\", \"tragis\", \"tsabit\", \"tujuh\", \"tujuh\", \"tulkarem\", \"turki\", \"turki\", \"turut\", \"turut\", \"turut\", \"turut\", \"umum\", \"ungsi\", \"upaya\", \"volendam\", \"volendam\", \"volendam\", \"waktu\", \"wali\", \"warna\", \"warna\", \"wietse\", \"yahudi\", \"yaman\", \"yasser\", \"york\", \"zeev\"]}, \"R\": 30, \"lambda.step\": 0.01, \"plot.opts\": {\"xlab\": \"PC1\", \"ylab\": \"PC2\"}, \"topic.order\": [4, 5, 3, 1, 2]};\n",
       "\n",
       "function LDAvis_load_lib(url, callback){\n",
       "  var s = document.createElement('script');\n",
       "  s.src = url;\n",
       "  s.async = true;\n",
       "  s.onreadystatechange = s.onload = callback;\n",
       "  s.onerror = function(){console.warn(\"failed to load library \" + url);};\n",
       "  document.getElementsByTagName(\"head\")[0].appendChild(s);\n",
       "}\n",
       "\n",
       "if(typeof(LDAvis) !== \"undefined\"){\n",
       "   // already loaded: just create the visualization\n",
       "   !function(LDAvis){\n",
       "       new LDAvis(\"#\" + \"ldavis_el644826554073363282194990616\", ldavis_el644826554073363282194990616_data);\n",
       "   }(LDAvis);\n",
       "}else if(typeof define === \"function\" && define.amd){\n",
       "   // require.js is available: use it to load d3/LDAvis\n",
       "   require.config({paths: {d3: \"https://cdnjs.cloudflare.com/ajax/libs/d3/3.5.5/d3.min\"}});\n",
       "   require([\"d3\"], function(d3){\n",
       "      window.d3 = d3;\n",
       "      LDAvis_load_lib(\"https://cdn.rawgit.com/bmabey/pyLDAvis/files/ldavis.v1.0.0.js\", function(){\n",
       "        new LDAvis(\"#\" + \"ldavis_el644826554073363282194990616\", ldavis_el644826554073363282194990616_data);\n",
       "      });\n",
       "    });\n",
       "}else{\n",
       "    // require.js not available: dynamically load d3 & LDAvis\n",
       "    LDAvis_load_lib(\"https://cdnjs.cloudflare.com/ajax/libs/d3/3.5.5/d3.min.js\", function(){\n",
       "         LDAvis_load_lib(\"https://cdn.rawgit.com/bmabey/pyLDAvis/files/ldavis.v1.0.0.js\", function(){\n",
       "                 new LDAvis(\"#\" + \"ldavis_el644826554073363282194990616\", ldavis_el644826554073363282194990616_data);\n",
       "            })\n",
       "         });\n",
       "}\n",
       "</script>"
      ],
      "text/plain": [
       "<IPython.core.display.HTML object>"
      ]
     },
     "execution_count": 31,
     "metadata": {},
     "output_type": "execute_result"
    }
   ],
   "source": [
    "pyLDAvis.display(lda_display)"
   ]
  },
  {
   "cell_type": "markdown",
   "metadata": {},
   "source": [
    "Berikan penjelasan"
   ]
  },
  {
   "cell_type": "markdown",
   "metadata": {},
   "source": [
    "# END"
   ]
  }
 ],
 "metadata": {
  "kernelspec": {
   "display_name": "Python 3",
   "language": "python",
   "name": "python3"
  },
  "language_info": {
   "codemirror_mode": {
    "name": "ipython",
    "version": 3
   },
   "file_extension": ".py",
   "mimetype": "text/x-python",
   "name": "python",
   "nbconvert_exporter": "python",
   "pygments_lexer": "ipython3",
   "version": "3.7.3"
  }
 },
 "nbformat": 4,
 "nbformat_minor": 4
}
